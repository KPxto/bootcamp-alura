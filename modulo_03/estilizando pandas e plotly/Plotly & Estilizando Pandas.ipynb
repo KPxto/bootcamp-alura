{
 "cells": [
  {
   "cell_type": "code",
   "execution_count": 1,
   "metadata": {},
   "outputs": [],
   "source": [
    "import pandas as pd\n",
    "import numpy as np\n",
    "import plotly.graph_objects as go\n",
    "\n",
    "pd.options.display.float_format = '{:.2f}'.format"
   ]
  },
  {
   "cell_type": "code",
   "execution_count": 2,
   "metadata": {},
   "outputs": [],
   "source": [
    "url='https://raw.githubusercontent.com/alura-cursos/agendamento-hospitalar/main/dados/A151346189_28_143_208.csv'\n",
    "url2='https://raw.githubusercontent.com/alura-cursos/agendamento-hospitalar/main/dados/A160324189_28_143_208.csv'"
   ]
  },
  {
   "cell_type": "markdown",
   "metadata": {},
   "source": [
    "# Plotly"
   ]
  },
  {
   "cell_type": "code",
   "execution_count": 3,
   "metadata": {},
   "outputs": [
    {
     "name": "stderr",
     "output_type": "stream",
     "text": [
      "<ipython-input-3-2fe5ad341e9f>:1: ParserWarning: Falling back to the 'python' engine because the 'c' engine does not support skipfooter; you can avoid this warning by specifying engine='python'.\n",
      "  dados = pd.read_csv(url, encoding=\"ISO-8859-1\",\n"
     ]
    },
    {
     "data": {
      "text/html": [
       "<div>\n",
       "<style scoped>\n",
       "    .dataframe tbody tr th:only-of-type {\n",
       "        vertical-align: middle;\n",
       "    }\n",
       "\n",
       "    .dataframe tbody tr th {\n",
       "        vertical-align: top;\n",
       "    }\n",
       "\n",
       "    .dataframe thead th {\n",
       "        text-align: right;\n",
       "    }\n",
       "</style>\n",
       "<table border=\"1\" class=\"dataframe\">\n",
       "  <thead>\n",
       "    <tr style=\"text-align: right;\">\n",
       "      <th></th>\n",
       "      <th>Unidade da Federação</th>\n",
       "      <th>2008/Jan</th>\n",
       "      <th>2008/Fev</th>\n",
       "      <th>2008/Mar</th>\n",
       "      <th>2008/Abr</th>\n",
       "      <th>2008/Mai</th>\n",
       "      <th>2008/Jun</th>\n",
       "      <th>2008/Jul</th>\n",
       "      <th>2008/Ago</th>\n",
       "      <th>2008/Set</th>\n",
       "      <th>...</th>\n",
       "      <th>2019/Dez</th>\n",
       "      <th>2020/Jan</th>\n",
       "      <th>2020/Fev</th>\n",
       "      <th>2020/Mar</th>\n",
       "      <th>2020/Abr</th>\n",
       "      <th>2020/Mai</th>\n",
       "      <th>2020/Jun</th>\n",
       "      <th>2020/Jul</th>\n",
       "      <th>2020/Ago</th>\n",
       "      <th>Total</th>\n",
       "    </tr>\n",
       "  </thead>\n",
       "  <tbody>\n",
       "    <tr>\n",
       "      <th>0</th>\n",
       "      <td>11 Rondônia</td>\n",
       "      <td>1388528.39</td>\n",
       "      <td>2931283.42</td>\n",
       "      <td>1541682.52</td>\n",
       "      <td>1525314.96</td>\n",
       "      <td>1645953.84</td>\n",
       "      <td>1406150.68</td>\n",
       "      <td>3065279.01</td>\n",
       "      <td>3231494.61</td>\n",
       "      <td>3117178.63</td>\n",
       "      <td>...</td>\n",
       "      <td>8085025.66</td>\n",
       "      <td>9221412.18</td>\n",
       "      <td>7493310.88</td>\n",
       "      <td>8092260.11</td>\n",
       "      <td>7273843.63</td>\n",
       "      <td>7652120.28</td>\n",
       "      <td>8725530.68</td>\n",
       "      <td>11152107.08</td>\n",
       "      <td>10285455.78</td>\n",
       "      <td>929129659.72</td>\n",
       "    </tr>\n",
       "    <tr>\n",
       "      <th>1</th>\n",
       "      <td>12 Acre</td>\n",
       "      <td>902416.00</td>\n",
       "      <td>1497206.26</td>\n",
       "      <td>1794028.48</td>\n",
       "      <td>1730469.42</td>\n",
       "      <td>1819443.92</td>\n",
       "      <td>1828496.00</td>\n",
       "      <td>2511754.59</td>\n",
       "      <td>2089107.14</td>\n",
       "      <td>2275708.53</td>\n",
       "      <td>...</td>\n",
       "      <td>2874871.28</td>\n",
       "      <td>3331803.55</td>\n",
       "      <td>3417691.07</td>\n",
       "      <td>3076003.20</td>\n",
       "      <td>2286642.60</td>\n",
       "      <td>2896340.24</td>\n",
       "      <td>3045245.80</td>\n",
       "      <td>3915193.20</td>\n",
       "      <td>-</td>\n",
       "      <td>420668039.63</td>\n",
       "    </tr>\n",
       "    <tr>\n",
       "      <th>2</th>\n",
       "      <td>13 Amazonas</td>\n",
       "      <td>4735529.42</td>\n",
       "      <td>7118990.57</td>\n",
       "      <td>8196635.49</td>\n",
       "      <td>8259378.42</td>\n",
       "      <td>7831399.90</td>\n",
       "      <td>8477273.62</td>\n",
       "      <td>9368858.72</td>\n",
       "      <td>9352532.70</td>\n",
       "      <td>9363099.35</td>\n",
       "      <td>...</td>\n",
       "      <td>14346553.60</td>\n",
       "      <td>16018459.07</td>\n",
       "      <td>14913745.37</td>\n",
       "      <td>15068304.35</td>\n",
       "      <td>13509579.29</td>\n",
       "      <td>19658585.46</td>\n",
       "      <td>20897542.93</td>\n",
       "      <td>19346450.18</td>\n",
       "      <td>14726443.67</td>\n",
       "      <td>1771654871.23</td>\n",
       "    </tr>\n",
       "    <tr>\n",
       "      <th>3</th>\n",
       "      <td>14 Roraima</td>\n",
       "      <td>657889.53</td>\n",
       "      <td>777939.31</td>\n",
       "      <td>718688.03</td>\n",
       "      <td>839994.39</td>\n",
       "      <td>862347.96</td>\n",
       "      <td>832440.66</td>\n",
       "      <td>996693.09</td>\n",
       "      <td>894271.18</td>\n",
       "      <td>910424.17</td>\n",
       "      <td>...</td>\n",
       "      <td>3097113.21</td>\n",
       "      <td>3059823.80</td>\n",
       "      <td>2912519.98</td>\n",
       "      <td>2937346.43</td>\n",
       "      <td>2868820.96</td>\n",
       "      <td>2752228.26</td>\n",
       "      <td>3401864.29</td>\n",
       "      <td>3015488.30</td>\n",
       "      <td>2826486.18</td>\n",
       "      <td>305010883.18</td>\n",
       "    </tr>\n",
       "    <tr>\n",
       "      <th>4</th>\n",
       "      <td>15 Pará</td>\n",
       "      <td>18864744.11</td>\n",
       "      <td>19553758.20</td>\n",
       "      <td>21937342.70</td>\n",
       "      <td>20842829.69</td>\n",
       "      <td>23249952.88</td>\n",
       "      <td>23240687.56</td>\n",
       "      <td>24002223.56</td>\n",
       "      <td>23341218.03</td>\n",
       "      <td>25172261.32</td>\n",
       "      <td>...</td>\n",
       "      <td>35925899.01</td>\n",
       "      <td>34345207.63</td>\n",
       "      <td>37384336.94</td>\n",
       "      <td>35512568.15</td>\n",
       "      <td>28217249.66</td>\n",
       "      <td>32617541.05</td>\n",
       "      <td>41625331.28</td>\n",
       "      <td>38438873.79</td>\n",
       "      <td>39911193.02</td>\n",
       "      <td>4437115730.71</td>\n",
       "    </tr>\n",
       "  </tbody>\n",
       "</table>\n",
       "<p>5 rows × 154 columns</p>\n",
       "</div>"
      ],
      "text/plain": [
       "  Unidade da Federação    2008/Jan    2008/Fev    2008/Mar    2008/Abr  \\\n",
       "0          11 Rondônia  1388528.39  2931283.42  1541682.52  1525314.96   \n",
       "1              12 Acre   902416.00  1497206.26  1794028.48  1730469.42   \n",
       "2          13 Amazonas  4735529.42  7118990.57  8196635.49  8259378.42   \n",
       "3           14 Roraima   657889.53   777939.31   718688.03   839994.39   \n",
       "4              15 Pará 18864744.11 19553758.20 21937342.70 20842829.69   \n",
       "\n",
       "     2008/Mai    2008/Jun    2008/Jul    2008/Ago    2008/Set  ...  \\\n",
       "0  1645953.84  1406150.68  3065279.01  3231494.61  3117178.63  ...   \n",
       "1  1819443.92  1828496.00  2511754.59  2089107.14  2275708.53  ...   \n",
       "2  7831399.90  8477273.62  9368858.72  9352532.70  9363099.35  ...   \n",
       "3   862347.96   832440.66   996693.09   894271.18   910424.17  ...   \n",
       "4 23249952.88 23240687.56 24002223.56 23341218.03 25172261.32  ...   \n",
       "\n",
       "     2019/Dez    2020/Jan    2020/Fev    2020/Mar    2020/Abr    2020/Mai  \\\n",
       "0  8085025.66  9221412.18  7493310.88  8092260.11  7273843.63  7652120.28   \n",
       "1  2874871.28  3331803.55  3417691.07  3076003.20  2286642.60  2896340.24   \n",
       "2 14346553.60 16018459.07 14913745.37 15068304.35 13509579.29 19658585.46   \n",
       "3  3097113.21  3059823.80  2912519.98  2937346.43  2868820.96  2752228.26   \n",
       "4 35925899.01 34345207.63 37384336.94 35512568.15 28217249.66 32617541.05   \n",
       "\n",
       "     2020/Jun    2020/Jul     2020/Ago         Total  \n",
       "0  8725530.68 11152107.08  10285455.78  929129659.72  \n",
       "1  3045245.80  3915193.20            -  420668039.63  \n",
       "2 20897542.93 19346450.18  14726443.67 1771654871.23  \n",
       "3  3401864.29  3015488.30   2826486.18  305010883.18  \n",
       "4 41625331.28 38438873.79  39911193.02 4437115730.71  \n",
       "\n",
       "[5 rows x 154 columns]"
      ]
     },
     "execution_count": 3,
     "metadata": {},
     "output_type": "execute_result"
    }
   ],
   "source": [
    "dados = pd.read_csv(url, encoding=\"ISO-8859-1\", \n",
    "                    skiprows = 3, sep=\";\", skipfooter=12,\n",
    "                    thousands=\".\", decimal=\",\")\n",
    "dados.head()"
   ]
  },
  {
   "cell_type": "markdown",
   "metadata": {},
   "source": [
    "### Criação dos dataframes que serão utilizados"
   ]
  },
  {
   "cell_type": "code",
   "execution_count": 4,
   "metadata": {},
   "outputs": [],
   "source": [
    "colunas_usaveis = dados.mean().index.tolist()\n",
    "colunas_usaveis.insert(0,'Unidade da Federação')\n",
    "usaveis = dados[colunas_usaveis]\n",
    "usaveis = usaveis.set_index('Unidade da Federação')\n",
    "usaveis = usaveis.drop('Total',axis=1)\n",
    "cincoestados = usaveis.T[['11 Rondônia','12 Acre',\t'13 Amazonas',\t'14 Roraima',\t'15 Pará']]"
   ]
  },
  {
   "cell_type": "code",
   "execution_count": 5,
   "metadata": {},
   "outputs": [
    {
     "data": {
      "text/plain": [
       "Unidade da Federação\n",
       "35 São Paulo             366.72\n",
       "31 Minas Gerais          164.89\n",
       "41 Paraná                109.66\n",
       "43 Rio Grande do Sul     100.53\n",
       "33 Rio de Janeiro         98.72\n",
       "29 Bahia                  83.99\n",
       "26 Pernambuco             74.19\n",
       "42 Santa Catarina         63.47\n",
       "23 Ceará                  55.18\n",
       "52 Goiás                  39.41\n",
       "15 Pará                   38.44\n",
       "21 Maranhão               32.94\n",
       "32 Espírito Santo         33.29\n",
       "24 Rio Grande do Norte    26.30\n",
       "25 Paraíba                26.90\n",
       "53 Distrito Federal       25.27\n",
       "50 Mato Grosso do Sul     18.76\n",
       "22 Piauí                  17.87\n",
       "27 Alagoas                18.35\n",
       "51 Mato Grosso            16.37\n",
       "13 Amazonas               19.35\n",
       "28 Sergipe                10.31\n",
       "17 Tocantins               9.13\n",
       "11 Rondônia               11.15\n",
       "12 Acre                    3.92\n",
       "14 Roraima                 3.02\n",
       "16 Amapá                   3.25\n",
       "Name: 2020/Jul, dtype: float64"
      ]
     },
     "execution_count": 5,
     "metadata": {},
     "output_type": "execute_result"
    }
   ],
   "source": [
    "usaveis['Total'] = usaveis.sum(axis=1)\n",
    "ordenado_por_total = usaveis.sort_values(\"Total\", ascending=False)\n",
    "ordenado_por_total = ordenado_por_total.drop(\"Total\", axis=1)\n",
    "\n",
    "colunas_interessadas = ordenado_por_total.columns[6:]\n",
    "ordenado_por_total = ordenado_por_total[colunas_interessadas]\n",
    "ordenado_por_total = ordenado_por_total/1000000\n",
    "\n",
    "mes_mais_recente = ordenado_por_total.columns[-1]\n",
    "gastos_do_ultimo_mes = ordenado_por_total[mes_mais_recente]\n",
    "gastos_do_ultimo_mes"
   ]
  },
  {
   "cell_type": "markdown",
   "metadata": {},
   "source": [
    "### Trabalhando com plotly"
   ]
  },
  {
   "cell_type": "code",
   "execution_count": 16,
   "metadata": {},
   "outputs": [],
   "source": [
    "# vamos definir que a gente vai plotar uma figura\n",
    "fig = go.Figure()"
   ]
  },
  {
   "cell_type": "code",
   "execution_count": 17,
   "metadata": {},
   "outputs": [
    {
     "data": {
      "application/vnd.plotly.v1+json": {
       "config": {
        "plotlyServerURL": "https://plot.ly"
       },
       "data": [
        {
         "name": "Rondonia",
         "type": "scatter",
         "x": [
          "2008/Jan",
          "2008/Fev",
          "2008/Mar",
          "2008/Abr",
          "2008/Mai",
          "2008/Jun",
          "2008/Jul",
          "2008/Ago",
          "2008/Set",
          "2008/Out",
          "2008/Nov",
          "2008/Dez",
          "2009/Jan",
          "2009/Fev",
          "2009/Mar",
          "2009/Abr",
          "2009/Mai",
          "2009/Jun",
          "2009/Jul",
          "2009/Ago",
          "2009/Out",
          "2009/Nov",
          "2009/Dez",
          "2010/Jan",
          "2010/Fev",
          "2010/Mar",
          "2010/Abr",
          "2010/Mai",
          "2010/Jun",
          "2010/Jul",
          "2010/Ago",
          "2010/Set",
          "2010/Out",
          "2010/Nov",
          "2010/Dez",
          "2011/Jan",
          "2011/Fev",
          "2011/Mar",
          "2011/Abr",
          "2011/Mai",
          "2011/Jun",
          "2011/Jul",
          "2011/Ago",
          "2011/Set",
          "2011/Out",
          "2011/Nov",
          "2011/Dez",
          "2012/Jan",
          "2012/Fev",
          "2012/Mar",
          "2012/Abr",
          "2012/Mai",
          "2012/Jun",
          "2012/Jul",
          "2012/Ago",
          "2012/Set",
          "2012/Out",
          "2012/Nov",
          "2012/Dez",
          "2013/Jan",
          "2013/Fev",
          "2013/Mar",
          "2013/Abr",
          "2013/Mai",
          "2013/Jun",
          "2013/Jul",
          "2013/Ago",
          "2013/Set",
          "2013/Out",
          "2013/Nov",
          "2013/Dez",
          "2014/Jan",
          "2014/Fev",
          "2014/Mar",
          "2014/Abr",
          "2014/Mai",
          "2014/Jun",
          "2014/Jul",
          "2014/Ago",
          "2014/Set",
          "2014/Out",
          "2014/Nov",
          "2014/Dez",
          "2015/Jan",
          "2015/Fev",
          "2015/Mar",
          "2015/Abr",
          "2015/Mai",
          "2015/Jun",
          "2015/Jul",
          "2015/Ago",
          "2015/Set",
          "2015/Out",
          "2015/Nov",
          "2015/Dez",
          "2016/Jan",
          "2016/Fev",
          "2016/Mar",
          "2016/Abr",
          "2016/Mai",
          "2016/Jun",
          "2016/Jul",
          "2016/Ago",
          "2016/Set",
          "2016/Out",
          "2016/Nov",
          "2016/Dez",
          "2017/Jan",
          "2017/Fev",
          "2017/Mar",
          "2017/Abr",
          "2017/Mai",
          "2017/Jun",
          "2017/Jul",
          "2017/Ago",
          "2017/Set",
          "2017/Out",
          "2017/Nov",
          "2017/Dez",
          "2018/Jan",
          "2018/Fev",
          "2018/Mar",
          "2018/Abr",
          "2018/Mai",
          "2018/Jun",
          "2018/Jul",
          "2018/Ago",
          "2018/Set",
          "2018/Out",
          "2018/Nov",
          "2018/Dez",
          "2019/Jan",
          "2019/Fev",
          "2019/Mar",
          "2019/Abr",
          "2019/Mai",
          "2019/Jun",
          "2019/Jul",
          "2019/Ago",
          "2019/Set",
          "2019/Out",
          "2019/Nov",
          "2019/Dez",
          "2020/Jan",
          "2020/Fev",
          "2020/Mar",
          "2020/Abr",
          "2020/Mai",
          "2020/Jun",
          "2020/Jul"
         ],
         "y": [
          1388528.39,
          2931283.42,
          1541682.52,
          1525314.96,
          1645953.84,
          1406150.68,
          3065279.01,
          3231494.61,
          3117178.63,
          3068430.44,
          2825838.52,
          2931173.58,
          2885269.07,
          2860103.74,
          3684944.68,
          3607289.68,
          3774356.6,
          3706711.84,
          3763187.55,
          3533625.83,
          3907032.72,
          3939820.71,
          3901084.11,
          3684407.02,
          3623015.58,
          3890461.9,
          4193533.87,
          4534400.67,
          4451208.03,
          4874592.78,
          4460802.38,
          5067886.24,
          4511092.85,
          4394680.5,
          4098741.8,
          4411499.48,
          3868617.95,
          4298702.78,
          5062171.26,
          4769347.86,
          4578105.6,
          4477870.09,
          5173453.51,
          5554791.51,
          4110177.87,
          4428561.32,
          3534337.12,
          4015781.56,
          4426788.59,
          4873364.26,
          4516103.32,
          4619267.68,
          5226741.11,
          4756327.23,
          4112530.56,
          4023514.11,
          3866138.34,
          3543519.05,
          3201183.18,
          4072043.77,
          4534984.7,
          5229512.34,
          5660083.57,
          5681210.93,
          5076918.42,
          5623854.81,
          5928359.34,
          6019754.08,
          6050368.46,
          6422821.25,
          6172605.14,
          5773335.5,
          6229461.54,
          6536336.12,
          6611751.56,
          7122614.34,
          7207965.81,
          6725041.04,
          7220209.27,
          6814650.05,
          5931824.36,
          6179626.72,
          6743020.43,
          7278090.89,
          6619352.84,
          7131263.61,
          6945021.28,
          7868953.2,
          7546597.11,
          8738484.55,
          6756554.76,
          7443631.94,
          6964209.53,
          6310062.08,
          6561221.77,
          7735224.22,
          7995955.06,
          7189165.44,
          7956812.12,
          7551313.49,
          7930610.83,
          8133705.36,
          8150486.59,
          8022627.09,
          7280387.24,
          7047166.57,
          6961884.87,
          7820057.09,
          6801952.61,
          7825186.4,
          8706448.06,
          7700730.62,
          7948291.63,
          8438077.45,
          7656644.83,
          8047742.98,
          8657206.23,
          8150893.68,
          7507845.13,
          7998345.94,
          8893683.69,
          8867793.32,
          8871408.5,
          8501601.67,
          8315107.81,
          8525499.78,
          9177611.46,
          7368996.38,
          8835095.43,
          8328186.64,
          8408512.77,
          9351705.82,
          8143007.97,
          8949741.77,
          9630553.15,
          9581970.31,
          7891114.05,
          9792370.67,
          9170787.53,
          8816846.71,
          10024554.15,
          9675423.7,
          8085025.66,
          9221412.18,
          7493310.88,
          8092260.11,
          7273843.63,
          7652120.28,
          8725530.68,
          11152107.08
         ]
        },
        {
         "name": "Acre",
         "type": "scatter",
         "x": [
          "2008/Jan",
          "2008/Fev",
          "2008/Mar",
          "2008/Abr",
          "2008/Mai",
          "2008/Jun",
          "2008/Jul",
          "2008/Ago",
          "2008/Set",
          "2008/Out",
          "2008/Nov",
          "2008/Dez",
          "2009/Jan",
          "2009/Fev",
          "2009/Mar",
          "2009/Abr",
          "2009/Mai",
          "2009/Jun",
          "2009/Jul",
          "2009/Ago",
          "2009/Out",
          "2009/Nov",
          "2009/Dez",
          "2010/Jan",
          "2010/Fev",
          "2010/Mar",
          "2010/Abr",
          "2010/Mai",
          "2010/Jun",
          "2010/Jul",
          "2010/Ago",
          "2010/Set",
          "2010/Out",
          "2010/Nov",
          "2010/Dez",
          "2011/Jan",
          "2011/Fev",
          "2011/Mar",
          "2011/Abr",
          "2011/Mai",
          "2011/Jun",
          "2011/Jul",
          "2011/Ago",
          "2011/Set",
          "2011/Out",
          "2011/Nov",
          "2011/Dez",
          "2012/Jan",
          "2012/Fev",
          "2012/Mar",
          "2012/Abr",
          "2012/Mai",
          "2012/Jun",
          "2012/Jul",
          "2012/Ago",
          "2012/Set",
          "2012/Out",
          "2012/Nov",
          "2012/Dez",
          "2013/Jan",
          "2013/Fev",
          "2013/Mar",
          "2013/Abr",
          "2013/Mai",
          "2013/Jun",
          "2013/Jul",
          "2013/Ago",
          "2013/Set",
          "2013/Out",
          "2013/Nov",
          "2013/Dez",
          "2014/Jan",
          "2014/Fev",
          "2014/Mar",
          "2014/Abr",
          "2014/Mai",
          "2014/Jun",
          "2014/Jul",
          "2014/Ago",
          "2014/Set",
          "2014/Out",
          "2014/Nov",
          "2014/Dez",
          "2015/Jan",
          "2015/Fev",
          "2015/Mar",
          "2015/Abr",
          "2015/Mai",
          "2015/Jun",
          "2015/Jul",
          "2015/Ago",
          "2015/Set",
          "2015/Out",
          "2015/Nov",
          "2015/Dez",
          "2016/Jan",
          "2016/Fev",
          "2016/Mar",
          "2016/Abr",
          "2016/Mai",
          "2016/Jun",
          "2016/Jul",
          "2016/Ago",
          "2016/Set",
          "2016/Out",
          "2016/Nov",
          "2016/Dez",
          "2017/Jan",
          "2017/Fev",
          "2017/Mar",
          "2017/Abr",
          "2017/Mai",
          "2017/Jun",
          "2017/Jul",
          "2017/Ago",
          "2017/Set",
          "2017/Out",
          "2017/Nov",
          "2017/Dez",
          "2018/Jan",
          "2018/Fev",
          "2018/Mar",
          "2018/Abr",
          "2018/Mai",
          "2018/Jun",
          "2018/Jul",
          "2018/Ago",
          "2018/Set",
          "2018/Out",
          "2018/Nov",
          "2018/Dez",
          "2019/Jan",
          "2019/Fev",
          "2019/Mar",
          "2019/Abr",
          "2019/Mai",
          "2019/Jun",
          "2019/Jul",
          "2019/Ago",
          "2019/Set",
          "2019/Out",
          "2019/Nov",
          "2019/Dez",
          "2020/Jan",
          "2020/Fev",
          "2020/Mar",
          "2020/Abr",
          "2020/Mai",
          "2020/Jun",
          "2020/Jul"
         ],
         "y": [
          902416,
          1497206.26,
          1794028.48,
          1730469.42,
          1819443.92,
          1828496,
          2511754.59,
          2089107.14,
          2275708.53,
          1923886.57,
          1756986.8,
          2235639.98,
          2497116.43,
          2253558.01,
          2122673.92,
          2834317.62,
          2722065.97,
          2432831.95,
          2630190.65,
          2307579,
          2826477.02,
          2170791.18,
          2541526.44,
          2491042.33,
          1954473.9,
          2389996.38,
          2654878.6,
          2844085.21,
          2336207.19,
          2125143.06,
          2430293.67,
          2377738.44,
          2184746.84,
          2468452.9,
          2516284.54,
          3051370.08,
          2629104.42,
          2485451.79,
          2685361.47,
          2723636.56,
          2703465.22,
          3136180.38,
          2779056.81,
          2843787.04,
          2678333.12,
          2995350.62,
          2798961.1,
          2477516.55,
          2020664.45,
          2891004.2,
          2917189.18,
          2856559.74,
          2972526.32,
          2642561.57,
          3092964.63,
          2305053.9,
          3023732.28,
          3077000.68,
          2652599.99,
          2629926.82,
          3042756.88,
          2938961.84,
          3078191.21,
          2690955.41,
          2484380.9,
          2695489.86,
          2858632.12,
          2747845.31,
          2787096.33,
          2833968,
          2817689.19,
          3401042.72,
          2727314.78,
          2876282.12,
          2997785.18,
          3048049.52,
          2842110.36,
          3186712.81,
          3061644.48,
          3008496.43,
          3162186.27,
          3185054.44,
          2542641.25,
          3375217.14,
          3024505.16,
          3102975.42,
          3080946.8,
          3065970.28,
          3179076.68,
          2849011.25,
          3238448.07,
          3279779.27,
          3010495.38,
          3054205.54,
          3001387.94,
          3049208.63,
          3351792.42,
          3118339.3,
          3378121.43,
          3168503.68,
          3916151.76,
          3837020.05,
          3659074.22,
          3540035.67,
          3184932,
          3019223.73,
          3264746.69,
          2821087.89,
          3361575.8,
          3080444.99,
          2792505.42,
          3268651.85,
          2397512.85,
          2348760,
          3139155.41,
          2765062.92,
          4540084.78,
          4120228.96,
          2610454.55,
          3576595.19,
          2444567.37,
          2602434.35,
          3064163.42,
          2276236.69,
          3239474.1,
          3126429.88,
          2998865.51,
          2619709.86,
          3018048.94,
          3342614.24,
          2123426.26,
          2664654.52,
          1906429.95,
          3096439.63,
          2411628,
          2840630.58,
          3260153.59,
          3250722.84,
          3204998.88,
          3052745.65,
          3124802.29,
          3021521.75,
          2874871.28,
          3331803.55,
          3417691.07,
          3076003.2,
          2286642.6,
          2896340.24,
          3045245.8,
          3915193.2
         ]
        }
       ],
       "layout": {
        "template": {
         "data": {
          "bar": [
           {
            "error_x": {
             "color": "#2a3f5f"
            },
            "error_y": {
             "color": "#2a3f5f"
            },
            "marker": {
             "line": {
              "color": "#E5ECF6",
              "width": 0.5
             }
            },
            "type": "bar"
           }
          ],
          "barpolar": [
           {
            "marker": {
             "line": {
              "color": "#E5ECF6",
              "width": 0.5
             }
            },
            "type": "barpolar"
           }
          ],
          "carpet": [
           {
            "aaxis": {
             "endlinecolor": "#2a3f5f",
             "gridcolor": "white",
             "linecolor": "white",
             "minorgridcolor": "white",
             "startlinecolor": "#2a3f5f"
            },
            "baxis": {
             "endlinecolor": "#2a3f5f",
             "gridcolor": "white",
             "linecolor": "white",
             "minorgridcolor": "white",
             "startlinecolor": "#2a3f5f"
            },
            "type": "carpet"
           }
          ],
          "choropleth": [
           {
            "colorbar": {
             "outlinewidth": 0,
             "ticks": ""
            },
            "type": "choropleth"
           }
          ],
          "contour": [
           {
            "colorbar": {
             "outlinewidth": 0,
             "ticks": ""
            },
            "colorscale": [
             [
              0,
              "#0d0887"
             ],
             [
              0.1111111111111111,
              "#46039f"
             ],
             [
              0.2222222222222222,
              "#7201a8"
             ],
             [
              0.3333333333333333,
              "#9c179e"
             ],
             [
              0.4444444444444444,
              "#bd3786"
             ],
             [
              0.5555555555555556,
              "#d8576b"
             ],
             [
              0.6666666666666666,
              "#ed7953"
             ],
             [
              0.7777777777777778,
              "#fb9f3a"
             ],
             [
              0.8888888888888888,
              "#fdca26"
             ],
             [
              1,
              "#f0f921"
             ]
            ],
            "type": "contour"
           }
          ],
          "contourcarpet": [
           {
            "colorbar": {
             "outlinewidth": 0,
             "ticks": ""
            },
            "type": "contourcarpet"
           }
          ],
          "heatmap": [
           {
            "colorbar": {
             "outlinewidth": 0,
             "ticks": ""
            },
            "colorscale": [
             [
              0,
              "#0d0887"
             ],
             [
              0.1111111111111111,
              "#46039f"
             ],
             [
              0.2222222222222222,
              "#7201a8"
             ],
             [
              0.3333333333333333,
              "#9c179e"
             ],
             [
              0.4444444444444444,
              "#bd3786"
             ],
             [
              0.5555555555555556,
              "#d8576b"
             ],
             [
              0.6666666666666666,
              "#ed7953"
             ],
             [
              0.7777777777777778,
              "#fb9f3a"
             ],
             [
              0.8888888888888888,
              "#fdca26"
             ],
             [
              1,
              "#f0f921"
             ]
            ],
            "type": "heatmap"
           }
          ],
          "heatmapgl": [
           {
            "colorbar": {
             "outlinewidth": 0,
             "ticks": ""
            },
            "colorscale": [
             [
              0,
              "#0d0887"
             ],
             [
              0.1111111111111111,
              "#46039f"
             ],
             [
              0.2222222222222222,
              "#7201a8"
             ],
             [
              0.3333333333333333,
              "#9c179e"
             ],
             [
              0.4444444444444444,
              "#bd3786"
             ],
             [
              0.5555555555555556,
              "#d8576b"
             ],
             [
              0.6666666666666666,
              "#ed7953"
             ],
             [
              0.7777777777777778,
              "#fb9f3a"
             ],
             [
              0.8888888888888888,
              "#fdca26"
             ],
             [
              1,
              "#f0f921"
             ]
            ],
            "type": "heatmapgl"
           }
          ],
          "histogram": [
           {
            "marker": {
             "colorbar": {
              "outlinewidth": 0,
              "ticks": ""
             }
            },
            "type": "histogram"
           }
          ],
          "histogram2d": [
           {
            "colorbar": {
             "outlinewidth": 0,
             "ticks": ""
            },
            "colorscale": [
             [
              0,
              "#0d0887"
             ],
             [
              0.1111111111111111,
              "#46039f"
             ],
             [
              0.2222222222222222,
              "#7201a8"
             ],
             [
              0.3333333333333333,
              "#9c179e"
             ],
             [
              0.4444444444444444,
              "#bd3786"
             ],
             [
              0.5555555555555556,
              "#d8576b"
             ],
             [
              0.6666666666666666,
              "#ed7953"
             ],
             [
              0.7777777777777778,
              "#fb9f3a"
             ],
             [
              0.8888888888888888,
              "#fdca26"
             ],
             [
              1,
              "#f0f921"
             ]
            ],
            "type": "histogram2d"
           }
          ],
          "histogram2dcontour": [
           {
            "colorbar": {
             "outlinewidth": 0,
             "ticks": ""
            },
            "colorscale": [
             [
              0,
              "#0d0887"
             ],
             [
              0.1111111111111111,
              "#46039f"
             ],
             [
              0.2222222222222222,
              "#7201a8"
             ],
             [
              0.3333333333333333,
              "#9c179e"
             ],
             [
              0.4444444444444444,
              "#bd3786"
             ],
             [
              0.5555555555555556,
              "#d8576b"
             ],
             [
              0.6666666666666666,
              "#ed7953"
             ],
             [
              0.7777777777777778,
              "#fb9f3a"
             ],
             [
              0.8888888888888888,
              "#fdca26"
             ],
             [
              1,
              "#f0f921"
             ]
            ],
            "type": "histogram2dcontour"
           }
          ],
          "mesh3d": [
           {
            "colorbar": {
             "outlinewidth": 0,
             "ticks": ""
            },
            "type": "mesh3d"
           }
          ],
          "parcoords": [
           {
            "line": {
             "colorbar": {
              "outlinewidth": 0,
              "ticks": ""
             }
            },
            "type": "parcoords"
           }
          ],
          "pie": [
           {
            "automargin": true,
            "type": "pie"
           }
          ],
          "scatter": [
           {
            "marker": {
             "colorbar": {
              "outlinewidth": 0,
              "ticks": ""
             }
            },
            "type": "scatter"
           }
          ],
          "scatter3d": [
           {
            "line": {
             "colorbar": {
              "outlinewidth": 0,
              "ticks": ""
             }
            },
            "marker": {
             "colorbar": {
              "outlinewidth": 0,
              "ticks": ""
             }
            },
            "type": "scatter3d"
           }
          ],
          "scattercarpet": [
           {
            "marker": {
             "colorbar": {
              "outlinewidth": 0,
              "ticks": ""
             }
            },
            "type": "scattercarpet"
           }
          ],
          "scattergeo": [
           {
            "marker": {
             "colorbar": {
              "outlinewidth": 0,
              "ticks": ""
             }
            },
            "type": "scattergeo"
           }
          ],
          "scattergl": [
           {
            "marker": {
             "colorbar": {
              "outlinewidth": 0,
              "ticks": ""
             }
            },
            "type": "scattergl"
           }
          ],
          "scattermapbox": [
           {
            "marker": {
             "colorbar": {
              "outlinewidth": 0,
              "ticks": ""
             }
            },
            "type": "scattermapbox"
           }
          ],
          "scatterpolar": [
           {
            "marker": {
             "colorbar": {
              "outlinewidth": 0,
              "ticks": ""
             }
            },
            "type": "scatterpolar"
           }
          ],
          "scatterpolargl": [
           {
            "marker": {
             "colorbar": {
              "outlinewidth": 0,
              "ticks": ""
             }
            },
            "type": "scatterpolargl"
           }
          ],
          "scatterternary": [
           {
            "marker": {
             "colorbar": {
              "outlinewidth": 0,
              "ticks": ""
             }
            },
            "type": "scatterternary"
           }
          ],
          "surface": [
           {
            "colorbar": {
             "outlinewidth": 0,
             "ticks": ""
            },
            "colorscale": [
             [
              0,
              "#0d0887"
             ],
             [
              0.1111111111111111,
              "#46039f"
             ],
             [
              0.2222222222222222,
              "#7201a8"
             ],
             [
              0.3333333333333333,
              "#9c179e"
             ],
             [
              0.4444444444444444,
              "#bd3786"
             ],
             [
              0.5555555555555556,
              "#d8576b"
             ],
             [
              0.6666666666666666,
              "#ed7953"
             ],
             [
              0.7777777777777778,
              "#fb9f3a"
             ],
             [
              0.8888888888888888,
              "#fdca26"
             ],
             [
              1,
              "#f0f921"
             ]
            ],
            "type": "surface"
           }
          ],
          "table": [
           {
            "cells": {
             "fill": {
              "color": "#EBF0F8"
             },
             "line": {
              "color": "white"
             }
            },
            "header": {
             "fill": {
              "color": "#C8D4E3"
             },
             "line": {
              "color": "white"
             }
            },
            "type": "table"
           }
          ]
         },
         "layout": {
          "annotationdefaults": {
           "arrowcolor": "#2a3f5f",
           "arrowhead": 0,
           "arrowwidth": 1
          },
          "autotypenumbers": "strict",
          "coloraxis": {
           "colorbar": {
            "outlinewidth": 0,
            "ticks": ""
           }
          },
          "colorscale": {
           "diverging": [
            [
             0,
             "#8e0152"
            ],
            [
             0.1,
             "#c51b7d"
            ],
            [
             0.2,
             "#de77ae"
            ],
            [
             0.3,
             "#f1b6da"
            ],
            [
             0.4,
             "#fde0ef"
            ],
            [
             0.5,
             "#f7f7f7"
            ],
            [
             0.6,
             "#e6f5d0"
            ],
            [
             0.7,
             "#b8e186"
            ],
            [
             0.8,
             "#7fbc41"
            ],
            [
             0.9,
             "#4d9221"
            ],
            [
             1,
             "#276419"
            ]
           ],
           "sequential": [
            [
             0,
             "#0d0887"
            ],
            [
             0.1111111111111111,
             "#46039f"
            ],
            [
             0.2222222222222222,
             "#7201a8"
            ],
            [
             0.3333333333333333,
             "#9c179e"
            ],
            [
             0.4444444444444444,
             "#bd3786"
            ],
            [
             0.5555555555555556,
             "#d8576b"
            ],
            [
             0.6666666666666666,
             "#ed7953"
            ],
            [
             0.7777777777777778,
             "#fb9f3a"
            ],
            [
             0.8888888888888888,
             "#fdca26"
            ],
            [
             1,
             "#f0f921"
            ]
           ],
           "sequentialminus": [
            [
             0,
             "#0d0887"
            ],
            [
             0.1111111111111111,
             "#46039f"
            ],
            [
             0.2222222222222222,
             "#7201a8"
            ],
            [
             0.3333333333333333,
             "#9c179e"
            ],
            [
             0.4444444444444444,
             "#bd3786"
            ],
            [
             0.5555555555555556,
             "#d8576b"
            ],
            [
             0.6666666666666666,
             "#ed7953"
            ],
            [
             0.7777777777777778,
             "#fb9f3a"
            ],
            [
             0.8888888888888888,
             "#fdca26"
            ],
            [
             1,
             "#f0f921"
            ]
           ]
          },
          "colorway": [
           "#636efa",
           "#EF553B",
           "#00cc96",
           "#ab63fa",
           "#FFA15A",
           "#19d3f3",
           "#FF6692",
           "#B6E880",
           "#FF97FF",
           "#FECB52"
          ],
          "font": {
           "color": "#2a3f5f"
          },
          "geo": {
           "bgcolor": "white",
           "lakecolor": "white",
           "landcolor": "#E5ECF6",
           "showlakes": true,
           "showland": true,
           "subunitcolor": "white"
          },
          "hoverlabel": {
           "align": "left"
          },
          "hovermode": "closest",
          "mapbox": {
           "style": "light"
          },
          "paper_bgcolor": "white",
          "plot_bgcolor": "#E5ECF6",
          "polar": {
           "angularaxis": {
            "gridcolor": "white",
            "linecolor": "white",
            "ticks": ""
           },
           "bgcolor": "#E5ECF6",
           "radialaxis": {
            "gridcolor": "white",
            "linecolor": "white",
            "ticks": ""
           }
          },
          "scene": {
           "xaxis": {
            "backgroundcolor": "#E5ECF6",
            "gridcolor": "white",
            "gridwidth": 2,
            "linecolor": "white",
            "showbackground": true,
            "ticks": "",
            "zerolinecolor": "white"
           },
           "yaxis": {
            "backgroundcolor": "#E5ECF6",
            "gridcolor": "white",
            "gridwidth": 2,
            "linecolor": "white",
            "showbackground": true,
            "ticks": "",
            "zerolinecolor": "white"
           },
           "zaxis": {
            "backgroundcolor": "#E5ECF6",
            "gridcolor": "white",
            "gridwidth": 2,
            "linecolor": "white",
            "showbackground": true,
            "ticks": "",
            "zerolinecolor": "white"
           }
          },
          "shapedefaults": {
           "line": {
            "color": "#2a3f5f"
           }
          },
          "ternary": {
           "aaxis": {
            "gridcolor": "white",
            "linecolor": "white",
            "ticks": ""
           },
           "baxis": {
            "gridcolor": "white",
            "linecolor": "white",
            "ticks": ""
           },
           "bgcolor": "#E5ECF6",
           "caxis": {
            "gridcolor": "white",
            "linecolor": "white",
            "ticks": ""
           }
          },
          "title": {
           "x": 0.05
          },
          "xaxis": {
           "automargin": true,
           "gridcolor": "white",
           "linecolor": "white",
           "ticks": "",
           "title": {
            "standoff": 15
           },
           "zerolinecolor": "white",
           "zerolinewidth": 2
          },
          "yaxis": {
           "automargin": true,
           "gridcolor": "white",
           "linecolor": "white",
           "ticks": "",
           "title": {
            "standoff": 15
           },
           "zerolinecolor": "white",
           "zerolinewidth": 2
          }
         }
        }
       }
      },
      "text/html": [
       "<div>                            <div id=\"875bd713-972d-4afd-9ee4-3bcd4f9ead76\" class=\"plotly-graph-div\" style=\"height:525px; width:100%;\"></div>            <script type=\"text/javascript\">                require([\"plotly\"], function(Plotly) {                    window.PLOTLYENV=window.PLOTLYENV || {};                                    if (document.getElementById(\"875bd713-972d-4afd-9ee4-3bcd4f9ead76\")) {                    Plotly.newPlot(                        \"875bd713-972d-4afd-9ee4-3bcd4f9ead76\",                        [{\"name\": \"Rondonia\", \"type\": \"scatter\", \"x\": [\"2008/Jan\", \"2008/Fev\", \"2008/Mar\", \"2008/Abr\", \"2008/Mai\", \"2008/Jun\", \"2008/Jul\", \"2008/Ago\", \"2008/Set\", \"2008/Out\", \"2008/Nov\", \"2008/Dez\", \"2009/Jan\", \"2009/Fev\", \"2009/Mar\", \"2009/Abr\", \"2009/Mai\", \"2009/Jun\", \"2009/Jul\", \"2009/Ago\", \"2009/Out\", \"2009/Nov\", \"2009/Dez\", \"2010/Jan\", \"2010/Fev\", \"2010/Mar\", \"2010/Abr\", \"2010/Mai\", \"2010/Jun\", \"2010/Jul\", \"2010/Ago\", \"2010/Set\", \"2010/Out\", \"2010/Nov\", \"2010/Dez\", \"2011/Jan\", \"2011/Fev\", \"2011/Mar\", \"2011/Abr\", \"2011/Mai\", \"2011/Jun\", \"2011/Jul\", \"2011/Ago\", \"2011/Set\", \"2011/Out\", \"2011/Nov\", \"2011/Dez\", \"2012/Jan\", \"2012/Fev\", \"2012/Mar\", \"2012/Abr\", \"2012/Mai\", \"2012/Jun\", \"2012/Jul\", \"2012/Ago\", \"2012/Set\", \"2012/Out\", \"2012/Nov\", \"2012/Dez\", \"2013/Jan\", \"2013/Fev\", \"2013/Mar\", \"2013/Abr\", \"2013/Mai\", \"2013/Jun\", \"2013/Jul\", \"2013/Ago\", \"2013/Set\", \"2013/Out\", \"2013/Nov\", \"2013/Dez\", \"2014/Jan\", \"2014/Fev\", \"2014/Mar\", \"2014/Abr\", \"2014/Mai\", \"2014/Jun\", \"2014/Jul\", \"2014/Ago\", \"2014/Set\", \"2014/Out\", \"2014/Nov\", \"2014/Dez\", \"2015/Jan\", \"2015/Fev\", \"2015/Mar\", \"2015/Abr\", \"2015/Mai\", \"2015/Jun\", \"2015/Jul\", \"2015/Ago\", \"2015/Set\", \"2015/Out\", \"2015/Nov\", \"2015/Dez\", \"2016/Jan\", \"2016/Fev\", \"2016/Mar\", \"2016/Abr\", \"2016/Mai\", \"2016/Jun\", \"2016/Jul\", \"2016/Ago\", \"2016/Set\", \"2016/Out\", \"2016/Nov\", \"2016/Dez\", \"2017/Jan\", \"2017/Fev\", \"2017/Mar\", \"2017/Abr\", \"2017/Mai\", \"2017/Jun\", \"2017/Jul\", \"2017/Ago\", \"2017/Set\", \"2017/Out\", \"2017/Nov\", \"2017/Dez\", \"2018/Jan\", \"2018/Fev\", \"2018/Mar\", \"2018/Abr\", \"2018/Mai\", \"2018/Jun\", \"2018/Jul\", \"2018/Ago\", \"2018/Set\", \"2018/Out\", \"2018/Nov\", \"2018/Dez\", \"2019/Jan\", \"2019/Fev\", \"2019/Mar\", \"2019/Abr\", \"2019/Mai\", \"2019/Jun\", \"2019/Jul\", \"2019/Ago\", \"2019/Set\", \"2019/Out\", \"2019/Nov\", \"2019/Dez\", \"2020/Jan\", \"2020/Fev\", \"2020/Mar\", \"2020/Abr\", \"2020/Mai\", \"2020/Jun\", \"2020/Jul\"], \"y\": [1388528.39, 2931283.42, 1541682.52, 1525314.96, 1645953.84, 1406150.68, 3065279.01, 3231494.61, 3117178.63, 3068430.44, 2825838.52, 2931173.58, 2885269.07, 2860103.74, 3684944.68, 3607289.68, 3774356.6, 3706711.84, 3763187.55, 3533625.83, 3907032.72, 3939820.71, 3901084.11, 3684407.02, 3623015.58, 3890461.9, 4193533.87, 4534400.67, 4451208.03, 4874592.78, 4460802.38, 5067886.24, 4511092.85, 4394680.5, 4098741.8, 4411499.48, 3868617.95, 4298702.78, 5062171.26, 4769347.86, 4578105.6, 4477870.09, 5173453.51, 5554791.51, 4110177.87, 4428561.32, 3534337.12, 4015781.56, 4426788.59, 4873364.26, 4516103.32, 4619267.68, 5226741.11, 4756327.23, 4112530.56, 4023514.11, 3866138.34, 3543519.05, 3201183.18, 4072043.77, 4534984.7, 5229512.34, 5660083.57, 5681210.93, 5076918.42, 5623854.81, 5928359.34, 6019754.08, 6050368.46, 6422821.25, 6172605.14, 5773335.5, 6229461.54, 6536336.12, 6611751.56, 7122614.34, 7207965.81, 6725041.04, 7220209.27, 6814650.05, 5931824.36, 6179626.72, 6743020.43, 7278090.89, 6619352.84, 7131263.61, 6945021.28, 7868953.2, 7546597.11, 8738484.55, 6756554.76, 7443631.94, 6964209.53, 6310062.08, 6561221.77, 7735224.22, 7995955.06, 7189165.44, 7956812.12, 7551313.49, 7930610.83, 8133705.36, 8150486.59, 8022627.09, 7280387.24, 7047166.57, 6961884.87, 7820057.09, 6801952.61, 7825186.4, 8706448.06, 7700730.62, 7948291.63, 8438077.45, 7656644.83, 8047742.98, 8657206.23, 8150893.68, 7507845.13, 7998345.94, 8893683.69, 8867793.32, 8871408.5, 8501601.67, 8315107.81, 8525499.78, 9177611.46, 7368996.38, 8835095.43, 8328186.64, 8408512.77, 9351705.82, 8143007.97, 8949741.77, 9630553.15, 9581970.31, 7891114.05, 9792370.67, 9170787.53, 8816846.71, 10024554.15, 9675423.7, 8085025.66, 9221412.18, 7493310.88, 8092260.11, 7273843.63, 7652120.28, 8725530.68, 11152107.08]}, {\"name\": \"Acre\", \"type\": \"scatter\", \"x\": [\"2008/Jan\", \"2008/Fev\", \"2008/Mar\", \"2008/Abr\", \"2008/Mai\", \"2008/Jun\", \"2008/Jul\", \"2008/Ago\", \"2008/Set\", \"2008/Out\", \"2008/Nov\", \"2008/Dez\", \"2009/Jan\", \"2009/Fev\", \"2009/Mar\", \"2009/Abr\", \"2009/Mai\", \"2009/Jun\", \"2009/Jul\", \"2009/Ago\", \"2009/Out\", \"2009/Nov\", \"2009/Dez\", \"2010/Jan\", \"2010/Fev\", \"2010/Mar\", \"2010/Abr\", \"2010/Mai\", \"2010/Jun\", \"2010/Jul\", \"2010/Ago\", \"2010/Set\", \"2010/Out\", \"2010/Nov\", \"2010/Dez\", \"2011/Jan\", \"2011/Fev\", \"2011/Mar\", \"2011/Abr\", \"2011/Mai\", \"2011/Jun\", \"2011/Jul\", \"2011/Ago\", \"2011/Set\", \"2011/Out\", \"2011/Nov\", \"2011/Dez\", \"2012/Jan\", \"2012/Fev\", \"2012/Mar\", \"2012/Abr\", \"2012/Mai\", \"2012/Jun\", \"2012/Jul\", \"2012/Ago\", \"2012/Set\", \"2012/Out\", \"2012/Nov\", \"2012/Dez\", \"2013/Jan\", \"2013/Fev\", \"2013/Mar\", \"2013/Abr\", \"2013/Mai\", \"2013/Jun\", \"2013/Jul\", \"2013/Ago\", \"2013/Set\", \"2013/Out\", \"2013/Nov\", \"2013/Dez\", \"2014/Jan\", \"2014/Fev\", \"2014/Mar\", \"2014/Abr\", \"2014/Mai\", \"2014/Jun\", \"2014/Jul\", \"2014/Ago\", \"2014/Set\", \"2014/Out\", \"2014/Nov\", \"2014/Dez\", \"2015/Jan\", \"2015/Fev\", \"2015/Mar\", \"2015/Abr\", \"2015/Mai\", \"2015/Jun\", \"2015/Jul\", \"2015/Ago\", \"2015/Set\", \"2015/Out\", \"2015/Nov\", \"2015/Dez\", \"2016/Jan\", \"2016/Fev\", \"2016/Mar\", \"2016/Abr\", \"2016/Mai\", \"2016/Jun\", \"2016/Jul\", \"2016/Ago\", \"2016/Set\", \"2016/Out\", \"2016/Nov\", \"2016/Dez\", \"2017/Jan\", \"2017/Fev\", \"2017/Mar\", \"2017/Abr\", \"2017/Mai\", \"2017/Jun\", \"2017/Jul\", \"2017/Ago\", \"2017/Set\", \"2017/Out\", \"2017/Nov\", \"2017/Dez\", \"2018/Jan\", \"2018/Fev\", \"2018/Mar\", \"2018/Abr\", \"2018/Mai\", \"2018/Jun\", \"2018/Jul\", \"2018/Ago\", \"2018/Set\", \"2018/Out\", \"2018/Nov\", \"2018/Dez\", \"2019/Jan\", \"2019/Fev\", \"2019/Mar\", \"2019/Abr\", \"2019/Mai\", \"2019/Jun\", \"2019/Jul\", \"2019/Ago\", \"2019/Set\", \"2019/Out\", \"2019/Nov\", \"2019/Dez\", \"2020/Jan\", \"2020/Fev\", \"2020/Mar\", \"2020/Abr\", \"2020/Mai\", \"2020/Jun\", \"2020/Jul\"], \"y\": [902416.0, 1497206.26, 1794028.48, 1730469.42, 1819443.92, 1828496.0, 2511754.59, 2089107.14, 2275708.53, 1923886.57, 1756986.8, 2235639.98, 2497116.43, 2253558.01, 2122673.92, 2834317.62, 2722065.97, 2432831.95, 2630190.65, 2307579.0, 2826477.02, 2170791.18, 2541526.44, 2491042.33, 1954473.9, 2389996.38, 2654878.6, 2844085.21, 2336207.19, 2125143.06, 2430293.67, 2377738.44, 2184746.84, 2468452.9, 2516284.54, 3051370.08, 2629104.42, 2485451.79, 2685361.47, 2723636.56, 2703465.22, 3136180.38, 2779056.81, 2843787.04, 2678333.12, 2995350.62, 2798961.1, 2477516.55, 2020664.45, 2891004.2, 2917189.18, 2856559.74, 2972526.32, 2642561.57, 3092964.63, 2305053.9, 3023732.28, 3077000.68, 2652599.99, 2629926.82, 3042756.88, 2938961.84, 3078191.21, 2690955.41, 2484380.9, 2695489.86, 2858632.12, 2747845.31, 2787096.33, 2833968.0, 2817689.19, 3401042.72, 2727314.78, 2876282.12, 2997785.18, 3048049.52, 2842110.36, 3186712.81, 3061644.48, 3008496.43, 3162186.27, 3185054.44, 2542641.25, 3375217.14, 3024505.16, 3102975.42, 3080946.8, 3065970.28, 3179076.68, 2849011.25, 3238448.07, 3279779.27, 3010495.38, 3054205.54, 3001387.94, 3049208.63, 3351792.42, 3118339.3, 3378121.43, 3168503.68, 3916151.76, 3837020.05, 3659074.22, 3540035.67, 3184932.0, 3019223.73, 3264746.69, 2821087.89, 3361575.8, 3080444.99, 2792505.42, 3268651.85, 2397512.85, 2348760.0, 3139155.41, 2765062.92, 4540084.78, 4120228.96, 2610454.55, 3576595.19, 2444567.37, 2602434.35, 3064163.42, 2276236.69, 3239474.1, 3126429.88, 2998865.51, 2619709.86, 3018048.94, 3342614.24, 2123426.26, 2664654.52, 1906429.95, 3096439.63, 2411628.0, 2840630.58, 3260153.59, 3250722.84, 3204998.88, 3052745.65, 3124802.29, 3021521.75, 2874871.28, 3331803.55, 3417691.07, 3076003.2, 2286642.6, 2896340.24, 3045245.8, 3915193.2]}],                        {\"template\": {\"data\": {\"bar\": [{\"error_x\": {\"color\": \"#2a3f5f\"}, \"error_y\": {\"color\": \"#2a3f5f\"}, \"marker\": {\"line\": {\"color\": \"#E5ECF6\", \"width\": 0.5}}, \"type\": \"bar\"}], \"barpolar\": [{\"marker\": {\"line\": {\"color\": \"#E5ECF6\", \"width\": 0.5}}, \"type\": \"barpolar\"}], \"carpet\": [{\"aaxis\": {\"endlinecolor\": \"#2a3f5f\", \"gridcolor\": \"white\", \"linecolor\": \"white\", \"minorgridcolor\": \"white\", \"startlinecolor\": \"#2a3f5f\"}, \"baxis\": {\"endlinecolor\": \"#2a3f5f\", \"gridcolor\": \"white\", \"linecolor\": \"white\", \"minorgridcolor\": \"white\", \"startlinecolor\": \"#2a3f5f\"}, \"type\": \"carpet\"}], \"choropleth\": [{\"colorbar\": {\"outlinewidth\": 0, \"ticks\": \"\"}, \"type\": \"choropleth\"}], \"contour\": [{\"colorbar\": {\"outlinewidth\": 0, \"ticks\": \"\"}, \"colorscale\": [[0.0, \"#0d0887\"], [0.1111111111111111, \"#46039f\"], [0.2222222222222222, \"#7201a8\"], [0.3333333333333333, \"#9c179e\"], [0.4444444444444444, \"#bd3786\"], [0.5555555555555556, \"#d8576b\"], [0.6666666666666666, \"#ed7953\"], [0.7777777777777778, \"#fb9f3a\"], [0.8888888888888888, \"#fdca26\"], [1.0, \"#f0f921\"]], \"type\": \"contour\"}], \"contourcarpet\": [{\"colorbar\": {\"outlinewidth\": 0, \"ticks\": \"\"}, \"type\": \"contourcarpet\"}], \"heatmap\": [{\"colorbar\": {\"outlinewidth\": 0, \"ticks\": \"\"}, \"colorscale\": [[0.0, \"#0d0887\"], [0.1111111111111111, \"#46039f\"], [0.2222222222222222, \"#7201a8\"], [0.3333333333333333, \"#9c179e\"], [0.4444444444444444, \"#bd3786\"], [0.5555555555555556, \"#d8576b\"], [0.6666666666666666, \"#ed7953\"], [0.7777777777777778, \"#fb9f3a\"], [0.8888888888888888, \"#fdca26\"], [1.0, \"#f0f921\"]], \"type\": \"heatmap\"}], \"heatmapgl\": [{\"colorbar\": {\"outlinewidth\": 0, \"ticks\": \"\"}, \"colorscale\": [[0.0, \"#0d0887\"], [0.1111111111111111, \"#46039f\"], [0.2222222222222222, \"#7201a8\"], [0.3333333333333333, \"#9c179e\"], [0.4444444444444444, \"#bd3786\"], [0.5555555555555556, \"#d8576b\"], [0.6666666666666666, \"#ed7953\"], [0.7777777777777778, \"#fb9f3a\"], [0.8888888888888888, \"#fdca26\"], [1.0, \"#f0f921\"]], \"type\": \"heatmapgl\"}], \"histogram\": [{\"marker\": {\"colorbar\": {\"outlinewidth\": 0, \"ticks\": \"\"}}, \"type\": \"histogram\"}], \"histogram2d\": [{\"colorbar\": {\"outlinewidth\": 0, \"ticks\": \"\"}, \"colorscale\": [[0.0, \"#0d0887\"], [0.1111111111111111, \"#46039f\"], [0.2222222222222222, \"#7201a8\"], [0.3333333333333333, \"#9c179e\"], [0.4444444444444444, \"#bd3786\"], [0.5555555555555556, \"#d8576b\"], [0.6666666666666666, \"#ed7953\"], [0.7777777777777778, \"#fb9f3a\"], [0.8888888888888888, \"#fdca26\"], [1.0, \"#f0f921\"]], \"type\": \"histogram2d\"}], \"histogram2dcontour\": [{\"colorbar\": {\"outlinewidth\": 0, \"ticks\": \"\"}, \"colorscale\": [[0.0, \"#0d0887\"], [0.1111111111111111, \"#46039f\"], [0.2222222222222222, \"#7201a8\"], [0.3333333333333333, \"#9c179e\"], [0.4444444444444444, \"#bd3786\"], [0.5555555555555556, \"#d8576b\"], [0.6666666666666666, \"#ed7953\"], [0.7777777777777778, \"#fb9f3a\"], [0.8888888888888888, \"#fdca26\"], [1.0, \"#f0f921\"]], \"type\": \"histogram2dcontour\"}], \"mesh3d\": [{\"colorbar\": {\"outlinewidth\": 0, \"ticks\": \"\"}, \"type\": \"mesh3d\"}], \"parcoords\": [{\"line\": {\"colorbar\": {\"outlinewidth\": 0, \"ticks\": \"\"}}, \"type\": \"parcoords\"}], \"pie\": [{\"automargin\": true, \"type\": \"pie\"}], \"scatter\": [{\"marker\": {\"colorbar\": {\"outlinewidth\": 0, \"ticks\": \"\"}}, \"type\": \"scatter\"}], \"scatter3d\": [{\"line\": {\"colorbar\": {\"outlinewidth\": 0, \"ticks\": \"\"}}, \"marker\": {\"colorbar\": {\"outlinewidth\": 0, \"ticks\": \"\"}}, \"type\": \"scatter3d\"}], \"scattercarpet\": [{\"marker\": {\"colorbar\": {\"outlinewidth\": 0, \"ticks\": \"\"}}, \"type\": \"scattercarpet\"}], \"scattergeo\": [{\"marker\": {\"colorbar\": {\"outlinewidth\": 0, \"ticks\": \"\"}}, \"type\": \"scattergeo\"}], \"scattergl\": [{\"marker\": {\"colorbar\": {\"outlinewidth\": 0, \"ticks\": \"\"}}, \"type\": \"scattergl\"}], \"scattermapbox\": [{\"marker\": {\"colorbar\": {\"outlinewidth\": 0, \"ticks\": \"\"}}, \"type\": \"scattermapbox\"}], \"scatterpolar\": [{\"marker\": {\"colorbar\": {\"outlinewidth\": 0, \"ticks\": \"\"}}, \"type\": \"scatterpolar\"}], \"scatterpolargl\": [{\"marker\": {\"colorbar\": {\"outlinewidth\": 0, \"ticks\": \"\"}}, \"type\": \"scatterpolargl\"}], \"scatterternary\": [{\"marker\": {\"colorbar\": {\"outlinewidth\": 0, \"ticks\": \"\"}}, \"type\": \"scatterternary\"}], \"surface\": [{\"colorbar\": {\"outlinewidth\": 0, \"ticks\": \"\"}, \"colorscale\": [[0.0, \"#0d0887\"], [0.1111111111111111, \"#46039f\"], [0.2222222222222222, \"#7201a8\"], [0.3333333333333333, \"#9c179e\"], [0.4444444444444444, \"#bd3786\"], [0.5555555555555556, \"#d8576b\"], [0.6666666666666666, \"#ed7953\"], [0.7777777777777778, \"#fb9f3a\"], [0.8888888888888888, \"#fdca26\"], [1.0, \"#f0f921\"]], \"type\": \"surface\"}], \"table\": [{\"cells\": {\"fill\": {\"color\": \"#EBF0F8\"}, \"line\": {\"color\": \"white\"}}, \"header\": {\"fill\": {\"color\": \"#C8D4E3\"}, \"line\": {\"color\": \"white\"}}, \"type\": \"table\"}]}, \"layout\": {\"annotationdefaults\": {\"arrowcolor\": \"#2a3f5f\", \"arrowhead\": 0, \"arrowwidth\": 1}, \"autotypenumbers\": \"strict\", \"coloraxis\": {\"colorbar\": {\"outlinewidth\": 0, \"ticks\": \"\"}}, \"colorscale\": {\"diverging\": [[0, \"#8e0152\"], [0.1, \"#c51b7d\"], [0.2, \"#de77ae\"], [0.3, \"#f1b6da\"], [0.4, \"#fde0ef\"], [0.5, \"#f7f7f7\"], [0.6, \"#e6f5d0\"], [0.7, \"#b8e186\"], [0.8, \"#7fbc41\"], [0.9, \"#4d9221\"], [1, \"#276419\"]], \"sequential\": [[0.0, \"#0d0887\"], [0.1111111111111111, \"#46039f\"], [0.2222222222222222, \"#7201a8\"], [0.3333333333333333, \"#9c179e\"], [0.4444444444444444, \"#bd3786\"], [0.5555555555555556, \"#d8576b\"], [0.6666666666666666, \"#ed7953\"], [0.7777777777777778, \"#fb9f3a\"], [0.8888888888888888, \"#fdca26\"], [1.0, \"#f0f921\"]], \"sequentialminus\": [[0.0, \"#0d0887\"], [0.1111111111111111, \"#46039f\"], [0.2222222222222222, \"#7201a8\"], [0.3333333333333333, \"#9c179e\"], [0.4444444444444444, \"#bd3786\"], [0.5555555555555556, \"#d8576b\"], [0.6666666666666666, \"#ed7953\"], [0.7777777777777778, \"#fb9f3a\"], [0.8888888888888888, \"#fdca26\"], [1.0, \"#f0f921\"]]}, \"colorway\": [\"#636efa\", \"#EF553B\", \"#00cc96\", \"#ab63fa\", \"#FFA15A\", \"#19d3f3\", \"#FF6692\", \"#B6E880\", \"#FF97FF\", \"#FECB52\"], \"font\": {\"color\": \"#2a3f5f\"}, \"geo\": {\"bgcolor\": \"white\", \"lakecolor\": \"white\", \"landcolor\": \"#E5ECF6\", \"showlakes\": true, \"showland\": true, \"subunitcolor\": \"white\"}, \"hoverlabel\": {\"align\": \"left\"}, \"hovermode\": \"closest\", \"mapbox\": {\"style\": \"light\"}, \"paper_bgcolor\": \"white\", \"plot_bgcolor\": \"#E5ECF6\", \"polar\": {\"angularaxis\": {\"gridcolor\": \"white\", \"linecolor\": \"white\", \"ticks\": \"\"}, \"bgcolor\": \"#E5ECF6\", \"radialaxis\": {\"gridcolor\": \"white\", \"linecolor\": \"white\", \"ticks\": \"\"}}, \"scene\": {\"xaxis\": {\"backgroundcolor\": \"#E5ECF6\", \"gridcolor\": \"white\", \"gridwidth\": 2, \"linecolor\": \"white\", \"showbackground\": true, \"ticks\": \"\", \"zerolinecolor\": \"white\"}, \"yaxis\": {\"backgroundcolor\": \"#E5ECF6\", \"gridcolor\": \"white\", \"gridwidth\": 2, \"linecolor\": \"white\", \"showbackground\": true, \"ticks\": \"\", \"zerolinecolor\": \"white\"}, \"zaxis\": {\"backgroundcolor\": \"#E5ECF6\", \"gridcolor\": \"white\", \"gridwidth\": 2, \"linecolor\": \"white\", \"showbackground\": true, \"ticks\": \"\", \"zerolinecolor\": \"white\"}}, \"shapedefaults\": {\"line\": {\"color\": \"#2a3f5f\"}}, \"ternary\": {\"aaxis\": {\"gridcolor\": \"white\", \"linecolor\": \"white\", \"ticks\": \"\"}, \"baxis\": {\"gridcolor\": \"white\", \"linecolor\": \"white\", \"ticks\": \"\"}, \"bgcolor\": \"#E5ECF6\", \"caxis\": {\"gridcolor\": \"white\", \"linecolor\": \"white\", \"ticks\": \"\"}}, \"title\": {\"x\": 0.05}, \"xaxis\": {\"automargin\": true, \"gridcolor\": \"white\", \"linecolor\": \"white\", \"ticks\": \"\", \"title\": {\"standoff\": 15}, \"zerolinecolor\": \"white\", \"zerolinewidth\": 2}, \"yaxis\": {\"automargin\": true, \"gridcolor\": \"white\", \"linecolor\": \"white\", \"ticks\": \"\", \"title\": {\"standoff\": 15}, \"zerolinecolor\": \"white\", \"zerolinewidth\": 2}}}},                        {\"responsive\": true}                    ).then(function(){\n",
       "                            \n",
       "var gd = document.getElementById('875bd713-972d-4afd-9ee4-3bcd4f9ead76');\n",
       "var x = new MutationObserver(function (mutations, observer) {{\n",
       "        var display = window.getComputedStyle(gd).display;\n",
       "        if (!display || display === 'none') {{\n",
       "            console.log([gd, 'removed!']);\n",
       "            Plotly.purge(gd);\n",
       "            observer.disconnect();\n",
       "        }}\n",
       "}});\n",
       "\n",
       "// Listen for the removal of the full notebook cells\n",
       "var notebookContainer = gd.closest('#notebook-container');\n",
       "if (notebookContainer) {{\n",
       "    x.observe(notebookContainer, {childList: true});\n",
       "}}\n",
       "\n",
       "// Listen for the clearing of the current output cell\n",
       "var outputEl = gd.closest('.output');\n",
       "if (outputEl) {{\n",
       "    x.observe(outputEl, {childList: true});\n",
       "}}\n",
       "\n",
       "                        })                };                });            </script>        </div>"
      ]
     },
     "metadata": {},
     "output_type": "display_data"
    }
   ],
   "source": [
    "# adicionando os elementos à nossa figura\n",
    "fig.add_trace(go.Scatter(x=cincoestados.index, y=cincoestados['11 Rondônia'], name='Rondonia'))\n",
    "# para adicionar mais elementos basta plotar repetir a operação\n",
    "fig.add_trace(go.Scatter(x=cincoestados.index, y=cincoestados['12 Acre'], name='Acre'))"
   ]
  },
  {
   "cell_type": "markdown",
   "metadata": {},
   "source": [
    ">Veja que é uma figura que exige menos comandos que o Matplotlib. Além disso, é mais customizável e bonito"
   ]
  },
  {
   "cell_type": "code",
   "execution_count": 18,
   "metadata": {},
   "outputs": [],
   "source": [
    "# criando gráfico de barras\n",
    "# agora vamos utilizar o plotly express, por ser mais simples que o graph objects\n",
    "import plotly.express as px"
   ]
  },
  {
   "cell_type": "code",
   "execution_count": 9,
   "metadata": {},
   "outputs": [],
   "source": [
    "# veja que não é necessário criar a figura como fizemos com o go\n",
    "fig2 = px.bar(x=gastos_do_ultimo_mes.index, y=gastos_do_ultimo_mes, labels={'x':'Unidade da Federação', \n",
    "                                                                            'y':'Gastos'})"
   ]
  },
  {
   "cell_type": "code",
   "execution_count": 10,
   "metadata": {},
   "outputs": [
    {
     "data": {
      "application/vnd.plotly.v1+json": {
       "config": {
        "plotlyServerURL": "https://plot.ly"
       },
       "data": [
        {
         "alignmentgroup": "True",
         "hovertemplate": "Unidade da Federação=%{x}<br>Gastos=%{y}<extra></extra>",
         "legendgroup": "",
         "marker": {
          "color": "#636efa"
         },
         "name": "",
         "offsetgroup": "",
         "orientation": "v",
         "showlegend": false,
         "textposition": "auto",
         "type": "bar",
         "x": [
          "35 São Paulo",
          "31 Minas Gerais",
          "41 Paraná",
          "43 Rio Grande do Sul",
          "33 Rio de Janeiro",
          "29 Bahia",
          "26 Pernambuco",
          "42 Santa Catarina",
          "23 Ceará",
          "52 Goiás",
          "15 Pará",
          "21 Maranhão",
          "32 Espírito Santo",
          "24 Rio Grande do Norte",
          "25 Paraíba",
          "53 Distrito Federal",
          "50 Mato Grosso do Sul",
          "22 Piauí",
          "27 Alagoas",
          "51 Mato Grosso",
          "13 Amazonas",
          "28 Sergipe",
          "17 Tocantins",
          "11 Rondônia",
          "12 Acre",
          "14 Roraima",
          "16 Amapá"
         ],
         "xaxis": "x",
         "y": [
          366.72124370999995,
          164.89182363999998,
          109.65836043,
          100.53103583,
          98.72268754000001,
          83.99213490999999,
          74.19280058,
          63.46782884,
          55.18075148,
          39.40505036,
          38.43887379,
          32.936503370000004,
          33.29088033,
          26.302373940000003,
          26.90243872,
          25.26977334,
          18.75555792,
          17.87159861,
          18.35168084,
          16.37163949,
          19.346450179999998,
          10.31326256,
          9.1317076,
          11.15210708,
          3.9151932,
          3.0154883,
          3.24956587
         ],
         "yaxis": "y"
        }
       ],
       "layout": {
        "barmode": "relative",
        "legend": {
         "tracegroupgap": 0
        },
        "margin": {
         "t": 60
        },
        "template": {
         "data": {
          "bar": [
           {
            "error_x": {
             "color": "#2a3f5f"
            },
            "error_y": {
             "color": "#2a3f5f"
            },
            "marker": {
             "line": {
              "color": "#E5ECF6",
              "width": 0.5
             }
            },
            "type": "bar"
           }
          ],
          "barpolar": [
           {
            "marker": {
             "line": {
              "color": "#E5ECF6",
              "width": 0.5
             }
            },
            "type": "barpolar"
           }
          ],
          "carpet": [
           {
            "aaxis": {
             "endlinecolor": "#2a3f5f",
             "gridcolor": "white",
             "linecolor": "white",
             "minorgridcolor": "white",
             "startlinecolor": "#2a3f5f"
            },
            "baxis": {
             "endlinecolor": "#2a3f5f",
             "gridcolor": "white",
             "linecolor": "white",
             "minorgridcolor": "white",
             "startlinecolor": "#2a3f5f"
            },
            "type": "carpet"
           }
          ],
          "choropleth": [
           {
            "colorbar": {
             "outlinewidth": 0,
             "ticks": ""
            },
            "type": "choropleth"
           }
          ],
          "contour": [
           {
            "colorbar": {
             "outlinewidth": 0,
             "ticks": ""
            },
            "colorscale": [
             [
              0,
              "#0d0887"
             ],
             [
              0.1111111111111111,
              "#46039f"
             ],
             [
              0.2222222222222222,
              "#7201a8"
             ],
             [
              0.3333333333333333,
              "#9c179e"
             ],
             [
              0.4444444444444444,
              "#bd3786"
             ],
             [
              0.5555555555555556,
              "#d8576b"
             ],
             [
              0.6666666666666666,
              "#ed7953"
             ],
             [
              0.7777777777777778,
              "#fb9f3a"
             ],
             [
              0.8888888888888888,
              "#fdca26"
             ],
             [
              1,
              "#f0f921"
             ]
            ],
            "type": "contour"
           }
          ],
          "contourcarpet": [
           {
            "colorbar": {
             "outlinewidth": 0,
             "ticks": ""
            },
            "type": "contourcarpet"
           }
          ],
          "heatmap": [
           {
            "colorbar": {
             "outlinewidth": 0,
             "ticks": ""
            },
            "colorscale": [
             [
              0,
              "#0d0887"
             ],
             [
              0.1111111111111111,
              "#46039f"
             ],
             [
              0.2222222222222222,
              "#7201a8"
             ],
             [
              0.3333333333333333,
              "#9c179e"
             ],
             [
              0.4444444444444444,
              "#bd3786"
             ],
             [
              0.5555555555555556,
              "#d8576b"
             ],
             [
              0.6666666666666666,
              "#ed7953"
             ],
             [
              0.7777777777777778,
              "#fb9f3a"
             ],
             [
              0.8888888888888888,
              "#fdca26"
             ],
             [
              1,
              "#f0f921"
             ]
            ],
            "type": "heatmap"
           }
          ],
          "heatmapgl": [
           {
            "colorbar": {
             "outlinewidth": 0,
             "ticks": ""
            },
            "colorscale": [
             [
              0,
              "#0d0887"
             ],
             [
              0.1111111111111111,
              "#46039f"
             ],
             [
              0.2222222222222222,
              "#7201a8"
             ],
             [
              0.3333333333333333,
              "#9c179e"
             ],
             [
              0.4444444444444444,
              "#bd3786"
             ],
             [
              0.5555555555555556,
              "#d8576b"
             ],
             [
              0.6666666666666666,
              "#ed7953"
             ],
             [
              0.7777777777777778,
              "#fb9f3a"
             ],
             [
              0.8888888888888888,
              "#fdca26"
             ],
             [
              1,
              "#f0f921"
             ]
            ],
            "type": "heatmapgl"
           }
          ],
          "histogram": [
           {
            "marker": {
             "colorbar": {
              "outlinewidth": 0,
              "ticks": ""
             }
            },
            "type": "histogram"
           }
          ],
          "histogram2d": [
           {
            "colorbar": {
             "outlinewidth": 0,
             "ticks": ""
            },
            "colorscale": [
             [
              0,
              "#0d0887"
             ],
             [
              0.1111111111111111,
              "#46039f"
             ],
             [
              0.2222222222222222,
              "#7201a8"
             ],
             [
              0.3333333333333333,
              "#9c179e"
             ],
             [
              0.4444444444444444,
              "#bd3786"
             ],
             [
              0.5555555555555556,
              "#d8576b"
             ],
             [
              0.6666666666666666,
              "#ed7953"
             ],
             [
              0.7777777777777778,
              "#fb9f3a"
             ],
             [
              0.8888888888888888,
              "#fdca26"
             ],
             [
              1,
              "#f0f921"
             ]
            ],
            "type": "histogram2d"
           }
          ],
          "histogram2dcontour": [
           {
            "colorbar": {
             "outlinewidth": 0,
             "ticks": ""
            },
            "colorscale": [
             [
              0,
              "#0d0887"
             ],
             [
              0.1111111111111111,
              "#46039f"
             ],
             [
              0.2222222222222222,
              "#7201a8"
             ],
             [
              0.3333333333333333,
              "#9c179e"
             ],
             [
              0.4444444444444444,
              "#bd3786"
             ],
             [
              0.5555555555555556,
              "#d8576b"
             ],
             [
              0.6666666666666666,
              "#ed7953"
             ],
             [
              0.7777777777777778,
              "#fb9f3a"
             ],
             [
              0.8888888888888888,
              "#fdca26"
             ],
             [
              1,
              "#f0f921"
             ]
            ],
            "type": "histogram2dcontour"
           }
          ],
          "mesh3d": [
           {
            "colorbar": {
             "outlinewidth": 0,
             "ticks": ""
            },
            "type": "mesh3d"
           }
          ],
          "parcoords": [
           {
            "line": {
             "colorbar": {
              "outlinewidth": 0,
              "ticks": ""
             }
            },
            "type": "parcoords"
           }
          ],
          "pie": [
           {
            "automargin": true,
            "type": "pie"
           }
          ],
          "scatter": [
           {
            "marker": {
             "colorbar": {
              "outlinewidth": 0,
              "ticks": ""
             }
            },
            "type": "scatter"
           }
          ],
          "scatter3d": [
           {
            "line": {
             "colorbar": {
              "outlinewidth": 0,
              "ticks": ""
             }
            },
            "marker": {
             "colorbar": {
              "outlinewidth": 0,
              "ticks": ""
             }
            },
            "type": "scatter3d"
           }
          ],
          "scattercarpet": [
           {
            "marker": {
             "colorbar": {
              "outlinewidth": 0,
              "ticks": ""
             }
            },
            "type": "scattercarpet"
           }
          ],
          "scattergeo": [
           {
            "marker": {
             "colorbar": {
              "outlinewidth": 0,
              "ticks": ""
             }
            },
            "type": "scattergeo"
           }
          ],
          "scattergl": [
           {
            "marker": {
             "colorbar": {
              "outlinewidth": 0,
              "ticks": ""
             }
            },
            "type": "scattergl"
           }
          ],
          "scattermapbox": [
           {
            "marker": {
             "colorbar": {
              "outlinewidth": 0,
              "ticks": ""
             }
            },
            "type": "scattermapbox"
           }
          ],
          "scatterpolar": [
           {
            "marker": {
             "colorbar": {
              "outlinewidth": 0,
              "ticks": ""
             }
            },
            "type": "scatterpolar"
           }
          ],
          "scatterpolargl": [
           {
            "marker": {
             "colorbar": {
              "outlinewidth": 0,
              "ticks": ""
             }
            },
            "type": "scatterpolargl"
           }
          ],
          "scatterternary": [
           {
            "marker": {
             "colorbar": {
              "outlinewidth": 0,
              "ticks": ""
             }
            },
            "type": "scatterternary"
           }
          ],
          "surface": [
           {
            "colorbar": {
             "outlinewidth": 0,
             "ticks": ""
            },
            "colorscale": [
             [
              0,
              "#0d0887"
             ],
             [
              0.1111111111111111,
              "#46039f"
             ],
             [
              0.2222222222222222,
              "#7201a8"
             ],
             [
              0.3333333333333333,
              "#9c179e"
             ],
             [
              0.4444444444444444,
              "#bd3786"
             ],
             [
              0.5555555555555556,
              "#d8576b"
             ],
             [
              0.6666666666666666,
              "#ed7953"
             ],
             [
              0.7777777777777778,
              "#fb9f3a"
             ],
             [
              0.8888888888888888,
              "#fdca26"
             ],
             [
              1,
              "#f0f921"
             ]
            ],
            "type": "surface"
           }
          ],
          "table": [
           {
            "cells": {
             "fill": {
              "color": "#EBF0F8"
             },
             "line": {
              "color": "white"
             }
            },
            "header": {
             "fill": {
              "color": "#C8D4E3"
             },
             "line": {
              "color": "white"
             }
            },
            "type": "table"
           }
          ]
         },
         "layout": {
          "annotationdefaults": {
           "arrowcolor": "#2a3f5f",
           "arrowhead": 0,
           "arrowwidth": 1
          },
          "autotypenumbers": "strict",
          "coloraxis": {
           "colorbar": {
            "outlinewidth": 0,
            "ticks": ""
           }
          },
          "colorscale": {
           "diverging": [
            [
             0,
             "#8e0152"
            ],
            [
             0.1,
             "#c51b7d"
            ],
            [
             0.2,
             "#de77ae"
            ],
            [
             0.3,
             "#f1b6da"
            ],
            [
             0.4,
             "#fde0ef"
            ],
            [
             0.5,
             "#f7f7f7"
            ],
            [
             0.6,
             "#e6f5d0"
            ],
            [
             0.7,
             "#b8e186"
            ],
            [
             0.8,
             "#7fbc41"
            ],
            [
             0.9,
             "#4d9221"
            ],
            [
             1,
             "#276419"
            ]
           ],
           "sequential": [
            [
             0,
             "#0d0887"
            ],
            [
             0.1111111111111111,
             "#46039f"
            ],
            [
             0.2222222222222222,
             "#7201a8"
            ],
            [
             0.3333333333333333,
             "#9c179e"
            ],
            [
             0.4444444444444444,
             "#bd3786"
            ],
            [
             0.5555555555555556,
             "#d8576b"
            ],
            [
             0.6666666666666666,
             "#ed7953"
            ],
            [
             0.7777777777777778,
             "#fb9f3a"
            ],
            [
             0.8888888888888888,
             "#fdca26"
            ],
            [
             1,
             "#f0f921"
            ]
           ],
           "sequentialminus": [
            [
             0,
             "#0d0887"
            ],
            [
             0.1111111111111111,
             "#46039f"
            ],
            [
             0.2222222222222222,
             "#7201a8"
            ],
            [
             0.3333333333333333,
             "#9c179e"
            ],
            [
             0.4444444444444444,
             "#bd3786"
            ],
            [
             0.5555555555555556,
             "#d8576b"
            ],
            [
             0.6666666666666666,
             "#ed7953"
            ],
            [
             0.7777777777777778,
             "#fb9f3a"
            ],
            [
             0.8888888888888888,
             "#fdca26"
            ],
            [
             1,
             "#f0f921"
            ]
           ]
          },
          "colorway": [
           "#636efa",
           "#EF553B",
           "#00cc96",
           "#ab63fa",
           "#FFA15A",
           "#19d3f3",
           "#FF6692",
           "#B6E880",
           "#FF97FF",
           "#FECB52"
          ],
          "font": {
           "color": "#2a3f5f"
          },
          "geo": {
           "bgcolor": "white",
           "lakecolor": "white",
           "landcolor": "#E5ECF6",
           "showlakes": true,
           "showland": true,
           "subunitcolor": "white"
          },
          "hoverlabel": {
           "align": "left"
          },
          "hovermode": "closest",
          "mapbox": {
           "style": "light"
          },
          "paper_bgcolor": "white",
          "plot_bgcolor": "#E5ECF6",
          "polar": {
           "angularaxis": {
            "gridcolor": "white",
            "linecolor": "white",
            "ticks": ""
           },
           "bgcolor": "#E5ECF6",
           "radialaxis": {
            "gridcolor": "white",
            "linecolor": "white",
            "ticks": ""
           }
          },
          "scene": {
           "xaxis": {
            "backgroundcolor": "#E5ECF6",
            "gridcolor": "white",
            "gridwidth": 2,
            "linecolor": "white",
            "showbackground": true,
            "ticks": "",
            "zerolinecolor": "white"
           },
           "yaxis": {
            "backgroundcolor": "#E5ECF6",
            "gridcolor": "white",
            "gridwidth": 2,
            "linecolor": "white",
            "showbackground": true,
            "ticks": "",
            "zerolinecolor": "white"
           },
           "zaxis": {
            "backgroundcolor": "#E5ECF6",
            "gridcolor": "white",
            "gridwidth": 2,
            "linecolor": "white",
            "showbackground": true,
            "ticks": "",
            "zerolinecolor": "white"
           }
          },
          "shapedefaults": {
           "line": {
            "color": "#2a3f5f"
           }
          },
          "ternary": {
           "aaxis": {
            "gridcolor": "white",
            "linecolor": "white",
            "ticks": ""
           },
           "baxis": {
            "gridcolor": "white",
            "linecolor": "white",
            "ticks": ""
           },
           "bgcolor": "#E5ECF6",
           "caxis": {
            "gridcolor": "white",
            "linecolor": "white",
            "ticks": ""
           }
          },
          "title": {
           "x": 0.05
          },
          "xaxis": {
           "automargin": true,
           "gridcolor": "white",
           "linecolor": "white",
           "ticks": "",
           "title": {
            "standoff": 15
           },
           "zerolinecolor": "white",
           "zerolinewidth": 2
          },
          "yaxis": {
           "automargin": true,
           "gridcolor": "white",
           "linecolor": "white",
           "ticks": "",
           "title": {
            "standoff": 15
           },
           "zerolinecolor": "white",
           "zerolinewidth": 2
          }
         }
        },
        "xaxis": {
         "anchor": "y",
         "domain": [
          0,
          1
         ],
         "title": {
          "text": "Unidade da Federação"
         }
        },
        "yaxis": {
         "anchor": "x",
         "domain": [
          0,
          1
         ],
         "title": {
          "text": "Gastos"
         }
        }
       }
      },
      "text/html": [
       "<div>                            <div id=\"190f2a14-51af-4670-b5ad-94187ede049a\" class=\"plotly-graph-div\" style=\"height:525px; width:100%;\"></div>            <script type=\"text/javascript\">                require([\"plotly\"], function(Plotly) {                    window.PLOTLYENV=window.PLOTLYENV || {};                                    if (document.getElementById(\"190f2a14-51af-4670-b5ad-94187ede049a\")) {                    Plotly.newPlot(                        \"190f2a14-51af-4670-b5ad-94187ede049a\",                        [{\"alignmentgroup\": \"True\", \"hovertemplate\": \"Unidade da Federa\\u00e7\\u00e3o=%{x}<br>Gastos=%{y}<extra></extra>\", \"legendgroup\": \"\", \"marker\": {\"color\": \"#636efa\"}, \"name\": \"\", \"offsetgroup\": \"\", \"orientation\": \"v\", \"showlegend\": false, \"textposition\": \"auto\", \"type\": \"bar\", \"x\": [\"35 S\\u00e3o Paulo\", \"31 Minas Gerais\", \"41 Paran\\u00e1\", \"43 Rio Grande do Sul\", \"33 Rio de Janeiro\", \"29 Bahia\", \"26 Pernambuco\", \"42 Santa Catarina\", \"23 Cear\\u00e1\", \"52 Goi\\u00e1s\", \"15 Par\\u00e1\", \"21 Maranh\\u00e3o\", \"32 Esp\\u00edrito Santo\", \"24 Rio Grande do Norte\", \"25 Para\\u00edba\", \"53 Distrito Federal\", \"50 Mato Grosso do Sul\", \"22 Piau\\u00ed\", \"27 Alagoas\", \"51 Mato Grosso\", \"13 Amazonas\", \"28 Sergipe\", \"17 Tocantins\", \"11 Rond\\u00f4nia\", \"12 Acre\", \"14 Roraima\", \"16 Amap\\u00e1\"], \"xaxis\": \"x\", \"y\": [366.72124370999995, 164.89182363999998, 109.65836043, 100.53103583, 98.72268754000001, 83.99213490999999, 74.19280058, 63.46782884, 55.18075148, 39.40505036, 38.43887379, 32.936503370000004, 33.29088033, 26.302373940000003, 26.90243872, 25.26977334, 18.75555792, 17.87159861, 18.35168084, 16.37163949, 19.346450179999998, 10.31326256, 9.1317076, 11.15210708, 3.9151932, 3.0154883, 3.24956587], \"yaxis\": \"y\"}],                        {\"barmode\": \"relative\", \"legend\": {\"tracegroupgap\": 0}, \"margin\": {\"t\": 60}, \"template\": {\"data\": {\"bar\": [{\"error_x\": {\"color\": \"#2a3f5f\"}, \"error_y\": {\"color\": \"#2a3f5f\"}, \"marker\": {\"line\": {\"color\": \"#E5ECF6\", \"width\": 0.5}}, \"type\": \"bar\"}], \"barpolar\": [{\"marker\": {\"line\": {\"color\": \"#E5ECF6\", \"width\": 0.5}}, \"type\": \"barpolar\"}], \"carpet\": [{\"aaxis\": {\"endlinecolor\": \"#2a3f5f\", \"gridcolor\": \"white\", \"linecolor\": \"white\", \"minorgridcolor\": \"white\", \"startlinecolor\": \"#2a3f5f\"}, \"baxis\": {\"endlinecolor\": \"#2a3f5f\", \"gridcolor\": \"white\", \"linecolor\": \"white\", \"minorgridcolor\": \"white\", \"startlinecolor\": \"#2a3f5f\"}, \"type\": \"carpet\"}], \"choropleth\": [{\"colorbar\": {\"outlinewidth\": 0, \"ticks\": \"\"}, \"type\": \"choropleth\"}], \"contour\": [{\"colorbar\": {\"outlinewidth\": 0, \"ticks\": \"\"}, \"colorscale\": [[0.0, \"#0d0887\"], [0.1111111111111111, \"#46039f\"], [0.2222222222222222, \"#7201a8\"], [0.3333333333333333, \"#9c179e\"], [0.4444444444444444, \"#bd3786\"], [0.5555555555555556, \"#d8576b\"], [0.6666666666666666, \"#ed7953\"], [0.7777777777777778, \"#fb9f3a\"], [0.8888888888888888, \"#fdca26\"], [1.0, \"#f0f921\"]], \"type\": \"contour\"}], \"contourcarpet\": [{\"colorbar\": {\"outlinewidth\": 0, \"ticks\": \"\"}, \"type\": \"contourcarpet\"}], \"heatmap\": [{\"colorbar\": {\"outlinewidth\": 0, \"ticks\": \"\"}, \"colorscale\": [[0.0, \"#0d0887\"], [0.1111111111111111, \"#46039f\"], [0.2222222222222222, \"#7201a8\"], [0.3333333333333333, \"#9c179e\"], [0.4444444444444444, \"#bd3786\"], [0.5555555555555556, \"#d8576b\"], [0.6666666666666666, \"#ed7953\"], [0.7777777777777778, \"#fb9f3a\"], [0.8888888888888888, \"#fdca26\"], [1.0, \"#f0f921\"]], \"type\": \"heatmap\"}], \"heatmapgl\": [{\"colorbar\": {\"outlinewidth\": 0, \"ticks\": \"\"}, \"colorscale\": [[0.0, \"#0d0887\"], [0.1111111111111111, \"#46039f\"], [0.2222222222222222, \"#7201a8\"], [0.3333333333333333, \"#9c179e\"], [0.4444444444444444, \"#bd3786\"], [0.5555555555555556, \"#d8576b\"], [0.6666666666666666, \"#ed7953\"], [0.7777777777777778, \"#fb9f3a\"], [0.8888888888888888, \"#fdca26\"], [1.0, \"#f0f921\"]], \"type\": \"heatmapgl\"}], \"histogram\": [{\"marker\": {\"colorbar\": {\"outlinewidth\": 0, \"ticks\": \"\"}}, \"type\": \"histogram\"}], \"histogram2d\": [{\"colorbar\": {\"outlinewidth\": 0, \"ticks\": \"\"}, \"colorscale\": [[0.0, \"#0d0887\"], [0.1111111111111111, \"#46039f\"], [0.2222222222222222, \"#7201a8\"], [0.3333333333333333, \"#9c179e\"], [0.4444444444444444, \"#bd3786\"], [0.5555555555555556, \"#d8576b\"], [0.6666666666666666, \"#ed7953\"], [0.7777777777777778, \"#fb9f3a\"], [0.8888888888888888, \"#fdca26\"], [1.0, \"#f0f921\"]], \"type\": \"histogram2d\"}], \"histogram2dcontour\": [{\"colorbar\": {\"outlinewidth\": 0, \"ticks\": \"\"}, \"colorscale\": [[0.0, \"#0d0887\"], [0.1111111111111111, \"#46039f\"], [0.2222222222222222, \"#7201a8\"], [0.3333333333333333, \"#9c179e\"], [0.4444444444444444, \"#bd3786\"], [0.5555555555555556, \"#d8576b\"], [0.6666666666666666, \"#ed7953\"], [0.7777777777777778, \"#fb9f3a\"], [0.8888888888888888, \"#fdca26\"], [1.0, \"#f0f921\"]], \"type\": \"histogram2dcontour\"}], \"mesh3d\": [{\"colorbar\": {\"outlinewidth\": 0, \"ticks\": \"\"}, \"type\": \"mesh3d\"}], \"parcoords\": [{\"line\": {\"colorbar\": {\"outlinewidth\": 0, \"ticks\": \"\"}}, \"type\": \"parcoords\"}], \"pie\": [{\"automargin\": true, \"type\": \"pie\"}], \"scatter\": [{\"marker\": {\"colorbar\": {\"outlinewidth\": 0, \"ticks\": \"\"}}, \"type\": \"scatter\"}], \"scatter3d\": [{\"line\": {\"colorbar\": {\"outlinewidth\": 0, \"ticks\": \"\"}}, \"marker\": {\"colorbar\": {\"outlinewidth\": 0, \"ticks\": \"\"}}, \"type\": \"scatter3d\"}], \"scattercarpet\": [{\"marker\": {\"colorbar\": {\"outlinewidth\": 0, \"ticks\": \"\"}}, \"type\": \"scattercarpet\"}], \"scattergeo\": [{\"marker\": {\"colorbar\": {\"outlinewidth\": 0, \"ticks\": \"\"}}, \"type\": \"scattergeo\"}], \"scattergl\": [{\"marker\": {\"colorbar\": {\"outlinewidth\": 0, \"ticks\": \"\"}}, \"type\": \"scattergl\"}], \"scattermapbox\": [{\"marker\": {\"colorbar\": {\"outlinewidth\": 0, \"ticks\": \"\"}}, \"type\": \"scattermapbox\"}], \"scatterpolar\": [{\"marker\": {\"colorbar\": {\"outlinewidth\": 0, \"ticks\": \"\"}}, \"type\": \"scatterpolar\"}], \"scatterpolargl\": [{\"marker\": {\"colorbar\": {\"outlinewidth\": 0, \"ticks\": \"\"}}, \"type\": \"scatterpolargl\"}], \"scatterternary\": [{\"marker\": {\"colorbar\": {\"outlinewidth\": 0, \"ticks\": \"\"}}, \"type\": \"scatterternary\"}], \"surface\": [{\"colorbar\": {\"outlinewidth\": 0, \"ticks\": \"\"}, \"colorscale\": [[0.0, \"#0d0887\"], [0.1111111111111111, \"#46039f\"], [0.2222222222222222, \"#7201a8\"], [0.3333333333333333, \"#9c179e\"], [0.4444444444444444, \"#bd3786\"], [0.5555555555555556, \"#d8576b\"], [0.6666666666666666, \"#ed7953\"], [0.7777777777777778, \"#fb9f3a\"], [0.8888888888888888, \"#fdca26\"], [1.0, \"#f0f921\"]], \"type\": \"surface\"}], \"table\": [{\"cells\": {\"fill\": {\"color\": \"#EBF0F8\"}, \"line\": {\"color\": \"white\"}}, \"header\": {\"fill\": {\"color\": \"#C8D4E3\"}, \"line\": {\"color\": \"white\"}}, \"type\": \"table\"}]}, \"layout\": {\"annotationdefaults\": {\"arrowcolor\": \"#2a3f5f\", \"arrowhead\": 0, \"arrowwidth\": 1}, \"autotypenumbers\": \"strict\", \"coloraxis\": {\"colorbar\": {\"outlinewidth\": 0, \"ticks\": \"\"}}, \"colorscale\": {\"diverging\": [[0, \"#8e0152\"], [0.1, \"#c51b7d\"], [0.2, \"#de77ae\"], [0.3, \"#f1b6da\"], [0.4, \"#fde0ef\"], [0.5, \"#f7f7f7\"], [0.6, \"#e6f5d0\"], [0.7, \"#b8e186\"], [0.8, \"#7fbc41\"], [0.9, \"#4d9221\"], [1, \"#276419\"]], \"sequential\": [[0.0, \"#0d0887\"], [0.1111111111111111, \"#46039f\"], [0.2222222222222222, \"#7201a8\"], [0.3333333333333333, \"#9c179e\"], [0.4444444444444444, \"#bd3786\"], [0.5555555555555556, \"#d8576b\"], [0.6666666666666666, \"#ed7953\"], [0.7777777777777778, \"#fb9f3a\"], [0.8888888888888888, \"#fdca26\"], [1.0, \"#f0f921\"]], \"sequentialminus\": [[0.0, \"#0d0887\"], [0.1111111111111111, \"#46039f\"], [0.2222222222222222, \"#7201a8\"], [0.3333333333333333, \"#9c179e\"], [0.4444444444444444, \"#bd3786\"], [0.5555555555555556, \"#d8576b\"], [0.6666666666666666, \"#ed7953\"], [0.7777777777777778, \"#fb9f3a\"], [0.8888888888888888, \"#fdca26\"], [1.0, \"#f0f921\"]]}, \"colorway\": [\"#636efa\", \"#EF553B\", \"#00cc96\", \"#ab63fa\", \"#FFA15A\", \"#19d3f3\", \"#FF6692\", \"#B6E880\", \"#FF97FF\", \"#FECB52\"], \"font\": {\"color\": \"#2a3f5f\"}, \"geo\": {\"bgcolor\": \"white\", \"lakecolor\": \"white\", \"landcolor\": \"#E5ECF6\", \"showlakes\": true, \"showland\": true, \"subunitcolor\": \"white\"}, \"hoverlabel\": {\"align\": \"left\"}, \"hovermode\": \"closest\", \"mapbox\": {\"style\": \"light\"}, \"paper_bgcolor\": \"white\", \"plot_bgcolor\": \"#E5ECF6\", \"polar\": {\"angularaxis\": {\"gridcolor\": \"white\", \"linecolor\": \"white\", \"ticks\": \"\"}, \"bgcolor\": \"#E5ECF6\", \"radialaxis\": {\"gridcolor\": \"white\", \"linecolor\": \"white\", \"ticks\": \"\"}}, \"scene\": {\"xaxis\": {\"backgroundcolor\": \"#E5ECF6\", \"gridcolor\": \"white\", \"gridwidth\": 2, \"linecolor\": \"white\", \"showbackground\": true, \"ticks\": \"\", \"zerolinecolor\": \"white\"}, \"yaxis\": {\"backgroundcolor\": \"#E5ECF6\", \"gridcolor\": \"white\", \"gridwidth\": 2, \"linecolor\": \"white\", \"showbackground\": true, \"ticks\": \"\", \"zerolinecolor\": \"white\"}, \"zaxis\": {\"backgroundcolor\": \"#E5ECF6\", \"gridcolor\": \"white\", \"gridwidth\": 2, \"linecolor\": \"white\", \"showbackground\": true, \"ticks\": \"\", \"zerolinecolor\": \"white\"}}, \"shapedefaults\": {\"line\": {\"color\": \"#2a3f5f\"}}, \"ternary\": {\"aaxis\": {\"gridcolor\": \"white\", \"linecolor\": \"white\", \"ticks\": \"\"}, \"baxis\": {\"gridcolor\": \"white\", \"linecolor\": \"white\", \"ticks\": \"\"}, \"bgcolor\": \"#E5ECF6\", \"caxis\": {\"gridcolor\": \"white\", \"linecolor\": \"white\", \"ticks\": \"\"}}, \"title\": {\"x\": 0.05}, \"xaxis\": {\"automargin\": true, \"gridcolor\": \"white\", \"linecolor\": \"white\", \"ticks\": \"\", \"title\": {\"standoff\": 15}, \"zerolinecolor\": \"white\", \"zerolinewidth\": 2}, \"yaxis\": {\"automargin\": true, \"gridcolor\": \"white\", \"linecolor\": \"white\", \"ticks\": \"\", \"title\": {\"standoff\": 15}, \"zerolinecolor\": \"white\", \"zerolinewidth\": 2}}}, \"xaxis\": {\"anchor\": \"y\", \"domain\": [0.0, 1.0], \"title\": {\"text\": \"Unidade da Federa\\u00e7\\u00e3o\"}}, \"yaxis\": {\"anchor\": \"x\", \"domain\": [0.0, 1.0], \"title\": {\"text\": \"Gastos\"}}},                        {\"responsive\": true}                    ).then(function(){\n",
       "                            \n",
       "var gd = document.getElementById('190f2a14-51af-4670-b5ad-94187ede049a');\n",
       "var x = new MutationObserver(function (mutations, observer) {{\n",
       "        var display = window.getComputedStyle(gd).display;\n",
       "        if (!display || display === 'none') {{\n",
       "            console.log([gd, 'removed!']);\n",
       "            Plotly.purge(gd);\n",
       "            observer.disconnect();\n",
       "        }}\n",
       "}});\n",
       "\n",
       "// Listen for the removal of the full notebook cells\n",
       "var notebookContainer = gd.closest('#notebook-container');\n",
       "if (notebookContainer) {{\n",
       "    x.observe(notebookContainer, {childList: true});\n",
       "}}\n",
       "\n",
       "// Listen for the clearing of the current output cell\n",
       "var outputEl = gd.closest('.output');\n",
       "if (outputEl) {{\n",
       "    x.observe(outputEl, {childList: true});\n",
       "}}\n",
       "\n",
       "                        })                };                });            </script>        </div>"
      ]
     },
     "metadata": {},
     "output_type": "display_data"
    }
   ],
   "source": [
    "fig2.show()"
   ]
  },
  {
   "cell_type": "code",
   "execution_count": 11,
   "metadata": {},
   "outputs": [],
   "source": [
    "# salvando um arquivo para ser postado numa página da internet\n",
    "fig2.write_html('imagem.html')"
   ]
  },
  {
   "cell_type": "markdown",
   "metadata": {},
   "source": [
    "# Estilizando Pandas"
   ]
  },
  {
   "cell_type": "code",
   "execution_count": 30,
   "metadata": {},
   "outputs": [],
   "source": [
    "# essa será nossa base de dados\n",
    "carros = {'Marca':['Honda Civic', 'Toyota Corolla', 'Ford Focus', 'Audi A4'], \n",
    "          'Preco':[22000, 25000, 27000, 35000]}"
   ]
  },
  {
   "cell_type": "code",
   "execution_count": 23,
   "metadata": {},
   "outputs": [],
   "source": [
    "# vamos colocar o dicionario acima dentro de um dataframe\n",
    "dados = pd.DataFrame(carros)"
   ]
  },
  {
   "cell_type": "code",
   "execution_count": 25,
   "metadata": {},
   "outputs": [
    {
     "data": {
      "text/html": [
       "<div>\n",
       "<style scoped>\n",
       "    .dataframe tbody tr th:only-of-type {\n",
       "        vertical-align: middle;\n",
       "    }\n",
       "\n",
       "    .dataframe tbody tr th {\n",
       "        vertical-align: top;\n",
       "    }\n",
       "\n",
       "    .dataframe thead th {\n",
       "        text-align: right;\n",
       "    }\n",
       "</style>\n",
       "<table border=\"1\" class=\"dataframe\">\n",
       "  <thead>\n",
       "    <tr style=\"text-align: right;\">\n",
       "      <th></th>\n",
       "      <th>Marca</th>\n",
       "      <th>Preco</th>\n",
       "    </tr>\n",
       "  </thead>\n",
       "  <tbody>\n",
       "    <tr>\n",
       "      <th>0</th>\n",
       "      <td>Honda Civic</td>\n",
       "      <td>22000</td>\n",
       "    </tr>\n",
       "    <tr>\n",
       "      <th>1</th>\n",
       "      <td>Toyota Corolla</td>\n",
       "      <td>25000</td>\n",
       "    </tr>\n",
       "    <tr>\n",
       "      <th>2</th>\n",
       "      <td>Ford Focus</td>\n",
       "      <td>27000</td>\n",
       "    </tr>\n",
       "    <tr>\n",
       "      <th>3</th>\n",
       "      <td>Audi A4</td>\n",
       "      <td>35000</td>\n",
       "    </tr>\n",
       "  </tbody>\n",
       "</table>\n",
       "</div>"
      ],
      "text/plain": [
       "            Marca  Preco\n",
       "0     Honda Civic  22000\n",
       "1  Toyota Corolla  25000\n",
       "2      Ford Focus  27000\n",
       "3         Audi A4  35000"
      ]
     },
     "execution_count": 25,
     "metadata": {},
     "output_type": "execute_result"
    }
   ],
   "source": [
    "dados"
   ]
  },
  {
   "cell_type": "code",
   "execution_count": 29,
   "metadata": {},
   "outputs": [
    {
     "data": {
      "text/html": [
       "<style  type=\"text/css\" >\n",
       "#T_8d0335ce_6ad2_11eb_84c5_211a84e32f3frow0_col0,#T_8d0335ce_6ad2_11eb_84c5_211a84e32f3frow0_col1,#T_8d0335ce_6ad2_11eb_84c5_211a84e32f3frow1_col0,#T_8d0335ce_6ad2_11eb_84c5_211a84e32f3frow1_col1,#T_8d0335ce_6ad2_11eb_84c5_211a84e32f3frow2_col0,#T_8d0335ce_6ad2_11eb_84c5_211a84e32f3frow2_col1,#T_8d0335ce_6ad2_11eb_84c5_211a84e32f3frow3_col0,#T_8d0335ce_6ad2_11eb_84c5_211a84e32f3frow3_col1{\n",
       "            background-color:  blue;\n",
       "            color:  white;\n",
       "        }</style><table id=\"T_8d0335ce_6ad2_11eb_84c5_211a84e32f3f\" ><thead>    <tr>        <th class=\"blank level0\" ></th>        <th class=\"col_heading level0 col0\" >Marca</th>        <th class=\"col_heading level0 col1\" >Preco</th>    </tr></thead><tbody>\n",
       "                <tr>\n",
       "                        <th id=\"T_8d0335ce_6ad2_11eb_84c5_211a84e32f3flevel0_row0\" class=\"row_heading level0 row0\" >0</th>\n",
       "                        <td id=\"T_8d0335ce_6ad2_11eb_84c5_211a84e32f3frow0_col0\" class=\"data row0 col0\" >Honda Civic</td>\n",
       "                        <td id=\"T_8d0335ce_6ad2_11eb_84c5_211a84e32f3frow0_col1\" class=\"data row0 col1\" >22000</td>\n",
       "            </tr>\n",
       "            <tr>\n",
       "                        <th id=\"T_8d0335ce_6ad2_11eb_84c5_211a84e32f3flevel0_row1\" class=\"row_heading level0 row1\" >1</th>\n",
       "                        <td id=\"T_8d0335ce_6ad2_11eb_84c5_211a84e32f3frow1_col0\" class=\"data row1 col0\" >Toyota Corolla</td>\n",
       "                        <td id=\"T_8d0335ce_6ad2_11eb_84c5_211a84e32f3frow1_col1\" class=\"data row1 col1\" >25000</td>\n",
       "            </tr>\n",
       "            <tr>\n",
       "                        <th id=\"T_8d0335ce_6ad2_11eb_84c5_211a84e32f3flevel0_row2\" class=\"row_heading level0 row2\" >2</th>\n",
       "                        <td id=\"T_8d0335ce_6ad2_11eb_84c5_211a84e32f3frow2_col0\" class=\"data row2 col0\" >Ford Focus</td>\n",
       "                        <td id=\"T_8d0335ce_6ad2_11eb_84c5_211a84e32f3frow2_col1\" class=\"data row2 col1\" >27000</td>\n",
       "            </tr>\n",
       "            <tr>\n",
       "                        <th id=\"T_8d0335ce_6ad2_11eb_84c5_211a84e32f3flevel0_row3\" class=\"row_heading level0 row3\" >3</th>\n",
       "                        <td id=\"T_8d0335ce_6ad2_11eb_84c5_211a84e32f3frow3_col0\" class=\"data row3 col0\" >Audi A4</td>\n",
       "                        <td id=\"T_8d0335ce_6ad2_11eb_84c5_211a84e32f3frow3_col1\" class=\"data row3 col1\" >35000</td>\n",
       "            </tr>\n",
       "    </tbody></table>"
      ],
      "text/plain": [
       "<pandas.io.formats.style.Styler at 0x7f9e7116d520>"
      ]
     },
     "execution_count": 29,
     "metadata": {},
     "output_type": "execute_result"
    }
   ],
   "source": [
    "# para dar cores ao nosso DF basta chamar o método abaixo e passar os argumentos\n",
    "dados.style.set_properties(**{'background-color':'blue', 'color':'white'})"
   ]
  },
  {
   "cell_type": "code",
   "execution_count": 31,
   "metadata": {},
   "outputs": [],
   "source": [
    "# agora vamos alterar a cor de cada célula baseado num critério específico\n",
    "# para isso precisamos criar uma função\n",
    "def cor_orcamento(val):\n",
    "    if val <= 25000:\n",
    "        color = 'red'\n",
    "    else:\n",
    "        color = 'black'\n",
    "    return 'color: %s' %color"
   ]
  },
  {
   "cell_type": "code",
   "execution_count": 37,
   "metadata": {},
   "outputs": [
    {
     "data": {
      "text/plain": [
       "'color: black'"
      ]
     },
     "execution_count": 37,
     "metadata": {},
     "output_type": "execute_result"
    }
   ],
   "source": [
    "# testando nossa função\n",
    "cor_orcamento(50000)"
   ]
  },
  {
   "cell_type": "code",
   "execution_count": 38,
   "metadata": {},
   "outputs": [
    {
     "data": {
      "text/html": [
       "<style  type=\"text/css\" >\n",
       "#T_27aa9b7a_6ad4_11eb_84c5_211a84e32f3frow0_col1,#T_27aa9b7a_6ad4_11eb_84c5_211a84e32f3frow1_col1{\n",
       "            color:  red;\n",
       "        }#T_27aa9b7a_6ad4_11eb_84c5_211a84e32f3frow2_col1,#T_27aa9b7a_6ad4_11eb_84c5_211a84e32f3frow3_col1{\n",
       "            color:  black;\n",
       "        }</style><table id=\"T_27aa9b7a_6ad4_11eb_84c5_211a84e32f3f\" ><thead>    <tr>        <th class=\"blank level0\" ></th>        <th class=\"col_heading level0 col0\" >Marca</th>        <th class=\"col_heading level0 col1\" >Preco</th>    </tr></thead><tbody>\n",
       "                <tr>\n",
       "                        <th id=\"T_27aa9b7a_6ad4_11eb_84c5_211a84e32f3flevel0_row0\" class=\"row_heading level0 row0\" >0</th>\n",
       "                        <td id=\"T_27aa9b7a_6ad4_11eb_84c5_211a84e32f3frow0_col0\" class=\"data row0 col0\" >Honda Civic</td>\n",
       "                        <td id=\"T_27aa9b7a_6ad4_11eb_84c5_211a84e32f3frow0_col1\" class=\"data row0 col1\" >22000</td>\n",
       "            </tr>\n",
       "            <tr>\n",
       "                        <th id=\"T_27aa9b7a_6ad4_11eb_84c5_211a84e32f3flevel0_row1\" class=\"row_heading level0 row1\" >1</th>\n",
       "                        <td id=\"T_27aa9b7a_6ad4_11eb_84c5_211a84e32f3frow1_col0\" class=\"data row1 col0\" >Toyota Corolla</td>\n",
       "                        <td id=\"T_27aa9b7a_6ad4_11eb_84c5_211a84e32f3frow1_col1\" class=\"data row1 col1\" >25000</td>\n",
       "            </tr>\n",
       "            <tr>\n",
       "                        <th id=\"T_27aa9b7a_6ad4_11eb_84c5_211a84e32f3flevel0_row2\" class=\"row_heading level0 row2\" >2</th>\n",
       "                        <td id=\"T_27aa9b7a_6ad4_11eb_84c5_211a84e32f3frow2_col0\" class=\"data row2 col0\" >Ford Focus</td>\n",
       "                        <td id=\"T_27aa9b7a_6ad4_11eb_84c5_211a84e32f3frow2_col1\" class=\"data row2 col1\" >27000</td>\n",
       "            </tr>\n",
       "            <tr>\n",
       "                        <th id=\"T_27aa9b7a_6ad4_11eb_84c5_211a84e32f3flevel0_row3\" class=\"row_heading level0 row3\" >3</th>\n",
       "                        <td id=\"T_27aa9b7a_6ad4_11eb_84c5_211a84e32f3frow3_col0\" class=\"data row3 col0\" >Audi A4</td>\n",
       "                        <td id=\"T_27aa9b7a_6ad4_11eb_84c5_211a84e32f3frow3_col1\" class=\"data row3 col1\" >35000</td>\n",
       "            </tr>\n",
       "    </tbody></table>"
      ],
      "text/plain": [
       "<pandas.io.formats.style.Styler at 0x7f9e70e9fd60>"
      ]
     },
     "execution_count": 38,
     "metadata": {},
     "output_type": "execute_result"
    }
   ],
   "source": [
    "# depois de criada a função usaremos outro método para estilizar o DF\n",
    "# agora será usado o applymap e dentro dele colocaremos nossa função como argumento\n",
    "# o parametro subset pede o nome da coluna onde as condições serão aplicadas\n",
    "dados.style.applymap(cor_orcamento, subset='Preco')"
   ]
  },
  {
   "cell_type": "code",
   "execution_count": 46,
   "metadata": {},
   "outputs": [],
   "source": [
    "# ainda podemos exportar o DF estilizado acima como um arquivo do excel\n",
    "dados.style.applymap(cor_orcamento, subset='Preco').to_excel('estilizado.xlsx', engine='openpyxl')"
   ]
  },
  {
   "cell_type": "code",
   "execution_count": 111,
   "metadata": {},
   "outputs": [],
   "source": [
    "def cor(val):\n",
    "    if val == 'Honda Civic':\n",
    "        background_color = 'blue'\n",
    "    else:\n",
    "        background_color = 'yellow'\n",
    "    return f'background-color:{background_color}'"
   ]
  },
  {
   "cell_type": "code",
   "execution_count": 113,
   "metadata": {},
   "outputs": [
    {
     "data": {
      "text/html": [
       "<style  type=\"text/css\" >\n",
       "#T_9e4e0030_6ad6_11eb_84c5_211a84e32f3frow0_col0{\n",
       "            background-color: blue;\n",
       "        }#T_9e4e0030_6ad6_11eb_84c5_211a84e32f3frow0_col1,#T_9e4e0030_6ad6_11eb_84c5_211a84e32f3frow1_col0,#T_9e4e0030_6ad6_11eb_84c5_211a84e32f3frow1_col1,#T_9e4e0030_6ad6_11eb_84c5_211a84e32f3frow2_col0,#T_9e4e0030_6ad6_11eb_84c5_211a84e32f3frow2_col1,#T_9e4e0030_6ad6_11eb_84c5_211a84e32f3frow3_col0,#T_9e4e0030_6ad6_11eb_84c5_211a84e32f3frow3_col1{\n",
       "            background-color: yellow;\n",
       "        }</style><table id=\"T_9e4e0030_6ad6_11eb_84c5_211a84e32f3f\" ><thead>    <tr>        <th class=\"blank level0\" ></th>        <th class=\"col_heading level0 col0\" >Marca</th>        <th class=\"col_heading level0 col1\" >Preco</th>    </tr></thead><tbody>\n",
       "                <tr>\n",
       "                        <th id=\"T_9e4e0030_6ad6_11eb_84c5_211a84e32f3flevel0_row0\" class=\"row_heading level0 row0\" >0</th>\n",
       "                        <td id=\"T_9e4e0030_6ad6_11eb_84c5_211a84e32f3frow0_col0\" class=\"data row0 col0\" >Honda Civic</td>\n",
       "                        <td id=\"T_9e4e0030_6ad6_11eb_84c5_211a84e32f3frow0_col1\" class=\"data row0 col1\" >22000</td>\n",
       "            </tr>\n",
       "            <tr>\n",
       "                        <th id=\"T_9e4e0030_6ad6_11eb_84c5_211a84e32f3flevel0_row1\" class=\"row_heading level0 row1\" >1</th>\n",
       "                        <td id=\"T_9e4e0030_6ad6_11eb_84c5_211a84e32f3frow1_col0\" class=\"data row1 col0\" >Toyota Corolla</td>\n",
       "                        <td id=\"T_9e4e0030_6ad6_11eb_84c5_211a84e32f3frow1_col1\" class=\"data row1 col1\" >25000</td>\n",
       "            </tr>\n",
       "            <tr>\n",
       "                        <th id=\"T_9e4e0030_6ad6_11eb_84c5_211a84e32f3flevel0_row2\" class=\"row_heading level0 row2\" >2</th>\n",
       "                        <td id=\"T_9e4e0030_6ad6_11eb_84c5_211a84e32f3frow2_col0\" class=\"data row2 col0\" >Ford Focus</td>\n",
       "                        <td id=\"T_9e4e0030_6ad6_11eb_84c5_211a84e32f3frow2_col1\" class=\"data row2 col1\" >27000</td>\n",
       "            </tr>\n",
       "            <tr>\n",
       "                        <th id=\"T_9e4e0030_6ad6_11eb_84c5_211a84e32f3flevel0_row3\" class=\"row_heading level0 row3\" >3</th>\n",
       "                        <td id=\"T_9e4e0030_6ad6_11eb_84c5_211a84e32f3frow3_col0\" class=\"data row3 col0\" >Audi A4</td>\n",
       "                        <td id=\"T_9e4e0030_6ad6_11eb_84c5_211a84e32f3frow3_col1\" class=\"data row3 col1\" >35000</td>\n",
       "            </tr>\n",
       "    </tbody></table>"
      ],
      "text/plain": [
       "<pandas.io.formats.style.Styler at 0x7f9e6e45e340>"
      ]
     },
     "execution_count": 113,
     "metadata": {},
     "output_type": "execute_result"
    }
   ],
   "source": [
    "dados.style.applymap(cor)"
   ]
  }
 ],
 "metadata": {
  "kernelspec": {
   "display_name": "Python 3",
   "language": "python",
   "name": "python3"
  },
  "language_info": {
   "codemirror_mode": {
    "name": "ipython",
    "version": 3
   },
   "file_extension": ".py",
   "mimetype": "text/x-python",
   "name": "python",
   "nbconvert_exporter": "python",
   "pygments_lexer": "ipython3",
   "version": "3.8.5"
  }
 },
 "nbformat": 4,
 "nbformat_minor": 4
}
