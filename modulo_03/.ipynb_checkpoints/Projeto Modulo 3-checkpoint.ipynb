{
 "cells": [
  {
   "cell_type": "code",
   "execution_count": 1,
   "metadata": {},
   "outputs": [],
   "source": [
    "import pandas as pd\n",
    "import numpy as np\n",
    "import seaborn as sns\n",
    "import plotly.graph_objects as go\n",
    "import matplotlib.pyplot as plt\n",
    "from zipfile import ZipFile"
   ]
  },
  {
   "cell_type": "code",
   "execution_count": 2,
   "metadata": {},
   "outputs": [],
   "source": [
    "zip = ZipFile('PeNSE_2015_AMOSTRA2.zip')"
   ]
  },
  {
   "cell_type": "code",
   "execution_count": 3,
   "metadata": {},
   "outputs": [
    {
     "data": {
      "text/plain": [
       "['arquivos csv/',\n",
       " 'arquivos csv/PENSE_AMOSTRA2_ALUNO.CSV',\n",
       " 'arquivos csv/PENSE_AMOSTRA2_ALUNOESCOLA.CSV',\n",
       " 'arquivos csv/PENSE_AMOSTRA2_ESCOLA.CSV',\n",
       " 'arquivos sas/',\n",
       " 'arquivos sas/pense_amostra2_aluno.sas7bdat',\n",
       " 'arquivos sas/pense_amostra2_alunoescola.sas7bdat',\n",
       " 'arquivos sas/pense_amostra2_escola.sas7bdat',\n",
       " 'arquivos xlsx/',\n",
       " 'arquivos xlsx/PENSE_AMOSTRA2_ALUNO.xlsx',\n",
       " 'arquivos xlsx/PENSE_AMOSTRA2_ALUNOESCOLA.xlsx',\n",
       " 'arquivos xlsx/PENSE_AMOSTRA2_ESCOLA.xlsx',\n",
       " 'Dicionario_PENSE_Microdados_AMOSTRA2.xls']"
      ]
     },
     "execution_count": 3,
     "metadata": {},
     "output_type": "execute_result"
    }
   ],
   "source": [
    "zip.namelist()"
   ]
  },
  {
   "cell_type": "code",
   "execution_count": 4,
   "metadata": {},
   "outputs": [],
   "source": [
    "caminho_zip = zip.namelist()[1]"
   ]
  },
  {
   "cell_type": "code",
   "execution_count": 5,
   "metadata": {},
   "outputs": [
    {
     "data": {
      "text/html": [
       "<div>\n",
       "<style scoped>\n",
       "    .dataframe tbody tr th:only-of-type {\n",
       "        vertical-align: middle;\n",
       "    }\n",
       "\n",
       "    .dataframe tbody tr th {\n",
       "        vertical-align: top;\n",
       "    }\n",
       "\n",
       "    .dataframe thead th {\n",
       "        text-align: right;\n",
       "    }\n",
       "</style>\n",
       "<table border=\"1\" class=\"dataframe\">\n",
       "  <thead>\n",
       "    <tr style=\"text-align: right;\">\n",
       "      <th></th>\n",
       "      <th>ANOPESQ</th>\n",
       "      <th>PAIS</th>\n",
       "      <th>REGEOGR</th>\n",
       "      <th>VB00004</th>\n",
       "      <th>VB01001</th>\n",
       "      <th>VB01002</th>\n",
       "      <th>VB01003</th>\n",
       "      <th>VB01004</th>\n",
       "      <th>VB01005</th>\n",
       "      <th>VB01006</th>\n",
       "      <th>...</th>\n",
       "      <th>ESTRATO_EXP</th>\n",
       "      <th>ESTRATOGEOREG</th>\n",
       "      <th>PESO</th>\n",
       "      <th>V0006</th>\n",
       "      <th>V0007</th>\n",
       "      <th>V0008</th>\n",
       "      <th>V0041</th>\n",
       "      <th>aluno</th>\n",
       "      <th>escola</th>\n",
       "      <th>turma</th>\n",
       "    </tr>\n",
       "  </thead>\n",
       "  <tbody>\n",
       "    <tr>\n",
       "      <th>0</th>\n",
       "      <td>2015</td>\n",
       "      <td>76</td>\n",
       "      <td>1</td>\n",
       "      <td>1</td>\n",
       "      <td>2</td>\n",
       "      <td>1</td>\n",
       "      <td>13</td>\n",
       "      <td>7</td>\n",
       "      <td>7</td>\n",
       "      <td>1</td>\n",
       "      <td>...</td>\n",
       "      <td>1223</td>\n",
       "      <td>1</td>\n",
       "      <td>299.735235</td>\n",
       "      <td>1</td>\n",
       "      <td>2</td>\n",
       "      <td>4</td>\n",
       "      <td>1</td>\n",
       "      <td>1</td>\n",
       "      <td>1</td>\n",
       "      <td>296</td>\n",
       "    </tr>\n",
       "    <tr>\n",
       "      <th>1</th>\n",
       "      <td>2015</td>\n",
       "      <td>76</td>\n",
       "      <td>1</td>\n",
       "      <td>1</td>\n",
       "      <td>2</td>\n",
       "      <td>1</td>\n",
       "      <td>14</td>\n",
       "      <td>4</td>\n",
       "      <td>7</td>\n",
       "      <td>1</td>\n",
       "      <td>...</td>\n",
       "      <td>1223</td>\n",
       "      <td>1</td>\n",
       "      <td>355.170081</td>\n",
       "      <td>1</td>\n",
       "      <td>2</td>\n",
       "      <td>4</td>\n",
       "      <td>1</td>\n",
       "      <td>2</td>\n",
       "      <td>1</td>\n",
       "      <td>296</td>\n",
       "    </tr>\n",
       "    <tr>\n",
       "      <th>2</th>\n",
       "      <td>2015</td>\n",
       "      <td>76</td>\n",
       "      <td>1</td>\n",
       "      <td>1</td>\n",
       "      <td>1</td>\n",
       "      <td>4</td>\n",
       "      <td>13</td>\n",
       "      <td>6</td>\n",
       "      <td>7</td>\n",
       "      <td>1</td>\n",
       "      <td>...</td>\n",
       "      <td>1223</td>\n",
       "      <td>1</td>\n",
       "      <td>299.735235</td>\n",
       "      <td>1</td>\n",
       "      <td>2</td>\n",
       "      <td>4</td>\n",
       "      <td>1</td>\n",
       "      <td>3</td>\n",
       "      <td>1</td>\n",
       "      <td>296</td>\n",
       "    </tr>\n",
       "    <tr>\n",
       "      <th>3</th>\n",
       "      <td>2015</td>\n",
       "      <td>76</td>\n",
       "      <td>1</td>\n",
       "      <td>1</td>\n",
       "      <td>1</td>\n",
       "      <td>1</td>\n",
       "      <td>14</td>\n",
       "      <td>6</td>\n",
       "      <td>7</td>\n",
       "      <td>1</td>\n",
       "      <td>...</td>\n",
       "      <td>1223</td>\n",
       "      <td>1</td>\n",
       "      <td>355.170081</td>\n",
       "      <td>1</td>\n",
       "      <td>2</td>\n",
       "      <td>4</td>\n",
       "      <td>1</td>\n",
       "      <td>4</td>\n",
       "      <td>1</td>\n",
       "      <td>296</td>\n",
       "    </tr>\n",
       "    <tr>\n",
       "      <th>4</th>\n",
       "      <td>2015</td>\n",
       "      <td>76</td>\n",
       "      <td>1</td>\n",
       "      <td>1</td>\n",
       "      <td>1</td>\n",
       "      <td>1</td>\n",
       "      <td>13</td>\n",
       "      <td>9</td>\n",
       "      <td>7</td>\n",
       "      <td>1</td>\n",
       "      <td>...</td>\n",
       "      <td>1223</td>\n",
       "      <td>1</td>\n",
       "      <td>299.735235</td>\n",
       "      <td>1</td>\n",
       "      <td>2</td>\n",
       "      <td>4</td>\n",
       "      <td>1</td>\n",
       "      <td>5</td>\n",
       "      <td>1</td>\n",
       "      <td>296</td>\n",
       "    </tr>\n",
       "  </tbody>\n",
       "</table>\n",
       "<p>5 rows × 181 columns</p>\n",
       "</div>"
      ],
      "text/plain": [
       "   ANOPESQ  PAIS  REGEOGR  VB00004  VB01001  VB01002  VB01003  VB01004  \\\n",
       "0     2015    76        1        1        2        1       13        7   \n",
       "1     2015    76        1        1        2        1       14        4   \n",
       "2     2015    76        1        1        1        4       13        6   \n",
       "3     2015    76        1        1        1        1       14        6   \n",
       "4     2015    76        1        1        1        1       13        9   \n",
       "\n",
       "   VB01005  VB01006  ...  ESTRATO_EXP  ESTRATOGEOREG        PESO  V0006  \\\n",
       "0        7        1  ...         1223              1  299.735235      1   \n",
       "1        7        1  ...         1223              1  355.170081      1   \n",
       "2        7        1  ...         1223              1  299.735235      1   \n",
       "3        7        1  ...         1223              1  355.170081      1   \n",
       "4        7        1  ...         1223              1  299.735235      1   \n",
       "\n",
       "   V0007  V0008  V0041  aluno  escola  turma  \n",
       "0      2      4      1      1       1    296  \n",
       "1      2      4      1      2       1    296  \n",
       "2      2      4      1      3       1    296  \n",
       "3      2      4      1      4       1    296  \n",
       "4      2      4      1      5       1    296  \n",
       "\n",
       "[5 rows x 181 columns]"
      ]
     },
     "execution_count": 5,
     "metadata": {},
     "output_type": "execute_result"
    }
   ],
   "source": [
    "dados = pd.read_csv(zip.open(caminho_zip), sep=';', thousands='.', decimal=',')\n",
    "dados.head()"
   ]
  },
  {
   "cell_type": "code",
   "execution_count": 6,
   "metadata": {},
   "outputs": [
    {
     "data": {
      "text/plain": [
       "Index(['ANOPESQ', 'PAIS', 'REGEOGR', 'VB00004', 'VB01001', 'VB01002',\n",
       "       'VB01003', 'VB01004', 'VB01005', 'VB01006',\n",
       "       ...\n",
       "       'ESTRATO_EXP', 'ESTRATOGEOREG', 'PESO', 'V0006', 'V0007', 'V0008',\n",
       "       'V0041', 'aluno', 'escola', 'turma'],\n",
       "      dtype='object', length=181)"
      ]
     },
     "execution_count": 6,
     "metadata": {},
     "output_type": "execute_result"
    }
   ],
   "source": [
    "dados.columns"
   ]
  },
  {
   "cell_type": "code",
   "execution_count": 7,
   "metadata": {},
   "outputs": [
    {
     "name": "stdout",
     "output_type": "stream",
     "text": [
      "<class 'pandas.core.frame.DataFrame'>\n",
      "RangeIndex: 16556 entries, 0 to 16555\n",
      "Columns: 181 entries, ANOPESQ to turma\n",
      "dtypes: float64(10), int64(171)\n",
      "memory usage: 22.9 MB\n"
     ]
    }
   ],
   "source": [
    "dados.info()"
   ]
  },
  {
   "cell_type": "code",
   "execution_count": 12,
   "metadata": {},
   "outputs": [
    {
     "data": {
      "text/plain": [
       "(16556, 181)"
      ]
     },
     "execution_count": 12,
     "metadata": {},
     "output_type": "execute_result"
    }
   ],
   "source": [
    "dados.shape"
   ]
  },
  {
   "cell_type": "code",
   "execution_count": 39,
   "metadata": {},
   "outputs": [
    {
     "data": {
      "text/html": [
       "<div>\n",
       "<style scoped>\n",
       "    .dataframe tbody tr th:only-of-type {\n",
       "        vertical-align: middle;\n",
       "    }\n",
       "\n",
       "    .dataframe tbody tr th {\n",
       "        vertical-align: top;\n",
       "    }\n",
       "\n",
       "    .dataframe thead th {\n",
       "        text-align: right;\n",
       "    }\n",
       "</style>\n",
       "<table border=\"1\" class=\"dataframe\">\n",
       "  <thead>\n",
       "    <tr style=\"text-align: right;\">\n",
       "      <th></th>\n",
       "      <th>VARIÁVEL</th>\n",
       "      <th>QUESTIONÁRIO DO ALUNO</th>\n",
       "    </tr>\n",
       "  </thead>\n",
       "  <tbody>\n",
       "    <tr>\n",
       "      <th>0</th>\n",
       "      <td>ANOPESQ</td>\n",
       "      <td>Ano em que a pesquisa foi realizada</td>\n",
       "    </tr>\n",
       "    <tr>\n",
       "      <th>1</th>\n",
       "      <td>PAIS</td>\n",
       "      <td>País</td>\n",
       "    </tr>\n",
       "    <tr>\n",
       "      <th>2</th>\n",
       "      <td>76</td>\n",
       "      <td>Brasil</td>\n",
       "    </tr>\n",
       "    <tr>\n",
       "      <th>3</th>\n",
       "      <td>REGEOGR</td>\n",
       "      <td>Região geográfica</td>\n",
       "    </tr>\n",
       "    <tr>\n",
       "      <th>4</th>\n",
       "      <td>1</td>\n",
       "      <td>Norte</td>\n",
       "    </tr>\n",
       "    <tr>\n",
       "      <th>5</th>\n",
       "      <td>2</td>\n",
       "      <td>Nordeste</td>\n",
       "    </tr>\n",
       "    <tr>\n",
       "      <th>6</th>\n",
       "      <td>3</td>\n",
       "      <td>Sudeste</td>\n",
       "    </tr>\n",
       "    <tr>\n",
       "      <th>7</th>\n",
       "      <td>4</td>\n",
       "      <td>Sul</td>\n",
       "    </tr>\n",
       "    <tr>\n",
       "      <th>8</th>\n",
       "      <td>5</td>\n",
       "      <td>Centro-Oeste</td>\n",
       "    </tr>\n",
       "    <tr>\n",
       "      <th>9</th>\n",
       "      <td>VB00004</td>\n",
       "      <td>Prezado(a) estudante, você concorda em partici...</td>\n",
       "    </tr>\n",
       "    <tr>\n",
       "      <th>10</th>\n",
       "      <td>1</td>\n",
       "      <td>Sim</td>\n",
       "    </tr>\n",
       "    <tr>\n",
       "      <th>11</th>\n",
       "      <td>VB01001</td>\n",
       "      <td>Qual é o seu sexo?</td>\n",
       "    </tr>\n",
       "    <tr>\n",
       "      <th>12</th>\n",
       "      <td>1</td>\n",
       "      <td>Masculino</td>\n",
       "    </tr>\n",
       "    <tr>\n",
       "      <th>13</th>\n",
       "      <td>2</td>\n",
       "      <td>Feminino</td>\n",
       "    </tr>\n",
       "    <tr>\n",
       "      <th>14</th>\n",
       "      <td>VB01002</td>\n",
       "      <td>Qual é a sua cor ou raça?</td>\n",
       "    </tr>\n",
       "    <tr>\n",
       "      <th>15</th>\n",
       "      <td>1</td>\n",
       "      <td>Branca</td>\n",
       "    </tr>\n",
       "    <tr>\n",
       "      <th>16</th>\n",
       "      <td>2</td>\n",
       "      <td>Preta</td>\n",
       "    </tr>\n",
       "    <tr>\n",
       "      <th>17</th>\n",
       "      <td>3</td>\n",
       "      <td>Amarela</td>\n",
       "    </tr>\n",
       "    <tr>\n",
       "      <th>18</th>\n",
       "      <td>4</td>\n",
       "      <td>Parda</td>\n",
       "    </tr>\n",
       "    <tr>\n",
       "      <th>19</th>\n",
       "      <td>5</td>\n",
       "      <td>Indígena</td>\n",
       "    </tr>\n",
       "  </tbody>\n",
       "</table>\n",
       "</div>"
      ],
      "text/plain": [
       "   VARIÁVEL                              QUESTIONÁRIO DO ALUNO\n",
       "0   ANOPESQ                Ano em que a pesquisa foi realizada\n",
       "1      PAIS                                               País\n",
       "2        76                                             Brasil\n",
       "3   REGEOGR                                  Região geográfica\n",
       "4         1                                              Norte\n",
       "5         2                                           Nordeste\n",
       "6         3                                            Sudeste\n",
       "7         4                                                Sul\n",
       "8         5                                       Centro-Oeste\n",
       "9   VB00004  Prezado(a) estudante, você concorda em partici...\n",
       "10        1                                                Sim\n",
       "11  VB01001                                 Qual é o seu sexo?\n",
       "12        1                                          Masculino\n",
       "13        2                                           Feminino\n",
       "14  VB01002                          Qual é a sua cor ou raça?\n",
       "15        1                                             Branca\n",
       "16        2                                              Preta\n",
       "17        3                                            Amarela\n",
       "18        4                                              Parda\n",
       "19        5                                           Indígena"
      ]
     },
     "execution_count": 39,
     "metadata": {},
     "output_type": "execute_result"
    }
   ],
   "source": [
    "caminho_dicio = zip.namelist()[12]\n",
    "dicio_dados = pd.read_excel(zip.open(caminho_dicio))\n",
    "dicio_dados.head(20)"
   ]
  },
  {
   "cell_type": "markdown",
   "metadata": {},
   "source": [
    "### Vamos criar uma função que retornará um dicionário condicionando nossas perguntas e respostas"
   ]
  },
  {
   "cell_type": "code",
   "execution_count": 144,
   "metadata": {},
   "outputs": [],
   "source": [
    "def create_dict(dicio_dados, p):\n",
    "    result_dict = {}\n",
    "    question = dicio_dados[dicio_dados['VARIÁVEL']==p]['QUESTIONÁRIO DO ALUNO'].values[0]\n",
    "    result_dict['pergunta'] = question\n",
    "    \n",
    "    \n",
    "    # agora falta construir um loop para capturar as respostas de cada questão\n",
    "    # segue abaixo o que foi feito até o momento\n",
    "    \n",
    "    return result_dict"
   ]
  },
  {
   "cell_type": "code",
   "execution_count": 122,
   "metadata": {},
   "outputs": [],
   "source": [
    "question = dicio_dados[dicio_dados['VARIÁVEL']=='VB01001']['QUESTIONÁRIO DO ALUNO']\n",
    "a = question.index[0]\n",
    "a = a + 14\n",
    "valor = dicio_dados.iloc[a]['VARIÁVEL']"
   ]
  },
  {
   "cell_type": "code",
   "execution_count": 126,
   "metadata": {},
   "outputs": [
    {
     "ename": "SyntaxError",
     "evalue": "unexpected EOF while parsing (<ipython-input-126-22d0309d030c>, line 2)",
     "output_type": "error",
     "traceback": [
      "\u001b[0;36m  File \u001b[0;32m\"<ipython-input-126-22d0309d030c>\"\u001b[0;36m, line \u001b[0;32m2\u001b[0m\n\u001b[0;31m    \u001b[0m\n\u001b[0m    ^\u001b[0m\n\u001b[0;31mSyntaxError\u001b[0m\u001b[0;31m:\u001b[0m unexpected EOF while parsing\n"
     ]
    }
   ],
   "source": [
    "lista = []\n",
    "\n",
    "while str(valor).isnumeric() or str(valor)[0] == '-':\n",
    "    \n",
    "    "
   ]
  },
  {
   "cell_type": "code",
   "execution_count": 142,
   "metadata": {},
   "outputs": [],
   "source": [
    "lista = [['Salvador', 'Bahia']]"
   ]
  },
  {
   "cell_type": "code",
   "execution_count": 143,
   "metadata": {},
   "outputs": [
    {
     "data": {
      "text/plain": [
       "{'Salvador': ['Bahia', 'Noeor']}"
      ]
     },
     "execution_count": 143,
     "metadata": {},
     "output_type": "execute_result"
    }
   ],
   "source": [
    "dict(lista)"
   ]
  },
  {
   "cell_type": "code",
   "execution_count": null,
   "metadata": {},
   "outputs": [],
   "source": []
  }
 ],
 "metadata": {
  "kernelspec": {
   "display_name": "Python 3",
   "language": "python",
   "name": "python3"
  },
  "language_info": {
   "codemirror_mode": {
    "name": "ipython",
    "version": 3
   },
   "file_extension": ".py",
   "mimetype": "text/x-python",
   "name": "python",
   "nbconvert_exporter": "python",
   "pygments_lexer": "ipython3",
   "version": "3.8.5"
  }
 },
 "nbformat": 4,
 "nbformat_minor": 4
}
