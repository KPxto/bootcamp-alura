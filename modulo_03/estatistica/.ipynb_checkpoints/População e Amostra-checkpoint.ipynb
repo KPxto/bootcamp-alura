{
 "cells": [
  {
   "cell_type": "code",
   "execution_count": 1,
   "metadata": {},
   "outputs": [],
   "source": [
    "import pandas as pd\n",
    "import numpy as np\n",
    "import seaborn as sns\n",
    "import matplotlib.pyplot as plt"
   ]
  },
  {
   "cell_type": "markdown",
   "metadata": {},
   "source": [
    "[LINK PARA VIDEO AULA](https://www.youtube.com/watch?v=BkQex_KoTQI&t=15s)\n"
   ]
  },
  {
   "cell_type": "markdown",
   "metadata": {},
   "source": [
    "Formula para calcular o tamanho mínimo de uma amostra:\n",
    "\n",
    "* N    => tamanho da população\n",
    "* n    => tamanho da amostra\n",
    "* n<sub>0</sub>  => primeira aproximação\n",
    "* E<sub>0</sub>  => erro amostral\n",
    "\n",
    "\n",
    "---\n",
    "\n",
    "#### Calculando a primeira aproximação, n⁰\n",
    "n<sub>0</sub> = $\\frac{1}{E_0²}$\n",
    "\n",
    "ex: numa população de 300, calcule o tamanho da amostra considerando um erro tolerável de 5%\n",
    "(basta trocar os valores da fórmula)\n",
    "\n",
    "n<sub>0</sub> = $\\frac{1}{(0.05)²}$\n",
    "\n",
    "n<sub>0</sub> = 20²\n",
    "\n",
    "n<sub>0</sub> = 400 => aqui encontramos o número da nossa primeira aproximação\n",
    "\n",
    "**obs: se a população for 20 vezes maior que a primeira aproximação, então o tamanho da amostra será igual ao número da primeira aproximação**\n",
    "\n",
    ">Se o enunciado da questão fornecer somente o erro tolerável e não fornecer o tamanho da população, o número da primeira aproximação (calculado acima) já será considerado como o tamanho da amostra.\n",
    "\n",
    ">Caso contrário, podemos usar a primeira aproximação para calcularmos o tamanho da amostra, conforme abaixo\n",
    "___\n",
    "#### Calculando o tamanho da amostra\n",
    "n = $\\frac{N.n⁰}{N + n⁰}$\n",
    "\n",
    "Vamos agora calcular o número do tamanho da amostra substituindo os valores de acordo:\n",
    "\n",
    "n = $\\frac{300 * 400}{300 + 400}$\n",
    "\n",
    "n = $\\frac{120000}{700}$\n",
    "\n",
    "n = 171,4\n",
    "\n",
    "n = 172\n",
    "\n",
    "Valores quebrados devem sempre ser arredondados para cima.\n",
    "\n",
    "___\n",
    "\n",
    "Vamos usar os conceitos acima para resolver a questão abaixo:\n",
    "\n",
    "Planeja-se um levantamento por amostragem para avaliar diversas características (parâmetros) da população das N = 200 famílias moradoras de um certo bairro. Os principais parâmetros são proporções (ou porcentagens) tais como:\n",
    "\n",
    "- percentagem de famílias que usam programas de alimentação popular \n",
    "- percentagem de famílias que moram em casas próprias\n",
    "\n",
    "Qual deve ser o tamanho mínimo de uma amostra aleatória simples para que possamos admitir, com 95% de probabilidade, que os erros amostrais não ultrapassem 4% (E<sub>0</sub> = 0,04)?"
   ]
  },
  {
   "cell_type": "code",
   "execution_count": 10,
   "metadata": {},
   "outputs": [
    {
     "data": {
      "text/plain": [
       "625.0"
      ]
     },
     "execution_count": 10,
     "metadata": {},
     "output_type": "execute_result"
    }
   ],
   "source": [
    "N = 200\n",
    "erro_amostral = 0.04\n",
    "primeira_aprox = 1/(0.04)**2"
   ]
  },
  {
   "cell_type": "code",
   "execution_count": 12,
   "metadata": {},
   "outputs": [
    {
     "name": "stdout",
     "output_type": "stream",
     "text": [
      "O tamanho mínimo da amostra é 152\n"
     ]
    }
   ],
   "source": [
    "# calculando tamanho da amostra\n",
    "n = (N * primeira_aprox)/(N + primeira_aprox)\n",
    "print(f\"O tamanho mínimo da amostra é {round(n)}\")"
   ]
  },
  {
   "cell_type": "markdown",
   "metadata": {},
   "source": [
    "E caso o tamanho da nossa população agora seja de 200000?\n",
    "\n",
    "basta atualizar os valores e substituílos"
   ]
  },
  {
   "cell_type": "code",
   "execution_count": 13,
   "metadata": {},
   "outputs": [],
   "source": [
    "N = 200000"
   ]
  },
  {
   "cell_type": "code",
   "execution_count": 15,
   "metadata": {},
   "outputs": [
    {
     "data": {
      "text/plain": [
       "623"
      ]
     },
     "execution_count": 15,
     "metadata": {},
     "output_type": "execute_result"
    }
   ],
   "source": [
    "n = (N * primeira_aprox)/(N + primeira_aprox)\n",
    "round(n)"
   ]
  },
  {
   "cell_type": "markdown",
   "metadata": {},
   "source": [
    ">Fazendo valer aquela primeira observação acima, toda vez que o valor de N for mais que 20 vezes maior que a primeira aproximação, o valor do tamanho da amostra será igual ao valor da primeira aproximação. E foi de fato isso que aconteceu. Quando aumentamos o valor da população para 200 mil, vimos que o cálculo do tamanho da amostra se aproximou bastante do valor da primeira aproximação, conforme pode ver nas células abaixo."
   ]
  },
  {
   "cell_type": "code",
   "execution_count": 16,
   "metadata": {},
   "outputs": [
    {
     "data": {
      "text/plain": [
       "625.0"
      ]
     },
     "execution_count": 16,
     "metadata": {},
     "output_type": "execute_result"
    }
   ],
   "source": [
    "primeira_aprox"
   ]
  },
  {
   "cell_type": "code",
   "execution_count": 18,
   "metadata": {},
   "outputs": [
    {
     "data": {
      "text/plain": [
       "623"
      ]
     },
     "execution_count": 18,
     "metadata": {},
     "output_type": "execute_result"
    }
   ],
   "source": [
    "round(n)"
   ]
  }
 ],
 "metadata": {
  "kernelspec": {
   "display_name": "Python 3",
   "language": "python",
   "name": "python3"
  },
  "language_info": {
   "codemirror_mode": {
    "name": "ipython",
    "version": 3
   },
   "file_extension": ".py",
   "mimetype": "text/x-python",
   "name": "python",
   "nbconvert_exporter": "python",
   "pygments_lexer": "ipython3",
   "version": "3.8.5"
  }
 },
 "nbformat": 4,
 "nbformat_minor": 4
}
