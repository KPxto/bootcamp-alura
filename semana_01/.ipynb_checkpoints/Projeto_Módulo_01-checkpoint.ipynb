{
 "cells": [
  {
   "cell_type": "markdown",
   "metadata": {
    "colab_type": "text",
    "id": "view-in-github"
   },
   "source": [
    "<a href=\"https://colab.research.google.com/github/KPxto/bootcamp-alura/blob/master/Projeto_M%C3%B3dulo_01.ipynb\" target=\"_parent\"><img src=\"https://colab.research.google.com/assets/colab-badge.svg\" alt=\"Open In Colab\"/></a>"
   ]
  },
  {
   "cell_type": "markdown",
   "metadata": {
    "id": "E27fQer3E8K9"
   },
   "source": [
    "Olá **Cientista**!\n",
    "\n",
    "Bem vinda e bem vindo ao **mega desafio do Módulo 01**, neste desafio queremos que você aplique tudo que aprendeu no curso, analisando uma outra informação ~~referente a base de dados de [produção hospitalar](http://www2.datasus.gov.br/DATASUS/index.php?area=0202&id=11633&VObj=http://tabnet.datasus.gov.br/cgi/deftohtm.exe?sih/cnv/qi), seja número de internação, óbito, AIH ou taxa de mortalidade.~~ \n",
    "\n",
    "**P.S: Infelizmente o DataSUS está fora do ar por tempo indeterminado, para você não parar seu projeto, adicionamos no [GitHub](https://github.com/alura-cursos/agendamento-hospitalar/tree/main/dados) do curso, duas novas bases para você utilizar neste projeto (COVID-19 e Óbitos).**\n",
    "\n",
    "Uma base é dos **casos de COVID-19 baixadas do projeto [BRASIL.IO](https://brasil.io/dataset/covid19/caso/)**, outra são os números de óbitos registrados no cartório civil desde 1970 retirado do **[Kaggle](https://www.kaggle.com/amandalk/registered-deaths-brazil)**.\n",
    "\n",
    "Vocês podem escolher qualquer uma das duas bases de dados, a de COVID-19 é mais desafiadora e você vai precisar descompactar o arquivo por ser grande e entrar no site do Brasil.IO para entender todas as features presentes (No Brasil.IO tem diversas bases sobre COVID-19, estamos usando a chamada **Casos**). A base de óbito é mais simples e relativamente semelhate a utilizada no curso.\n",
    "\n",
    "Algumas dicas para você mandar bem no desafio final, capriche nas análises, escreva suas conclusões e hipóteses (mesmo que resultado seja inconclusivo) e não esqueça de colocar um resumo dos pontos que julgar mais interessantes do seu projeto.\n",
    "\n",
    "\n",
    "\n",
    "E para que o seu projeto tenha a oportunidade de ser avalido pelo Thiago G. Santos e Átila Iamarino, ao vivo na **live de revisão de projetos** submeta o link compartilhado do seu notebook [neste formulário](https://docs.google.com/forms/d/e/1FAIpQLSd1jemhvdo8sM6e-bgOryyZ2P3YuMO6E_mUQXabyBX_xhuZQQ/viewform?usp=sf_link) até dia 22/11 às 23h59.\n",
    "\n",
    "Para facilitar a vida dos seus instrutores favoritos, no momento da correção, algumas dicas de como estruturar seu projeto:\n",
    "\n",
    "- Como título do seu **Colab** coloque seu nome (Ex: Thiago_Gonçalves.ipynb)\n",
    "- Crie um resumo das suas análises na parte superior do notebook\n",
    "- Informe no resumo os dados que vc vai analisar (Ex: Finaceiros e Internações)\n",
    "\n",
    "Qualquer dúvida não deixe de perguntar no Discord, compatilhe seu projeto nas redes sociais e crie um repositório no github, esse é o início do seu portifólio em Data Science.\n",
    "\n",
    "\n",
    "\n",
    "Fique a vontade para utilizar esse notebook como template projeto.\n",
    "\n"
   ]
  },
  {
   "cell_type": "markdown",
   "metadata": {
    "id": "RshO3GgDFGhB"
   },
   "source": [
    "## Resumo:\n",
    "\n",
    "Faça aqui o resumo das suas analises, destacando os pontos principais do seu projeto"
   ]
  },
  {
   "cell_type": "markdown",
   "metadata": {
    "id": "BUHuWTjaFGMV"
   },
   "source": [
    "- Analise e comparativo das cidades\n",
    "- Analise e comparativo por regioes"
   ]
  },
  {
   "cell_type": "markdown",
   "metadata": {
    "id": "YJaNprdeFN7n"
   },
   "source": [
    "## Análise dos dados:\n",
    "\n",
    "Inicie aqui o desenvolvimento do seu projeto, não esqueça de adicionar textos curtos e objetivos para que os avaliadores entendam sua linha de raciocínio e as conclusões que você está chegando crie uma narrativa convincente e coerênte aos dados analisados."
   ]
  },
  {
   "cell_type": "markdown",
   "metadata": {},
   "source": [
    "## Importando Bibliotecas e preparando notebook"
   ]
  },
  {
   "cell_type": "code",
   "execution_count": 127,
   "metadata": {
    "id": "zw4S_LkkFNa2"
   },
   "outputs": [],
   "source": [
    "import pandas as pd\n",
    "import numpy as np\n",
    "import collections\n",
    "import matplotlib.pyplot as plt\n",
    "import matplotlib.ticker as ticker\n",
    "import seaborn as sns\n",
    "\n",
    "# escolhendo estilo de plotagem\n",
    "plt.style.use('fivethirtyeight')\n",
    "\n",
    "# setando opção de visualização do número\n",
    "pd.options.display.float_format = '{:.2f}'.format"
   ]
  },
  {
   "cell_type": "markdown",
   "metadata": {},
   "source": [
    "#### Carregando nosso dataframe\n",
    "\n",
    "    - Para a coluna 'city', os valores nulos vem como NA ou 'Importados/Indefinidos'\n",
    "    - Para facilitar nosso trabalho de limpeza configuramos o pandas para que considere como NA todos valores descritos 'Importados/Indefinidos' na coluna 'city'"
   ]
  },
  {
   "cell_type": "code",
   "execution_count": 128,
   "metadata": {
    "id": "wWHrc23HMW07"
   },
   "outputs": [],
   "source": [
    "df = pd.read_csv('caso.csv.gz', na_values=['Importados/Indefinidos'])"
   ]
  },
  {
   "cell_type": "code",
   "execution_count": 129,
   "metadata": {},
   "outputs": [
    {
     "data": {
      "text/html": [
       "<div>\n",
       "<style scoped>\n",
       "    .dataframe tbody tr th:only-of-type {\n",
       "        vertical-align: middle;\n",
       "    }\n",
       "\n",
       "    .dataframe tbody tr th {\n",
       "        vertical-align: top;\n",
       "    }\n",
       "\n",
       "    .dataframe thead th {\n",
       "        text-align: right;\n",
       "    }\n",
       "</style>\n",
       "<table border=\"1\" class=\"dataframe\">\n",
       "  <thead>\n",
       "    <tr style=\"text-align: right;\">\n",
       "      <th></th>\n",
       "      <th>date</th>\n",
       "      <th>state</th>\n",
       "      <th>city</th>\n",
       "      <th>place_type</th>\n",
       "      <th>confirmed</th>\n",
       "      <th>deaths</th>\n",
       "      <th>order_for_place</th>\n",
       "      <th>is_last</th>\n",
       "      <th>estimated_population_2019</th>\n",
       "      <th>estimated_population</th>\n",
       "      <th>city_ibge_code</th>\n",
       "      <th>confirmed_per_100k_inhabitants</th>\n",
       "      <th>death_rate</th>\n",
       "    </tr>\n",
       "  </thead>\n",
       "  <tbody>\n",
       "    <tr>\n",
       "      <th>102291</th>\n",
       "      <td>2020-09-04</td>\n",
       "      <td>GO</td>\n",
       "      <td>Catalão</td>\n",
       "      <td>city</td>\n",
       "      <td>1571</td>\n",
       "      <td>48</td>\n",
       "      <td>164</td>\n",
       "      <td>False</td>\n",
       "      <td>108823.00</td>\n",
       "      <td>110983.00</td>\n",
       "      <td>5205109.00</td>\n",
       "      <td>1415.53</td>\n",
       "      <td>0.03</td>\n",
       "    </tr>\n",
       "    <tr>\n",
       "      <th>477589</th>\n",
       "      <td>2020-08-06</td>\n",
       "      <td>MG</td>\n",
       "      <td>Teixeiras</td>\n",
       "      <td>city</td>\n",
       "      <td>10</td>\n",
       "      <td>0</td>\n",
       "      <td>67</td>\n",
       "      <td>False</td>\n",
       "      <td>11661.00</td>\n",
       "      <td>11670.00</td>\n",
       "      <td>3168507.00</td>\n",
       "      <td>85.69</td>\n",
       "      <td>0.00</td>\n",
       "    </tr>\n",
       "    <tr>\n",
       "      <th>710901</th>\n",
       "      <td>2020-09-27</td>\n",
       "      <td>RS</td>\n",
       "      <td>Farroupilha</td>\n",
       "      <td>city</td>\n",
       "      <td>1688</td>\n",
       "      <td>14</td>\n",
       "      <td>192</td>\n",
       "      <td>False</td>\n",
       "      <td>72331.00</td>\n",
       "      <td>73061.00</td>\n",
       "      <td>4307906.00</td>\n",
       "      <td>2310.40</td>\n",
       "      <td>0.01</td>\n",
       "    </tr>\n",
       "    <tr>\n",
       "      <th>653694</th>\n",
       "      <td>2020-07-01</td>\n",
       "      <td>RO</td>\n",
       "      <td>Nova Brasilândia D'Oeste</td>\n",
       "      <td>city</td>\n",
       "      <td>17</td>\n",
       "      <td>0</td>\n",
       "      <td>51</td>\n",
       "      <td>False</td>\n",
       "      <td>20474.00</td>\n",
       "      <td>20489.00</td>\n",
       "      <td>1100148.00</td>\n",
       "      <td>82.97</td>\n",
       "      <td>0.00</td>\n",
       "    </tr>\n",
       "    <tr>\n",
       "      <th>970760</th>\n",
       "      <td>2020-10-03</td>\n",
       "      <td>SP</td>\n",
       "      <td>Valinhos</td>\n",
       "      <td>city</td>\n",
       "      <td>2821</td>\n",
       "      <td>92</td>\n",
       "      <td>189</td>\n",
       "      <td>False</td>\n",
       "      <td>129193.00</td>\n",
       "      <td>131210.00</td>\n",
       "      <td>3556206.00</td>\n",
       "      <td>2149.99</td>\n",
       "      <td>0.03</td>\n",
       "    </tr>\n",
       "  </tbody>\n",
       "</table>\n",
       "</div>"
      ],
      "text/plain": [
       "              date state                      city place_type  confirmed  \\\n",
       "102291  2020-09-04    GO                   Catalão       city       1571   \n",
       "477589  2020-08-06    MG                 Teixeiras       city         10   \n",
       "710901  2020-09-27    RS               Farroupilha       city       1688   \n",
       "653694  2020-07-01    RO  Nova Brasilândia D'Oeste       city         17   \n",
       "970760  2020-10-03    SP                  Valinhos       city       2821   \n",
       "\n",
       "        deaths  order_for_place  is_last  estimated_population_2019  \\\n",
       "102291      48              164    False                  108823.00   \n",
       "477589       0               67    False                   11661.00   \n",
       "710901      14              192    False                   72331.00   \n",
       "653694       0               51    False                   20474.00   \n",
       "970760      92              189    False                  129193.00   \n",
       "\n",
       "        estimated_population  city_ibge_code  confirmed_per_100k_inhabitants  \\\n",
       "102291             110983.00      5205109.00                         1415.53   \n",
       "477589              11670.00      3168507.00                           85.69   \n",
       "710901              73061.00      4307906.00                         2310.40   \n",
       "653694              20489.00      1100148.00                           82.97   \n",
       "970760             131210.00      3556206.00                         2149.99   \n",
       "\n",
       "        death_rate  \n",
       "102291        0.03  \n",
       "477589        0.00  \n",
       "710901        0.01  \n",
       "653694        0.00  \n",
       "970760        0.03  "
      ]
     },
     "execution_count": 129,
     "metadata": {},
     "output_type": "execute_result"
    }
   ],
   "source": [
    "# vamos pegar 5 dados aleatorios para conhecer nosso conjunto de dados\n",
    "df.sample(5)"
   ]
  },
  {
   "cell_type": "markdown",
   "metadata": {},
   "source": [
    "<br>\n",
    "\n",
    "#### Checando valores nulos e tipos de dados"
   ]
  },
  {
   "cell_type": "markdown",
   "metadata": {},
   "source": [
    "Antes de verificarmos tipos de dados e valores nulos, vamos verificar o tamanho do nosso dataframe"
   ]
  },
  {
   "cell_type": "code",
   "execution_count": 132,
   "metadata": {},
   "outputs": [
    {
     "name": "stdout",
     "output_type": "stream",
     "text": [
      "Nosso dataset tem 974824 linhas e 13 colunas.\n"
     ]
    }
   ],
   "source": [
    "print(f'Nosso dataset tem {df.shape[0]} linhas e {df.shape[1]} colunas.')"
   ]
  },
  {
   "cell_type": "markdown",
   "metadata": {},
   "source": [
    "<br>\n",
    "Desse total de linhas quantas são valores NA por coluna?\n",
    "\n",
    "Vamos achar essa resposta com o codigo abaixo"
   ]
  },
  {
   "cell_type": "code",
   "execution_count": 176,
   "metadata": {},
   "outputs": [
    {
     "data": {
      "text/plain": [
       "date                                  0\n",
       "state                                 0\n",
       "city                              10366\n",
       "place_type                            0\n",
       "confirmed                             0\n",
       "deaths                                0\n",
       "order_for_place                       0\n",
       "is_last                               0\n",
       "estimated_population_2019          3772\n",
       "estimated_population               3772\n",
       "city_ibge_code                     3772\n",
       "confirmed_per_100k_inhabitants    17343\n",
       "death_rate                            0\n",
       "dtype: int64"
      ]
     },
     "execution_count": 176,
     "metadata": {},
     "output_type": "execute_result"
    }
   ],
   "source": [
    "df.isna().sum()"
   ]
  },
  {
   "cell_type": "markdown",
   "metadata": {},
   "source": [
    "<br>\n",
    "Agora veremos quantos valores válidos por coluna e seus respectivos tipos de dados"
   ]
  },
  {
   "cell_type": "code",
   "execution_count": 178,
   "metadata": {},
   "outputs": [
    {
     "name": "stdout",
     "output_type": "stream",
     "text": [
      "<class 'pandas.core.frame.DataFrame'>\n",
      "RangeIndex: 974824 entries, 0 to 974823\n",
      "Data columns (total 13 columns):\n",
      " #   Column                          Non-Null Count   Dtype  \n",
      "---  ------                          --------------   -----  \n",
      " 0   date                            974824 non-null  object \n",
      " 1   state                           974824 non-null  object \n",
      " 2   city                            964458 non-null  object \n",
      " 3   place_type                      974824 non-null  object \n",
      " 4   confirmed                       974824 non-null  int64  \n",
      " 5   deaths                          974824 non-null  int64  \n",
      " 6   order_for_place                 974824 non-null  int64  \n",
      " 7   is_last                         974824 non-null  bool   \n",
      " 8   estimated_population_2019       971052 non-null  float64\n",
      " 9   estimated_population            971052 non-null  float64\n",
      " 10  city_ibge_code                  971052 non-null  float64\n",
      " 11  confirmed_per_100k_inhabitants  957481 non-null  float64\n",
      " 12  death_rate                      974824 non-null  float64\n",
      "dtypes: bool(1), float64(5), int64(3), object(4)\n",
      "memory usage: 90.2+ MB\n"
     ]
    }
   ],
   "source": [
    "df.info()"
   ]
  },
  {
   "cell_type": "markdown",
   "metadata": {},
   "source": [
    ">A coluna **date** está como *string* e deverá ser convertida para tipo *data*"
   ]
  },
  {
   "cell_type": "markdown",
   "metadata": {},
   "source": [
    "<br>\n",
    "\n",
    "Conforme sugerido pela própria documentação para ser desconsiderada, vamos excluir a coluna **estimated_population_2019**"
   ]
  },
  {
   "cell_type": "code",
   "execution_count": 243,
   "metadata": {},
   "outputs": [],
   "source": [
    "df.drop('estimated_population_2019', axis=1, inplace=True)"
   ]
  },
  {
   "cell_type": "markdown",
   "metadata": {},
   "source": [
    "Também vamos fazer a conversão da coluna **date**"
   ]
  },
  {
   "cell_type": "code",
   "execution_count": 17,
   "metadata": {},
   "outputs": [],
   "source": [
    "df['date'] = pd.to_datetime(df['date'], yearfirst=True)"
   ]
  },
  {
   "cell_type": "markdown",
   "metadata": {},
   "source": [
    "<br>\n",
    "\n",
    "#### Separando dataframes...\n",
    "\n",
    "Considerando que os valores NA da coluna **city** ocorrem quando o registro refere-se a estado (descrito como *state* na coluna **place_type**), vamos criar um dataframe somente para dados relacionados às cidades.\n",
    "\n",
    "<br>\n",
    "Mais tarde também faremos um dataframe que considerará somente estados e analisaremos essas duas entidades separadamente."
   ]
  },
  {
   "cell_type": "code",
   "execution_count": 246,
   "metadata": {},
   "outputs": [
    {
     "data": {
      "text/html": [
       "<div>\n",
       "<style scoped>\n",
       "    .dataframe tbody tr th:only-of-type {\n",
       "        vertical-align: middle;\n",
       "    }\n",
       "\n",
       "    .dataframe tbody tr th {\n",
       "        vertical-align: top;\n",
       "    }\n",
       "\n",
       "    .dataframe thead th {\n",
       "        text-align: right;\n",
       "    }\n",
       "</style>\n",
       "<table border=\"1\" class=\"dataframe\">\n",
       "  <thead>\n",
       "    <tr style=\"text-align: right;\">\n",
       "      <th></th>\n",
       "      <th>date</th>\n",
       "      <th>state</th>\n",
       "      <th>city</th>\n",
       "      <th>place_type</th>\n",
       "      <th>confirmed</th>\n",
       "      <th>deaths</th>\n",
       "      <th>order_for_place</th>\n",
       "      <th>is_last</th>\n",
       "      <th>estimated_population</th>\n",
       "      <th>city_ibge_code</th>\n",
       "      <th>confirmed_per_100k_inhabitants</th>\n",
       "      <th>death_rate</th>\n",
       "    </tr>\n",
       "  </thead>\n",
       "  <tbody>\n",
       "    <tr>\n",
       "      <th>520671</th>\n",
       "      <td>2020-11-13</td>\n",
       "      <td>PE</td>\n",
       "      <td>Ingazeira</td>\n",
       "      <td>city</td>\n",
       "      <td>74</td>\n",
       "      <td>1</td>\n",
       "      <td>163</td>\n",
       "      <td>False</td>\n",
       "      <td>4543.00</td>\n",
       "      <td>2607109.00</td>\n",
       "      <td>1628.88</td>\n",
       "      <td>0.01</td>\n",
       "    </tr>\n",
       "    <tr>\n",
       "      <th>594030</th>\n",
       "      <td>2020-08-27</td>\n",
       "      <td>PR</td>\n",
       "      <td>Catanduvas</td>\n",
       "      <td>city</td>\n",
       "      <td>64</td>\n",
       "      <td>0</td>\n",
       "      <td>88</td>\n",
       "      <td>False</td>\n",
       "      <td>10167.00</td>\n",
       "      <td>4105003.00</td>\n",
       "      <td>629.49</td>\n",
       "      <td>0.00</td>\n",
       "    </tr>\n",
       "    <tr>\n",
       "      <th>70944</th>\n",
       "      <td>2020-06-10</td>\n",
       "      <td>CE</td>\n",
       "      <td>Ipaumirim</td>\n",
       "      <td>city</td>\n",
       "      <td>10</td>\n",
       "      <td>1</td>\n",
       "      <td>50</td>\n",
       "      <td>False</td>\n",
       "      <td>12485.00</td>\n",
       "      <td>2305704.00</td>\n",
       "      <td>80.10</td>\n",
       "      <td>0.10</td>\n",
       "    </tr>\n",
       "    <tr>\n",
       "      <th>357289</th>\n",
       "      <td>2020-07-28</td>\n",
       "      <td>MG</td>\n",
       "      <td>Aricanduva</td>\n",
       "      <td>city</td>\n",
       "      <td>1</td>\n",
       "      <td>0</td>\n",
       "      <td>32</td>\n",
       "      <td>False</td>\n",
       "      <td>5269.00</td>\n",
       "      <td>3104452.00</td>\n",
       "      <td>18.98</td>\n",
       "      <td>0.00</td>\n",
       "    </tr>\n",
       "    <tr>\n",
       "      <th>726123</th>\n",
       "      <td>2020-08-23</td>\n",
       "      <td>RS</td>\n",
       "      <td>Mato Queimado</td>\n",
       "      <td>city</td>\n",
       "      <td>5</td>\n",
       "      <td>0</td>\n",
       "      <td>32</td>\n",
       "      <td>False</td>\n",
       "      <td>1629.00</td>\n",
       "      <td>4312179.00</td>\n",
       "      <td>306.94</td>\n",
       "      <td>0.00</td>\n",
       "    </tr>\n",
       "  </tbody>\n",
       "</table>\n",
       "</div>"
      ],
      "text/plain": [
       "              date state           city place_type  confirmed  deaths  \\\n",
       "520671  2020-11-13    PE      Ingazeira       city         74       1   \n",
       "594030  2020-08-27    PR     Catanduvas       city         64       0   \n",
       "70944   2020-06-10    CE      Ipaumirim       city         10       1   \n",
       "357289  2020-07-28    MG     Aricanduva       city          1       0   \n",
       "726123  2020-08-23    RS  Mato Queimado       city          5       0   \n",
       "\n",
       "        order_for_place  is_last  estimated_population  city_ibge_code  \\\n",
       "520671              163    False               4543.00      2607109.00   \n",
       "594030               88    False              10167.00      4105003.00   \n",
       "70944                50    False              12485.00      2305704.00   \n",
       "357289               32    False               5269.00      3104452.00   \n",
       "726123               32    False               1629.00      4312179.00   \n",
       "\n",
       "        confirmed_per_100k_inhabitants  death_rate  \n",
       "520671                         1628.88        0.01  \n",
       "594030                          629.49        0.00  \n",
       "70944                            80.10        0.10  \n",
       "357289                           18.98        0.00  \n",
       "726123                          306.94        0.00  "
      ]
     },
     "execution_count": 246,
     "metadata": {},
     "output_type": "execute_result"
    }
   ],
   "source": [
    "# vamos filtrar as linhas onde a coluna city não é nula e atribuí-la a variável df_cidade\n",
    "df_cidade = df[df['city'].notnull()]\n",
    "# uma amostra aleatório de 5 linhas\n",
    "df_cidade.sample(5)"
   ]
  },
  {
   "cell_type": "markdown",
   "metadata": {},
   "source": [
    "<br>\n",
    "\n",
    "Para provar que **df_cidade** traz somente dados das cidades vamos checar os valores únicos da coluna **place_type**"
   ]
  },
  {
   "cell_type": "code",
   "execution_count": 245,
   "metadata": {},
   "outputs": [
    {
     "data": {
      "text/plain": [
       "array(['city'], dtype=object)"
      ]
     },
     "execution_count": 245,
     "metadata": {},
     "output_type": "execute_result"
    }
   ],
   "source": [
    "df_cidade['place_type'].unique()"
   ]
  },
  {
   "cell_type": "code",
   "execution_count": 247,
   "metadata": {},
   "outputs": [
    {
     "name": "stderr",
     "output_type": "stream",
     "text": [
      "c:\\python\\python37\\lib\\site-packages\\pandas\\core\\frame.py:3997: SettingWithCopyWarning: \n",
      "A value is trying to be set on a copy of a slice from a DataFrame\n",
      "\n",
      "See the caveats in the documentation: https://pandas.pydata.org/pandas-docs/stable/user_guide/indexing.html#returning-a-view-versus-a-copy\n",
      "  errors=errors,\n"
     ]
    }
   ],
   "source": [
    "# excluindo a coluna place_type já que a mesma não faz mais sentido nesse dataframe\n",
    "df_cidade.drop('place_type', axis=1, inplace=True)"
   ]
  },
  {
   "cell_type": "code",
   "execution_count": 237,
   "metadata": {},
   "outputs": [
    {
     "data": {
      "text/plain": [
       "620.86"
      ]
     },
     "execution_count": 237,
     "metadata": {},
     "output_type": "execute_result"
    }
   ],
   "source": [
    "round(30/(df_cidade.loc[477052, 'estimated_population']/100000), 2)"
   ]
  },
  {
   "cell_type": "code",
   "execution_count": null,
   "metadata": {},
   "outputs": [],
   "source": []
  },
  {
   "cell_type": "code",
   "execution_count": 248,
   "metadata": {},
   "outputs": [
    {
     "data": {
      "text/plain": [
       "date                                  0\n",
       "state                                 0\n",
       "city                                  0\n",
       "confirmed                             0\n",
       "deaths                                0\n",
       "order_for_place                       0\n",
       "is_last                               0\n",
       "estimated_population                  0\n",
       "city_ibge_code                        0\n",
       "confirmed_per_100k_inhabitants    13565\n",
       "death_rate                            0\n",
       "dtype: int64"
      ]
     },
     "execution_count": 248,
     "metadata": {},
     "output_type": "execute_result"
    }
   ],
   "source": [
    "df_cidade.isna().sum()"
   ]
  },
  {
   "cell_type": "code",
   "execution_count": 250,
   "metadata": {},
   "outputs": [
    {
     "data": {
      "text/html": [
       "<div>\n",
       "<style scoped>\n",
       "    .dataframe tbody tr th:only-of-type {\n",
       "        vertical-align: middle;\n",
       "    }\n",
       "\n",
       "    .dataframe tbody tr th {\n",
       "        vertical-align: top;\n",
       "    }\n",
       "\n",
       "    .dataframe thead th {\n",
       "        text-align: right;\n",
       "    }\n",
       "</style>\n",
       "<table border=\"1\" class=\"dataframe\">\n",
       "  <thead>\n",
       "    <tr style=\"text-align: right;\">\n",
       "      <th></th>\n",
       "      <th>date</th>\n",
       "      <th>state</th>\n",
       "      <th>city</th>\n",
       "      <th>confirmed</th>\n",
       "      <th>deaths</th>\n",
       "      <th>order_for_place</th>\n",
       "      <th>is_last</th>\n",
       "      <th>estimated_population</th>\n",
       "      <th>city_ibge_code</th>\n",
       "      <th>confirmed_per_100k_inhabitants</th>\n",
       "      <th>death_rate</th>\n",
       "    </tr>\n",
       "  </thead>\n",
       "  <tbody>\n",
       "    <tr>\n",
       "      <th>5255</th>\n",
       "      <td>2020-06-02</td>\n",
       "      <td>AC</td>\n",
       "      <td>Jordão</td>\n",
       "      <td>0</td>\n",
       "      <td>0</td>\n",
       "      <td>15</td>\n",
       "      <td>False</td>\n",
       "      <td>8473.00</td>\n",
       "      <td>1200328.00</td>\n",
       "      <td>nan</td>\n",
       "      <td>0.00</td>\n",
       "    </tr>\n",
       "    <tr>\n",
       "      <th>5256</th>\n",
       "      <td>2020-06-01</td>\n",
       "      <td>AC</td>\n",
       "      <td>Jordão</td>\n",
       "      <td>0</td>\n",
       "      <td>0</td>\n",
       "      <td>14</td>\n",
       "      <td>False</td>\n",
       "      <td>8473.00</td>\n",
       "      <td>1200328.00</td>\n",
       "      <td>nan</td>\n",
       "      <td>0.00</td>\n",
       "    </tr>\n",
       "    <tr>\n",
       "      <th>5257</th>\n",
       "      <td>2020-05-31</td>\n",
       "      <td>AC</td>\n",
       "      <td>Jordão</td>\n",
       "      <td>0</td>\n",
       "      <td>0</td>\n",
       "      <td>13</td>\n",
       "      <td>False</td>\n",
       "      <td>8473.00</td>\n",
       "      <td>1200328.00</td>\n",
       "      <td>nan</td>\n",
       "      <td>0.00</td>\n",
       "    </tr>\n",
       "    <tr>\n",
       "      <th>5258</th>\n",
       "      <td>2020-05-30</td>\n",
       "      <td>AC</td>\n",
       "      <td>Jordão</td>\n",
       "      <td>0</td>\n",
       "      <td>0</td>\n",
       "      <td>12</td>\n",
       "      <td>False</td>\n",
       "      <td>8473.00</td>\n",
       "      <td>1200328.00</td>\n",
       "      <td>nan</td>\n",
       "      <td>0.00</td>\n",
       "    </tr>\n",
       "    <tr>\n",
       "      <th>5259</th>\n",
       "      <td>2020-05-29</td>\n",
       "      <td>AC</td>\n",
       "      <td>Jordão</td>\n",
       "      <td>0</td>\n",
       "      <td>0</td>\n",
       "      <td>11</td>\n",
       "      <td>False</td>\n",
       "      <td>8473.00</td>\n",
       "      <td>1200328.00</td>\n",
       "      <td>nan</td>\n",
       "      <td>0.00</td>\n",
       "    </tr>\n",
       "    <tr>\n",
       "      <th>...</th>\n",
       "      <td>...</td>\n",
       "      <td>...</td>\n",
       "      <td>...</td>\n",
       "      <td>...</td>\n",
       "      <td>...</td>\n",
       "      <td>...</td>\n",
       "      <td>...</td>\n",
       "      <td>...</td>\n",
       "      <td>...</td>\n",
       "      <td>...</td>\n",
       "      <td>...</td>\n",
       "    </tr>\n",
       "    <tr>\n",
       "      <th>966030</th>\n",
       "      <td>2020-05-18</td>\n",
       "      <td>SP</td>\n",
       "      <td>Tarumã</td>\n",
       "      <td>0</td>\n",
       "      <td>0</td>\n",
       "      <td>18</td>\n",
       "      <td>False</td>\n",
       "      <td>15183.00</td>\n",
       "      <td>3553955.00</td>\n",
       "      <td>nan</td>\n",
       "      <td>0.00</td>\n",
       "    </tr>\n",
       "    <tr>\n",
       "      <th>966031</th>\n",
       "      <td>2020-05-17</td>\n",
       "      <td>SP</td>\n",
       "      <td>Tarumã</td>\n",
       "      <td>0</td>\n",
       "      <td>0</td>\n",
       "      <td>17</td>\n",
       "      <td>False</td>\n",
       "      <td>15183.00</td>\n",
       "      <td>3553955.00</td>\n",
       "      <td>nan</td>\n",
       "      <td>0.00</td>\n",
       "    </tr>\n",
       "    <tr>\n",
       "      <th>966032</th>\n",
       "      <td>2020-05-16</td>\n",
       "      <td>SP</td>\n",
       "      <td>Tarumã</td>\n",
       "      <td>0</td>\n",
       "      <td>0</td>\n",
       "      <td>16</td>\n",
       "      <td>False</td>\n",
       "      <td>15183.00</td>\n",
       "      <td>3553955.00</td>\n",
       "      <td>nan</td>\n",
       "      <td>0.00</td>\n",
       "    </tr>\n",
       "    <tr>\n",
       "      <th>971532</th>\n",
       "      <td>2020-03-25</td>\n",
       "      <td>SP</td>\n",
       "      <td>Vargem Grande Paulista</td>\n",
       "      <td>0</td>\n",
       "      <td>1</td>\n",
       "      <td>2</td>\n",
       "      <td>False</td>\n",
       "      <td>53468.00</td>\n",
       "      <td>3556453.00</td>\n",
       "      <td>nan</td>\n",
       "      <td>0.00</td>\n",
       "    </tr>\n",
       "    <tr>\n",
       "      <th>974674</th>\n",
       "      <td>2020-05-21</td>\n",
       "      <td>SP</td>\n",
       "      <td>Álvaro de Carvalho</td>\n",
       "      <td>0</td>\n",
       "      <td>0</td>\n",
       "      <td>14</td>\n",
       "      <td>False</td>\n",
       "      <td>5274.00</td>\n",
       "      <td>3501400.00</td>\n",
       "      <td>nan</td>\n",
       "      <td>0.00</td>\n",
       "    </tr>\n",
       "  </tbody>\n",
       "</table>\n",
       "<p>13565 rows × 11 columns</p>\n",
       "</div>"
      ],
      "text/plain": [
       "              date state                    city  confirmed  deaths  \\\n",
       "5255    2020-06-02    AC                  Jordão          0       0   \n",
       "5256    2020-06-01    AC                  Jordão          0       0   \n",
       "5257    2020-05-31    AC                  Jordão          0       0   \n",
       "5258    2020-05-30    AC                  Jordão          0       0   \n",
       "5259    2020-05-29    AC                  Jordão          0       0   \n",
       "...            ...   ...                     ...        ...     ...   \n",
       "966030  2020-05-18    SP                  Tarumã          0       0   \n",
       "966031  2020-05-17    SP                  Tarumã          0       0   \n",
       "966032  2020-05-16    SP                  Tarumã          0       0   \n",
       "971532  2020-03-25    SP  Vargem Grande Paulista          0       1   \n",
       "974674  2020-05-21    SP      Álvaro de Carvalho          0       0   \n",
       "\n",
       "        order_for_place  is_last  estimated_population  city_ibge_code  \\\n",
       "5255                 15    False               8473.00      1200328.00   \n",
       "5256                 14    False               8473.00      1200328.00   \n",
       "5257                 13    False               8473.00      1200328.00   \n",
       "5258                 12    False               8473.00      1200328.00   \n",
       "5259                 11    False               8473.00      1200328.00   \n",
       "...                 ...      ...                   ...             ...   \n",
       "966030               18    False              15183.00      3553955.00   \n",
       "966031               17    False              15183.00      3553955.00   \n",
       "966032               16    False              15183.00      3553955.00   \n",
       "971532                2    False              53468.00      3556453.00   \n",
       "974674               14    False               5274.00      3501400.00   \n",
       "\n",
       "        confirmed_per_100k_inhabitants  death_rate  \n",
       "5255                               nan        0.00  \n",
       "5256                               nan        0.00  \n",
       "5257                               nan        0.00  \n",
       "5258                               nan        0.00  \n",
       "5259                               nan        0.00  \n",
       "...                                ...         ...  \n",
       "966030                             nan        0.00  \n",
       "966031                             nan        0.00  \n",
       "966032                             nan        0.00  \n",
       "971532                             nan        0.00  \n",
       "974674                             nan        0.00  \n",
       "\n",
       "[13565 rows x 11 columns]"
      ]
     },
     "execution_count": 250,
     "metadata": {},
     "output_type": "execute_result"
    }
   ],
   "source": [
    "df_cidade[df_cidade['confirmed_per_100k_inhabitants'].isna()]"
   ]
  }
 ],
 "metadata": {
  "colab": {
   "include_colab_link": true,
   "name": "Projeto Módulo 01.ipynb",
   "provenance": []
  },
  "kernelspec": {
   "display_name": "Python 3",
   "language": "python",
   "name": "python3"
  },
  "language_info": {
   "codemirror_mode": {
    "name": "ipython",
    "version": 3
   },
   "file_extension": ".py",
   "mimetype": "text/x-python",
   "name": "python",
   "nbconvert_exporter": "python",
   "pygments_lexer": "ipython3",
   "version": "3.7.0"
  }
 },
 "nbformat": 4,
 "nbformat_minor": 1
}
