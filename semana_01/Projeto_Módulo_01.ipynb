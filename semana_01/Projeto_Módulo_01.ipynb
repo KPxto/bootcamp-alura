{
 "cells": [
  {
   "cell_type": "markdown",
   "metadata": {
    "colab_type": "text",
    "id": "view-in-github"
   },
   "source": [
    "<a href=\"https://colab.research.google.com/github/KPxto/bootcamp-alura/blob/master/Projeto_M%C3%B3dulo_01.ipynb\" target=\"_parent\"><img src=\"https://colab.research.google.com/assets/colab-badge.svg\" alt=\"Open In Colab\"/></a>"
   ]
  },
  {
   "cell_type": "markdown",
   "metadata": {},
   "source": [
    "# <center>COVID NO ESTADO DA BAHIA</center> \n",
    ">**Autor: Kaio Peixoto**\n",
    "\n",
    "- [Linkedin](https://www.linkedin.com/in/kaiopeixoto/)\n",
    "- [Github](https://github.com/KPxto)"
   ]
  },
  {
   "cell_type": "markdown",
   "metadata": {},
   "source": [
    "<br>\n",
    "\n",
    "Este notebook analisa os dados da COVID-19 disponibilizados pelo portal Brasil.io através deste [link](https://brasil.io/dataset/covid19/caso/). \n",
    "<br>\n",
    "\n",
    "Os dados são apresentados diariamente pelas secretarias estaduais e municipais de saúde e coletados/compilados pela equipe de voluntarios do Brasil.io.\n",
    "<br>\n",
    "\n",
    "Este estudo visa analisar especificamente a situação do estado da Bahia e suas microrregiões, ou, regiões intermediárias e imediatas. Segundo o IBGE, as microrregiões *\"são agrupamentos de regiões imediatas que são articuladas através da influência de uma metrópole, capital regional ou centro urbano representativo dentro do conjunto\"*.\n",
    "\n",
    "Dentro de um mesmo estado podem existir realidades bem distintas entre as subdivisões. Para um estado de grandes proporções como a Bahia pode ser mais interessante analisarmos cada região dessa para que o governo estadual possa alocar recursos onde mais se precisa, atuando efetivamente contra os efeitos da pandemia.\n",
    "<br>\n",
    "\n",
    "O IBGE dividiu a Bahia em 32 regiões intermediárias e imediatas e nosso estudo vai se basear fazendo um comparativo entre as mesmas.\n",
    "\n",
    "No entanto, antes de dar um zoom em cada subdivisão da Bahia, vamos contextulizar a situação nacional fazendo os seguintes comparativos: \n",
    "\n",
    "    1. entre as 5 regiões do Brasil;\n",
    "    2. entre os estados do Nordeste;\n",
    "    \n",
    "Os indicadores comparados serão:\n",
    "\n",
    "    1. confirmados por 100 mil;\n",
    "    2. óbitos por 100 mil;\n",
    "    3. taxa de mortalidade; \n",
    "\n",
    "A divisão por 100 mil habitantes facilita um comparativo mais justo respeitando as devidas proporcionalidades.\n",
    "\n",
    "Ou seja, faremos um zoom de forma gradual começando no cenário nacional até chegar nas microrregiões da Bahia."
   ]
  },
  {
   "cell_type": "markdown",
   "metadata": {
    "id": "RshO3GgDFGhB"
   },
   "source": [
    "## Resumo:\n",
    "\n",
    "Questões e hipóteses:"
   ]
  },
  {
   "cell_type": "markdown",
   "metadata": {
    "id": "BUHuWTjaFGMV"
   },
   "source": [
    "- Como a pandemia tem se comportado dentre as diferentes microrregiões da Bahia?\n",
    "- Quantos confirmados a cada 100 mil e qual a mortalidade da doença?\n",
    "- O índice de mortalidade está relacionado com o nível de gasto na saúde por região? **(verificar se tem dados para validar essa hipotese)**\n",
    "- Os maiores picos da doença ocorreram na mesma época em todas regiões ou em momentos diferentes?\n",
    "- Qual microrregião está mais preparada e menos preparada para uma possível segunda onda da doença?\n",
    "- Onde estão as cidades em que a doença foi mais controlada?\n",
    "- Como Salvador tem respondido à pandemia em relação às outras capitais do nordeste?\n",
    "- Tirar a media de cada regiao considerando somente as capitais e fazer um comparativo\n",
    "- Fazer uma distribuicao da população das cidades da Bahia cujo óbito por covid foi zero\n",
    "- Primeiro vamos comparar os numeros da Bahia com os dos outros estados do NE e tbm do Brasil\n",
    "- Calcular a media movel"
   ]
  },
  {
   "cell_type": "markdown",
   "metadata": {},
   "source": [
    "## Cidades e microrregiões\n",
    "\n",
    "De início, vamos logo organizar as subdivisões da Bahia em listas com suas respectivas cidades."
   ]
  },
  {
   "cell_type": "code",
   "execution_count": 1,
   "metadata": {},
   "outputs": [],
   "source": [
    "# foram copiadas do wikipedia as informações de cada cidade e sua respectiva microrregião\n",
    "# para transformar as cidades numa lista, aplicamos o metodo split\n",
    "# o nome da lista corresponde ao nome da microrregião\n",
    "\n",
    "b='''Baianópolis\n",
    "Barreiras\n",
    "Catolândia\n",
    "Formosa do Rio Preto\n",
    "Luís Eduardo Magalhães\n",
    "Riachão das Neves\n",
    "São Desidério'''\n",
    "\n",
    "barreiras = b.split('\\n')\n",
    "\n",
    "c='''Angical\n",
    "Brejolândia\n",
    "Cotegipe\n",
    "Cristópolis\n",
    "Mansidão\n",
    "Santa Rita de Cássia\n",
    "Tabocas do Brejo Velho\n",
    "Wanderley'''\n",
    "\n",
    "cotegipe = c.split('\\n')\n",
    "\n",
    "smv='''Canápolis\n",
    "Cocos\n",
    "Coribe\n",
    "Correntina\n",
    "Jaborandi\n",
    "Santa Maria da Vitória\n",
    "Santana\n",
    "São Félix do Coribe\n",
    "Serra Dourada'''\n",
    "\n",
    "sta_maria_vit = smv.split('\\n')\n",
    "\n",
    "j='''Campo Alegre de Lourdes\n",
    "Casa Nova\n",
    "Curaçá\n",
    "Juazeiro\n",
    "Pilão Arcado\n",
    "Remanso\n",
    "Sento Sé\n",
    "Sobradinho'''\n",
    "\n",
    "juazeiro = j.split('\\n')\n",
    "\n",
    "pa='''Abaré\n",
    "Chorrochó\n",
    "Glória\n",
    "Macururé\n",
    "Paulo Afonso\n",
    "Rodelas'''\n",
    "\n",
    "paulo_afonso = pa.split('\\n')\n",
    "\n",
    "barra='''Barra\n",
    "Buritirama\n",
    "Ibotirama\n",
    "Itaguaçu da Bahia\n",
    "Morpará\n",
    "Muquém do São Francisco\n",
    "Xique-Xique'''\n",
    "\n",
    "barra = barra.split('\\n')\n",
    "\n",
    "bj='''Bom Jesus da Lapa\n",
    "Carinhanha\n",
    "Feira da Mata\n",
    "Paratinga\n",
    "Serra do Ramalho\n",
    "Sítio do Mato'''\n",
    "\n",
    "bom_jesus_lapa = bj.split('\\n')\n",
    "\n",
    "sdb='''Andorinha\n",
    "Antônio Gonçalves\n",
    "Campo Formoso\n",
    "Filadélfia\n",
    "Itiúba\n",
    "Jaguarari\n",
    "Pindobaçu\n",
    "Senhor do Bonfim\n",
    "Umburanas'''\n",
    "\n",
    "senhor_bonfim = sdb.split('\\n')\n",
    "\n",
    "ir='''América Dourada\n",
    "Barra do Mendes\n",
    "Barro Alto\n",
    "Cafarnaum\n",
    "Canarana\n",
    "Central\n",
    "Gentio do Ouro\n",
    "Ibipeba\n",
    "Ibititá\n",
    "Iraquara\n",
    "Irecê\n",
    "João Dourado\n",
    "Jussara\n",
    "Lapão\n",
    "Mulungu do Morro\n",
    "Presidente Dutra\n",
    "São Gabriel\n",
    "Souto Soares\n",
    "Uibaí'''\n",
    "\n",
    "irece = ir.split('\\n')\n",
    "\n",
    "jac='''Caém\n",
    "Caldeirão Grande\n",
    "Capim Grosso\n",
    "Jacobina\n",
    "Miguel Calmon\n",
    "Mirangaba\n",
    "Morro do Chapéu\n",
    "Ourolândia\n",
    "Piritiba\n",
    "Ponto Novo\n",
    "Quixabeira\n",
    "São José do Jacuípe\n",
    "Saúde\n",
    "Serrolândia\n",
    "Várzea do Poço\n",
    "Várzea Nova'''\n",
    "\n",
    "jacobina = jac.split('\\n')\n",
    "\n",
    "itab='''Baixa Grande\n",
    "Boa Vista do Tupim\n",
    "Iaçu\n",
    "Ibiquera\n",
    "Itaberaba\n",
    "Lajedinho\n",
    "Macajuba\n",
    "Mairi\n",
    "Mundo Novo\n",
    "Ruy Barbosa\n",
    "Tapiramutá\n",
    "Várzea da Roça'''\n",
    "\n",
    "itaberada = itab.split('\\n')\n",
    "\n",
    "fs='''Água Fria\n",
    "Anguera\n",
    "Antônio Cardoso\n",
    "Conceição da Feira\n",
    "Conceição do Jacuípe\n",
    "Coração de Maria\n",
    "Elísio Medrado\n",
    "Feira de Santana\n",
    "Ipecaetá\n",
    "Ipirá\n",
    "Irará\n",
    "Itatim\n",
    "Ouriçangas\n",
    "Pedrão\n",
    "Pintadas\n",
    "Rafael Jambeiro\n",
    "Santa Bárbara\n",
    "Santa Teresinha\n",
    "Santanópolis\n",
    "Santo Estêvão\n",
    "São Gonçalo dos Campos\n",
    "Serra Preta\n",
    "Tanquinho\n",
    "Teodoro Sampaio'''\n",
    "\n",
    "feira_santana = fs.split('\\n')\n",
    "\n",
    "jer='''Coronel João Sá\n",
    "Jeremoabo\n",
    "Pedro Alexandre\n",
    "Santa Brígida\n",
    "Sítio do Quinto'''\n",
    "\n",
    "jeremoabo = jer.split('\\n')\n",
    "\n",
    "euc='''Cansanção\n",
    "Canudos\n",
    "Euclides da Cunha\n",
    "Monte Santo\n",
    "Nordestina\n",
    "Queimadas\n",
    "Quijingue\n",
    "Tucano\n",
    "Uauá'''\n",
    "\n",
    "euclides_cunha = euc.split('\\n')\n",
    "\n",
    "rp='''Adustina\n",
    "Antas\n",
    "Banzaê\n",
    "Cícero Dantas\n",
    "Cipó\n",
    "Fátima\n",
    "Heliópolis\n",
    "Itapicuru\n",
    "Nova Soure\n",
    "Novo Triunfo\n",
    "Olindina\n",
    "Paripiranga\n",
    "Ribeira do Amparo\n",
    "Ribeira do Pombal'''\n",
    "\n",
    "rib_pombal = rp.split('\\n')\n",
    "\n",
    "ser='''Araci\n",
    "Barrocas\n",
    "Biritinga\n",
    "Candeal\n",
    "Capela do Alto Alegre\n",
    "Conceição do Coité\n",
    "Gavião\n",
    "Ichu\n",
    "Lamarão\n",
    "Nova Fátima\n",
    "Pé de Serra\n",
    "Retirolândia\n",
    "Riachão do Jacuípe\n",
    "Santaluz\n",
    "São Domingos\n",
    "Serrinha\n",
    "Teofilândia\n",
    "Valente'''\n",
    "\n",
    "serrinha = ser.split('\\n')\n",
    "\n",
    "ala='''Acajutiba\n",
    "Alagoinhas\n",
    "Aporá\n",
    "Araçás\n",
    "Aramari\n",
    "Crisópolis\n",
    "Inhambupe\n",
    "Rio Real\n",
    "Sátiro Dias'''\n",
    "\n",
    "alagoinhas = ala.split('\\n')\n",
    "\n",
    "entre='''Cardeal da Silva\n",
    "Conde\n",
    "Entre Rios\n",
    "Esplanada\n",
    "Jandaíra'''\n",
    "\n",
    "entre_rios = entre.split('\\n')\n",
    "\n",
    "catu='''Amélia Rodrigues\n",
    "Catu\n",
    "Itanagra\n",
    "Mata de São João\n",
    "Pojuca\n",
    "São Sebastião do Passé\n",
    "Terra Nova'''\n",
    "\n",
    "catu = catu.split('\\n')\n",
    "\n",
    "saj='''Aratuípe\n",
    "Cabaceiras do Paraguaçu\n",
    "Cachoeira\n",
    "Castro Alves\n",
    "Conceição do Almeida\n",
    "Cruz das Almas\n",
    "Dom Macedo Costa\n",
    "Governador Mangabeira\n",
    "Jaguaripe\n",
    "Maragogipe\n",
    "Muniz Ferreira\n",
    "Muritiba\n",
    "Nazaré\n",
    "Salinas da Margarida\n",
    "Santo Amaro\n",
    "Santo Antônio de Jesus\n",
    "São Felipe\n",
    "São Félix\n",
    "Sapeaçu\n",
    "Saubara\n",
    "Varzedo'''\n",
    "\n",
    "sto_antonio = saj.split('\\n')\n",
    "\n",
    "ssa='''Camaçari\n",
    "Candeias\n",
    "Dias d'Ávila\n",
    "Itaparica\n",
    "Lauro de Freitas\n",
    "Madre de Deus\n",
    "Salvador\n",
    "São Francisco do Conde\n",
    "Simões Filho\n",
    "Vera Cruz'''\n",
    "\n",
    "salvador = ssa.split('\\n')\n",
    "\n",
    "boq='''Boquira\n",
    "Botuporã\n",
    "Brotas de Macaúbas\n",
    "Caturama\n",
    "Ibipitanga\n",
    "Ibitiara\n",
    "Ipupiara\n",
    "Macaúbas\n",
    "Novo Horizonte\n",
    "Oliveira dos Brejinhos\n",
    "Tanque Novo'''\n",
    "\n",
    "boquira = boq.split('\\n')\n",
    "\n",
    "sea='''Abaíra\n",
    "Andaraí\n",
    "Barra da Estiva\n",
    "Boninal\n",
    "Bonito\n",
    "Contendas do Sincorá\n",
    "Ibicoara\n",
    "Itaeté\n",
    "Jussiape\n",
    "Lençóis\n",
    "Mucugê\n",
    "Nova Redenção\n",
    "Palmeiras\n",
    "Piatã\n",
    "Rio de Contas\n",
    "Seabra\n",
    "Utinga\n",
    "Wagner'''\n",
    "\n",
    "seabra = sea.split('\\n')\n",
    "\n",
    "jeq='''Aiquara\n",
    "Amargosa\n",
    "Apuarema\n",
    "Brejões\n",
    "Cravolândia\n",
    "Irajuba\n",
    "Iramaia\n",
    "Itagi\n",
    "Itaquara\n",
    "Itiruçu\n",
    "Jaguaquara\n",
    "Jequié\n",
    "Jiquiriçá\n",
    "Jitaúna\n",
    "Lafaiete Coutinho\n",
    "Laje\n",
    "Lajedo do Tabocal\n",
    "Maracás\n",
    "Marcionílio Souza\n",
    "Milagres\n",
    "Mutuípe\n",
    "Nova Itarana\n",
    "Planaltino\n",
    "Santa Inês\n",
    "São Miguel das Matas\n",
    "Ubaíra'''\n",
    "\n",
    "jequie = jeq.split('\\n')\n",
    "\n",
    "livbru='''Dom Basílio\n",
    "Érico Cardoso\n",
    "Livramento de Nossa Senhora\n",
    "Paramirim\n",
    "Rio do Pires'''\n",
    "\n",
    "liv_brumado = livbru.split('\\n')\n",
    "\n",
    "gbi='''Caculé\n",
    "Caetité\n",
    "Candiba\n",
    "Guanambi\n",
    "Ibiassucê\n",
    "Igaporã\n",
    "Iuiu\n",
    "Jacaraci\n",
    "Lagoa Real\n",
    "Licínio de Almeida\n",
    "Malhada\n",
    "Matina\n",
    "Mortugaba\n",
    "Palmas de Monte Alto\n",
    "Pindaí\n",
    "Riacho de Santana\n",
    "Sebastião Laranjeiras\n",
    "Urandi'''\n",
    "\n",
    "guanambi = gbi.split('\\n')\n",
    "\n",
    "bru='''Aracatu\n",
    "Brumado\n",
    "Caraíbas\n",
    "Condeúba\n",
    "Cordeiros\n",
    "Guajeru\n",
    "Ituaçu\n",
    "Maetinga\n",
    "Malhada de Pedras\n",
    "Piripá\n",
    "Presidente Jânio Quadros\n",
    "Rio do Antônio\n",
    "Tanhaçu\n",
    "Tremedal'''\n",
    "\n",
    "brumado = bru.split('\\n')\n",
    "\n",
    "vdc='''Anagé\n",
    "Barra do Choça\n",
    "Belo Campo\n",
    "Boa Nova\n",
    "Bom Jesus da Serra\n",
    "Caatiba\n",
    "Caetanos\n",
    "Cândido Sales\n",
    "Dário Meira\n",
    "Ibicuí\n",
    "Iguaí\n",
    "Manoel Vitorino\n",
    "Mirante\n",
    "Nova Canaã\n",
    "Planalto\n",
    "Poções\n",
    "Vitória da Conquista'''\n",
    "\n",
    "vit_conquista = vdc.split('\\n')\n",
    "\n",
    "itap='''Encruzilhada\n",
    "Itambé\n",
    "Itapetinga\n",
    "Itarantim\n",
    "Itororó\n",
    "Macarani\n",
    "Maiquinique\n",
    "Potiraguá\n",
    "Ribeirão do Largo'''\n",
    "\n",
    "itapetinga = itap.split('\\n')\n",
    "\n",
    "val='''Cairu\n",
    "Camamu\n",
    "Igrapiúna\n",
    "Ituberá\n",
    "Maraú\n",
    "Nilo Peçanha\n",
    "Piraí do Norte\n",
    "Presidente Tancredo Neves\n",
    "Taperoá\n",
    "Valença'''\n",
    "\n",
    "valenca = val.split('\\n')\n",
    "\n",
    "iositb='''Almadina\n",
    "Arataca\n",
    "Aurelino Leal\n",
    "Barra do Rocha\n",
    "Barro Preto\n",
    "Belmonte\n",
    "Buerarema\n",
    "Camacan\n",
    "Canavieiras\n",
    "Coaraci\n",
    "Firmino Alves\n",
    "Floresta Azul\n",
    "Gandu\n",
    "Gongogi\n",
    "Ibicaraí\n",
    "Ibirapitanga\n",
    "Ibirataia\n",
    "Ilhéus\n",
    "Ipiaú\n",
    "Itabuna\n",
    "Itacaré\n",
    "Itagibá\n",
    "Itaju do Colônia\n",
    "Itajuípe\n",
    "Itamari\n",
    "Itapé\n",
    "Itapebi\n",
    "Itapitanga\n",
    "Jussari\n",
    "Mascote\n",
    "Nova Ibiá\n",
    "Pau Brasil\n",
    "Santa Cruz da Vitória\n",
    "Santa Luzia\n",
    "São José da Vitória\n",
    "Teolândia\n",
    "Ubaitaba\n",
    "Ubatã\n",
    "Una\n",
    "Uruçuca\n",
    "Wenceslau Guimarães'''\n",
    "\n",
    "ios_itabuna = iositb.split('\\n')\n",
    "\n",
    "pseg='''Alcobaça\n",
    "Caravelas\n",
    "Eunápolis\n",
    "Guaratinga\n",
    "Ibirapuã\n",
    "Itabela\n",
    "Itagimirim\n",
    "Itamaraju\n",
    "Itanhém\n",
    "Jucuruçu\n",
    "Lajedão\n",
    "Medeiros Neto\n",
    "Mucuri\n",
    "Nova Viçosa\n",
    "Porto Seguro\n",
    "Prado\n",
    "Santa Cruz Cabrália\n",
    "Teixeira de Freitas\n",
    "Vereda'''\n",
    "\n",
    "porto_seguro = pseg.split('\\n')"
   ]
  },
  {
   "cell_type": "markdown",
   "metadata": {},
   "source": [
    "## Importando Bibliotecas e Preparando Notebook"
   ]
  },
  {
   "cell_type": "code",
   "execution_count": 2,
   "metadata": {
    "id": "zw4S_LkkFNa2"
   },
   "outputs": [],
   "source": [
    "import pandas as pd\n",
    "import numpy as np\n",
    "import collections\n",
    "import matplotlib.pyplot as plt\n",
    "import matplotlib.ticker as ticker\n",
    "import seaborn as sns\n",
    "import folium\n",
    "from folium.plugins import HeatMap\n",
    "from branca.element import Figure\n",
    "\n",
    "import warnings\n",
    "warnings.filterwarnings('ignore')\n",
    "\n",
    "%matplotlib inline\n",
    "\n",
    "# escolhendo estilo de plotagem\n",
    "plt.style.use('fivethirtyeight')\n",
    "\n",
    "# setando opção de visualização do número\n",
    "pd.options.display.float_format = '{:.2f}'.format"
   ]
  },
  {
   "cell_type": "markdown",
   "metadata": {},
   "source": [
    "## Carregando nosso dataframe\n",
    "\n",
    "    - Para a coluna 'city', os valores nulos vem como NA ou 'Importados/Indefinidos'\n",
    "    - Para facilitar nosso trabalho de limpeza configuramos o pandas para que considere como NA todos valores descritos 'Importados/Indefinidos' na coluna 'city'"
   ]
  },
  {
   "cell_type": "code",
   "execution_count": 3,
   "metadata": {
    "id": "wWHrc23HMW07"
   },
   "outputs": [],
   "source": [
    "df = pd.read_csv('caso.csv.gz', na_values=['Importados/Indefinidos'])"
   ]
  },
  {
   "cell_type": "code",
   "execution_count": 4,
   "metadata": {},
   "outputs": [
    {
     "data": {
      "text/html": [
       "<div>\n",
       "<style scoped>\n",
       "    .dataframe tbody tr th:only-of-type {\n",
       "        vertical-align: middle;\n",
       "    }\n",
       "\n",
       "    .dataframe tbody tr th {\n",
       "        vertical-align: top;\n",
       "    }\n",
       "\n",
       "    .dataframe thead th {\n",
       "        text-align: right;\n",
       "    }\n",
       "</style>\n",
       "<table border=\"1\" class=\"dataframe\">\n",
       "  <thead>\n",
       "    <tr style=\"text-align: right;\">\n",
       "      <th></th>\n",
       "      <th>date</th>\n",
       "      <th>state</th>\n",
       "      <th>city</th>\n",
       "      <th>place_type</th>\n",
       "      <th>confirmed</th>\n",
       "      <th>deaths</th>\n",
       "      <th>order_for_place</th>\n",
       "      <th>is_last</th>\n",
       "      <th>estimated_population_2019</th>\n",
       "      <th>estimated_population</th>\n",
       "      <th>city_ibge_code</th>\n",
       "      <th>confirmed_per_100k_inhabitants</th>\n",
       "      <th>death_rate</th>\n",
       "    </tr>\n",
       "  </thead>\n",
       "  <tbody>\n",
       "    <tr>\n",
       "      <th>1029261</th>\n",
       "      <td>2020-09-12</td>\n",
       "      <td>SP</td>\n",
       "      <td>Novais</td>\n",
       "      <td>city</td>\n",
       "      <td>94</td>\n",
       "      <td>4</td>\n",
       "      <td>107</td>\n",
       "      <td>False</td>\n",
       "      <td>5830.00</td>\n",
       "      <td>5945.00</td>\n",
       "      <td>3533254.00</td>\n",
       "      <td>1581.16</td>\n",
       "      <td>0.04</td>\n",
       "    </tr>\n",
       "    <tr>\n",
       "      <th>286682</th>\n",
       "      <td>2020-09-02</td>\n",
       "      <td>BA</td>\n",
       "      <td>Sobradinho</td>\n",
       "      <td>city</td>\n",
       "      <td>405</td>\n",
       "      <td>11</td>\n",
       "      <td>112</td>\n",
       "      <td>False</td>\n",
       "      <td>23191.00</td>\n",
       "      <td>23233.00</td>\n",
       "      <td>2930774.00</td>\n",
       "      <td>1743.21</td>\n",
       "      <td>0.03</td>\n",
       "    </tr>\n",
       "    <tr>\n",
       "      <th>456372</th>\n",
       "      <td>2020-09-26</td>\n",
       "      <td>MG</td>\n",
       "      <td>Japonvar</td>\n",
       "      <td>city</td>\n",
       "      <td>12</td>\n",
       "      <td>1</td>\n",
       "      <td>102</td>\n",
       "      <td>False</td>\n",
       "      <td>7969.00</td>\n",
       "      <td>7982.00</td>\n",
       "      <td>3135357.00</td>\n",
       "      <td>150.34</td>\n",
       "      <td>0.08</td>\n",
       "    </tr>\n",
       "    <tr>\n",
       "      <th>1032312</th>\n",
       "      <td>2020-08-09</td>\n",
       "      <td>SP</td>\n",
       "      <td>Palestina</td>\n",
       "      <td>city</td>\n",
       "      <td>80</td>\n",
       "      <td>3</td>\n",
       "      <td>83</td>\n",
       "      <td>False</td>\n",
       "      <td>12957.00</td>\n",
       "      <td>13123.00</td>\n",
       "      <td>3535002.00</td>\n",
       "      <td>609.62</td>\n",
       "      <td>0.04</td>\n",
       "    </tr>\n",
       "    <tr>\n",
       "      <th>688640</th>\n",
       "      <td>2020-07-07</td>\n",
       "      <td>PR</td>\n",
       "      <td>Paiçandu</td>\n",
       "      <td>city</td>\n",
       "      <td>70</td>\n",
       "      <td>2</td>\n",
       "      <td>89</td>\n",
       "      <td>False</td>\n",
       "      <td>41281.00</td>\n",
       "      <td>41773.00</td>\n",
       "      <td>4117503.00</td>\n",
       "      <td>167.57</td>\n",
       "      <td>0.03</td>\n",
       "    </tr>\n",
       "  </tbody>\n",
       "</table>\n",
       "</div>"
      ],
      "text/plain": [
       "               date state        city place_type  confirmed  deaths  \\\n",
       "1029261  2020-09-12    SP      Novais       city         94       4   \n",
       "286682   2020-09-02    BA  Sobradinho       city        405      11   \n",
       "456372   2020-09-26    MG    Japonvar       city         12       1   \n",
       "1032312  2020-08-09    SP   Palestina       city         80       3   \n",
       "688640   2020-07-07    PR    Paiçandu       city         70       2   \n",
       "\n",
       "         order_for_place  is_last  estimated_population_2019  \\\n",
       "1029261              107    False                    5830.00   \n",
       "286682               112    False                   23191.00   \n",
       "456372               102    False                    7969.00   \n",
       "1032312               83    False                   12957.00   \n",
       "688640                89    False                   41281.00   \n",
       "\n",
       "         estimated_population  city_ibge_code  confirmed_per_100k_inhabitants  \\\n",
       "1029261               5945.00      3533254.00                         1581.16   \n",
       "286682               23233.00      2930774.00                         1743.21   \n",
       "456372                7982.00      3135357.00                          150.34   \n",
       "1032312              13123.00      3535002.00                          609.62   \n",
       "688640               41773.00      4117503.00                          167.57   \n",
       "\n",
       "         death_rate  \n",
       "1029261        0.04  \n",
       "286682         0.03  \n",
       "456372         0.08  \n",
       "1032312        0.04  \n",
       "688640         0.03  "
      ]
     },
     "execution_count": 4,
     "metadata": {},
     "output_type": "execute_result"
    }
   ],
   "source": [
    "# vamos pegar 5 dados aleatorios para conhecer nosso conjunto de dados\n",
    "df.sample(5)"
   ]
  },
  {
   "cell_type": "markdown",
   "metadata": {},
   "source": [
    "<br>\n",
    "\n",
    "## Para entender o dataset é interessante saber o que cada coluna está informando:\n",
    "    -                           date: data da informação\n",
    "    -                          state: unidade da federação\n",
    "    -                           city: cidade\n",
    "    -                     place_type: se aquela informação refere-se a estado ou cidade\n",
    "    -                      confirmed: casos confirmados até aquela data\n",
    "    -                         deaths: óbitos até aquela data\n",
    "    -                order_for_place: número ordinal do boletim emitido\n",
    "    -                        is_last: informa se aquele boletim é o último emitido para aquela localidade\n",
    "    -      estimated_population_2019: população em 2019\n",
    "    -           estimated_population: população estimada em 2020\n",
    "    -                 city_ibge_code: código ibge para a cidade (útil para explorar base de dados do ibge)\n",
    "    - confirmed_per_100k_inhabitants: mortes a cada 100 mil habitantes\n",
    "    -                     death_rate: taxa de mortalidade (divide-se o total de óbitos pelo total de casos confirmados)"
   ]
  },
  {
   "cell_type": "markdown",
   "metadata": {},
   "source": [
    "<br>\n",
    "\n",
    "## Checando valores nulos e tipos de dados"
   ]
  },
  {
   "cell_type": "markdown",
   "metadata": {},
   "source": [
    "Antes de verificarmos tipos de dados e valores nulos, vamos verificar o tamanho do nosso dataframe"
   ]
  },
  {
   "cell_type": "code",
   "execution_count": 5,
   "metadata": {},
   "outputs": [
    {
     "name": "stdout",
     "output_type": "stream",
     "text": [
      "Nosso dataset tem 1083415 linhas e 13 colunas.\n"
     ]
    }
   ],
   "source": [
    "print(f'Nosso dataset tem {df.shape[0]} linhas e {df.shape[1]} colunas.')"
   ]
  },
  {
   "cell_type": "markdown",
   "metadata": {},
   "source": [
    "<br>\n",
    "Desse total de linhas quantas são valores NA por coluna?\n",
    "\n",
    "Vamos achar essa resposta com o codigo abaixo"
   ]
  },
  {
   "cell_type": "code",
   "execution_count": 6,
   "metadata": {},
   "outputs": [
    {
     "data": {
      "text/plain": [
       "date                                  0\n",
       "state                                 0\n",
       "city                              11246\n",
       "place_type                            0\n",
       "confirmed                             0\n",
       "deaths                                0\n",
       "order_for_place                       0\n",
       "is_last                               0\n",
       "estimated_population_2019          4163\n",
       "estimated_population               4163\n",
       "city_ibge_code                     4163\n",
       "confirmed_per_100k_inhabitants    17825\n",
       "death_rate                            0\n",
       "dtype: int64"
      ]
     },
     "execution_count": 6,
     "metadata": {},
     "output_type": "execute_result"
    }
   ],
   "source": [
    "df.isna().sum()"
   ]
  },
  {
   "cell_type": "markdown",
   "metadata": {},
   "source": [
    "<br>\n",
    "Agora veremos quantos valores válidos por coluna e seus respectivos tipos de dados"
   ]
  },
  {
   "cell_type": "code",
   "execution_count": 7,
   "metadata": {},
   "outputs": [
    {
     "name": "stdout",
     "output_type": "stream",
     "text": [
      "<class 'pandas.core.frame.DataFrame'>\n",
      "RangeIndex: 1083415 entries, 0 to 1083414\n",
      "Data columns (total 13 columns):\n",
      " #   Column                          Non-Null Count    Dtype  \n",
      "---  ------                          --------------    -----  \n",
      " 0   date                            1083415 non-null  object \n",
      " 1   state                           1083415 non-null  object \n",
      " 2   city                            1072169 non-null  object \n",
      " 3   place_type                      1083415 non-null  object \n",
      " 4   confirmed                       1083415 non-null  int64  \n",
      " 5   deaths                          1083415 non-null  int64  \n",
      " 6   order_for_place                 1083415 non-null  int64  \n",
      " 7   is_last                         1083415 non-null  bool   \n",
      " 8   estimated_population_2019       1079252 non-null  float64\n",
      " 9   estimated_population            1079252 non-null  float64\n",
      " 10  city_ibge_code                  1079252 non-null  float64\n",
      " 11  confirmed_per_100k_inhabitants  1065590 non-null  float64\n",
      " 12  death_rate                      1083415 non-null  float64\n",
      "dtypes: bool(1), float64(5), int64(3), object(4)\n",
      "memory usage: 100.2+ MB\n"
     ]
    }
   ],
   "source": [
    "df.info()"
   ]
  },
  {
   "cell_type": "markdown",
   "metadata": {},
   "source": [
    ">A coluna **date** está como *string* e deverá ser convertida para tipo *data*"
   ]
  },
  {
   "cell_type": "markdown",
   "metadata": {},
   "source": [
    "<br>\n",
    "\n",
    "Conforme sugerido pela própria documentação para ser desconsiderada por possuir valores desatualizados, vamos excluir a coluna **estimated_population_2019**"
   ]
  },
  {
   "cell_type": "code",
   "execution_count": 8,
   "metadata": {},
   "outputs": [],
   "source": [
    "df.drop('estimated_population_2019', axis=1, inplace=True)"
   ]
  },
  {
   "cell_type": "markdown",
   "metadata": {},
   "source": [
    "Também vamos fazer a conversão da coluna **date**"
   ]
  },
  {
   "cell_type": "code",
   "execution_count": 9,
   "metadata": {},
   "outputs": [],
   "source": [
    "df['date'] = pd.to_datetime(df['date'], yearfirst=True)"
   ]
  },
  {
   "cell_type": "markdown",
   "metadata": {},
   "source": [
    "Já que o dataset abrange até início de Dezembro vamos excluir este último mês do ano e pegar somente meses cheios, ou seja, até Novembro. Dessa forma evitamos distorções na visualização dos gráficos."
   ]
  },
  {
   "cell_type": "code",
   "execution_count": 10,
   "metadata": {},
   "outputs": [],
   "source": [
    "#df = df[df['date'].dt.month<=11]"
   ]
  },
  {
   "cell_type": "markdown",
   "metadata": {},
   "source": [
    "<br>\n",
    "\n",
    "## Separando Dataframes e Fazendo Ajustes...\n",
    "\n",
    "Considerando que os valores NA da coluna **city** ocorrem quando o registro refere-se a estado (descrito como *state* na coluna **place_type**), vamos criar um dataframe somente para dados relacionados às cidades."
   ]
  },
  {
   "cell_type": "code",
   "execution_count": 11,
   "metadata": {},
   "outputs": [
    {
     "data": {
      "text/html": [
       "<div>\n",
       "<style scoped>\n",
       "    .dataframe tbody tr th:only-of-type {\n",
       "        vertical-align: middle;\n",
       "    }\n",
       "\n",
       "    .dataframe tbody tr th {\n",
       "        vertical-align: top;\n",
       "    }\n",
       "\n",
       "    .dataframe thead th {\n",
       "        text-align: right;\n",
       "    }\n",
       "</style>\n",
       "<table border=\"1\" class=\"dataframe\">\n",
       "  <thead>\n",
       "    <tr style=\"text-align: right;\">\n",
       "      <th></th>\n",
       "      <th>date</th>\n",
       "      <th>state</th>\n",
       "      <th>city</th>\n",
       "      <th>place_type</th>\n",
       "      <th>confirmed</th>\n",
       "      <th>deaths</th>\n",
       "      <th>order_for_place</th>\n",
       "      <th>is_last</th>\n",
       "      <th>estimated_population</th>\n",
       "      <th>city_ibge_code</th>\n",
       "      <th>confirmed_per_100k_inhabitants</th>\n",
       "      <th>death_rate</th>\n",
       "    </tr>\n",
       "  </thead>\n",
       "  <tbody>\n",
       "    <tr>\n",
       "      <th>994249</th>\n",
       "      <td>2020-06-17</td>\n",
       "      <td>SP</td>\n",
       "      <td>Guararema</td>\n",
       "      <td>city</td>\n",
       "      <td>96</td>\n",
       "      <td>10</td>\n",
       "      <td>71</td>\n",
       "      <td>False</td>\n",
       "      <td>30136.00</td>\n",
       "      <td>3518305.00</td>\n",
       "      <td>318.56</td>\n",
       "      <td>0.10</td>\n",
       "    </tr>\n",
       "    <tr>\n",
       "      <th>807094</th>\n",
       "      <td>2020-08-08</td>\n",
       "      <td>RS</td>\n",
       "      <td>Mariana Pimentel</td>\n",
       "      <td>city</td>\n",
       "      <td>11</td>\n",
       "      <td>2</td>\n",
       "      <td>59</td>\n",
       "      <td>False</td>\n",
       "      <td>3888.00</td>\n",
       "      <td>4311981.00</td>\n",
       "      <td>282.92</td>\n",
       "      <td>0.18</td>\n",
       "    </tr>\n",
       "    <tr>\n",
       "      <th>859603</th>\n",
       "      <td>2020-06-10</td>\n",
       "      <td>SE</td>\n",
       "      <td>Indiaroba</td>\n",
       "      <td>city</td>\n",
       "      <td>22</td>\n",
       "      <td>2</td>\n",
       "      <td>53</td>\n",
       "      <td>False</td>\n",
       "      <td>18149.00</td>\n",
       "      <td>2802809.00</td>\n",
       "      <td>121.22</td>\n",
       "      <td>0.09</td>\n",
       "    </tr>\n",
       "    <tr>\n",
       "      <th>403566</th>\n",
       "      <td>2020-10-26</td>\n",
       "      <td>MG</td>\n",
       "      <td>Braúnas</td>\n",
       "      <td>city</td>\n",
       "      <td>17</td>\n",
       "      <td>2</td>\n",
       "      <td>148</td>\n",
       "      <td>False</td>\n",
       "      <td>4769.00</td>\n",
       "      <td>3108800.00</td>\n",
       "      <td>356.47</td>\n",
       "      <td>0.12</td>\n",
       "    </tr>\n",
       "    <tr>\n",
       "      <th>139645</th>\n",
       "      <td>2020-06-26</td>\n",
       "      <td>GO</td>\n",
       "      <td>Rianápolis</td>\n",
       "      <td>city</td>\n",
       "      <td>1</td>\n",
       "      <td>0</td>\n",
       "      <td>38</td>\n",
       "      <td>False</td>\n",
       "      <td>4817.00</td>\n",
       "      <td>5218706.00</td>\n",
       "      <td>20.76</td>\n",
       "      <td>0.00</td>\n",
       "    </tr>\n",
       "  </tbody>\n",
       "</table>\n",
       "</div>"
      ],
      "text/plain": [
       "             date state              city place_type  confirmed  deaths  \\\n",
       "994249 2020-06-17    SP         Guararema       city         96      10   \n",
       "807094 2020-08-08    RS  Mariana Pimentel       city         11       2   \n",
       "859603 2020-06-10    SE         Indiaroba       city         22       2   \n",
       "403566 2020-10-26    MG           Braúnas       city         17       2   \n",
       "139645 2020-06-26    GO        Rianápolis       city          1       0   \n",
       "\n",
       "        order_for_place  is_last  estimated_population  city_ibge_code  \\\n",
       "994249               71    False              30136.00      3518305.00   \n",
       "807094               59    False               3888.00      4311981.00   \n",
       "859603               53    False              18149.00      2802809.00   \n",
       "403566              148    False               4769.00      3108800.00   \n",
       "139645               38    False               4817.00      5218706.00   \n",
       "\n",
       "        confirmed_per_100k_inhabitants  death_rate  \n",
       "994249                          318.56        0.10  \n",
       "807094                          282.92        0.18  \n",
       "859603                          121.22        0.09  \n",
       "403566                          356.47        0.12  \n",
       "139645                           20.76        0.00  "
      ]
     },
     "execution_count": 11,
     "metadata": {},
     "output_type": "execute_result"
    }
   ],
   "source": [
    "# vamos filtrar as linhas onde a coluna city não é nula e atribuí-la a variável df_cidade\n",
    "df_cidade = df[df['city'].notnull()]\n",
    "# uma amostra aleatório de 5 linhas\n",
    "df_cidade.sample(5)"
   ]
  },
  {
   "cell_type": "markdown",
   "metadata": {},
   "source": [
    "<br>\n",
    "\n",
    "Para provar que **df_cidade** traz somente dados das cidades vamos checar os valores únicos da coluna **place_type**"
   ]
  },
  {
   "cell_type": "code",
   "execution_count": 12,
   "metadata": {},
   "outputs": [
    {
     "name": "stdout",
     "output_type": "stream",
     "text": [
      "O unico valor presente na coluna place_type é --> 'city'\n"
     ]
    }
   ],
   "source": [
    "print(f\"O unico valor presente na coluna place_type é --> '{df_cidade['place_type'].unique()[0]}'\")"
   ]
  },
  {
   "cell_type": "code",
   "execution_count": 13,
   "metadata": {},
   "outputs": [],
   "source": [
    "# excluindo a coluna place_type já que a mesma não faz mais sentido nesse dataframe\n",
    "# tentei remover a coluna com drop, mas estava dando aviso de 'Setting copy with error'\n",
    "# da maneira executada abaixo, parecido com dicionario, nao gerou alerta\n",
    "del df_cidade['place_type']"
   ]
  },
  {
   "cell_type": "markdown",
   "metadata": {},
   "source": [
    "Vamos identificar se sobrou valor nulo em algumas das colunas de **df_cidade**"
   ]
  },
  {
   "cell_type": "code",
   "execution_count": 14,
   "metadata": {},
   "outputs": [
    {
     "data": {
      "text/plain": [
       "date                                  0\n",
       "state                                 0\n",
       "city                                  0\n",
       "confirmed                             0\n",
       "deaths                                0\n",
       "order_for_place                       0\n",
       "is_last                               0\n",
       "estimated_population                  0\n",
       "city_ibge_code                        0\n",
       "confirmed_per_100k_inhabitants    13656\n",
       "death_rate                            0\n",
       "dtype: int64"
      ]
     },
     "execution_count": 14,
     "metadata": {},
     "output_type": "execute_result"
    }
   ],
   "source": [
    "df_cidade.isna().sum()"
   ]
  },
  {
   "cell_type": "markdown",
   "metadata": {},
   "source": [
    "<br>\n",
    "\n",
    ">Segundo documentação, a coluna **confirmed_per_100k_inhabitants** é calculada dividindo o número de casos confirmados por 100.000 (baseado em estimated_population). A nossa hipótese é que quando a coluna de casos confirmados for igual a 0 o resultado será um NaN. \n",
    "\n",
    ">Confirmando a hipótese, vamos consertar isso substituindo valores nulos pelo número 0, já que não houve morte.\n",
    "Usaremos o método fillna()"
   ]
  },
  {
   "cell_type": "markdown",
   "metadata": {},
   "source": [
    "<br>\n",
    "\n",
    "- Primeiro criamos um df onde todos valores de 'confirmado por 100K' são nulos\n",
    "- Depois confirmamos que o único valor da coluna casos cofirmados é 0\n",
    "- Esse procedimento é útil para termos certeza da nossa hipótese"
   ]
  },
  {
   "cell_type": "code",
   "execution_count": 15,
   "metadata": {},
   "outputs": [
    {
     "data": {
      "text/plain": [
       "array([0], dtype=int64)"
      ]
     },
     "execution_count": 15,
     "metadata": {},
     "output_type": "execute_result"
    }
   ],
   "source": [
    "confirmado_por_100k = df_cidade[df_cidade['confirmed_per_100k_inhabitants'].isna()]\n",
    "confirmado_por_100k['confirmed'].unique()"
   ]
  },
  {
   "cell_type": "markdown",
   "metadata": {},
   "source": [
    "<br>\n",
    "Usando o metodo fillna()"
   ]
  },
  {
   "cell_type": "code",
   "execution_count": 16,
   "metadata": {},
   "outputs": [],
   "source": [
    "df_cidade['confirmed_per_100k_inhabitants'].fillna(0, inplace=True)"
   ]
  },
  {
   "cell_type": "markdown",
   "metadata": {},
   "source": [
    "<br>\n",
    "\n",
    "Se formos buscar os valores nulos novamente veremos que df_cidade está tudo em ordem"
   ]
  },
  {
   "cell_type": "code",
   "execution_count": 17,
   "metadata": {},
   "outputs": [
    {
     "data": {
      "text/plain": [
       "date                              0\n",
       "state                             0\n",
       "city                              0\n",
       "confirmed                         0\n",
       "deaths                            0\n",
       "order_for_place                   0\n",
       "is_last                           0\n",
       "estimated_population              0\n",
       "city_ibge_code                    0\n",
       "confirmed_per_100k_inhabitants    0\n",
       "death_rate                        0\n",
       "dtype: int64"
      ]
     },
     "execution_count": 17,
     "metadata": {},
     "output_type": "execute_result"
    }
   ],
   "source": [
    "df_cidade.isna().sum()"
   ]
  },
  {
   "cell_type": "code",
   "execution_count": 18,
   "metadata": {},
   "outputs": [
    {
     "name": "stdout",
     "output_type": "stream",
     "text": [
      "<class 'pandas.core.frame.DataFrame'>\n",
      "Int64Index: 1072169 entries, 255 to 1083414\n",
      "Data columns (total 11 columns):\n",
      " #   Column                          Non-Null Count    Dtype         \n",
      "---  ------                          --------------    -----         \n",
      " 0   date                            1072169 non-null  datetime64[ns]\n",
      " 1   state                           1072169 non-null  object        \n",
      " 2   city                            1072169 non-null  object        \n",
      " 3   confirmed                       1072169 non-null  int64         \n",
      " 4   deaths                          1072169 non-null  int64         \n",
      " 5   order_for_place                 1072169 non-null  int64         \n",
      " 6   is_last                         1072169 non-null  bool          \n",
      " 7   estimated_population            1072169 non-null  float64       \n",
      " 8   city_ibge_code                  1072169 non-null  float64       \n",
      " 9   confirmed_per_100k_inhabitants  1072169 non-null  float64       \n",
      " 10  death_rate                      1072169 non-null  float64       \n",
      "dtypes: bool(1), datetime64[ns](1), float64(4), int64(3), object(2)\n",
      "memory usage: 91.0+ MB\n"
     ]
    }
   ],
   "source": [
    "df_cidade.info()"
   ]
  },
  {
   "cell_type": "markdown",
   "metadata": {},
   "source": [
    ">Todas colunas com o mesmo número de não-nulos\n",
    "\n",
    "<br>"
   ]
  },
  {
   "cell_type": "code",
   "execution_count": 19,
   "metadata": {},
   "outputs": [
    {
     "data": {
      "text/plain": [
       "False    1072169\n",
       "dtype: int64"
      ]
     },
     "execution_count": 19,
     "metadata": {},
     "output_type": "execute_result"
    }
   ],
   "source": [
    "# checando duplicidade\n",
    "# nenhuma ocorrencia de valores duplicados\n",
    "df_cidade.duplicated().value_counts()"
   ]
  },
  {
   "cell_type": "markdown",
   "metadata": {},
   "source": [
    "<br>\n",
    "\n",
    "Criando a nova coluna de região"
   ]
  },
  {
   "cell_type": "code",
   "execution_count": 20,
   "metadata": {},
   "outputs": [],
   "source": [
    "regiao = {'AC':'Norte', 'AM':'Norte', 'RR':'Norte', 'RO':'Norte', 'AP':'Norte', 'PA':'Norte', 'TO':'Norte',\n",
    "          'MA':'Nordeste', 'PI':'Nordeste', 'CE':'Nordeste', 'RN':'Nordeste', 'PB':'Nordeste', 'PE':'Nordeste',\n",
    "         'AL':'Nordeste', 'SE':'Nordeste', 'BA':'Nordeste', 'MG':'Sudeste', 'ES':'Sudeste', 'RJ':'Sudeste',\n",
    "         'SP':'Sudeste', 'PR':'Sul', 'SC':'Sul', 'RS':'Sul', 'MS':'Centro-Oeste', 'GO':'Centro-Oeste', \n",
    "         'MT':'Centro-Oeste', 'DF':'Centro-Oeste'}"
   ]
  },
  {
   "cell_type": "code",
   "execution_count": 21,
   "metadata": {},
   "outputs": [],
   "source": [
    "df_cidade['region'] = df_cidade['state'].map(regiao)"
   ]
  },
  {
   "cell_type": "markdown",
   "metadata": {},
   "source": [
    "<br>\n",
    "\n",
    "Considerando que o indicador 'is_last' traz as informações mais recentes sobre numero de mortes e casos confirmados, vamos criar um dataframe com esses dados. \n",
    "<br>\n",
    "\n",
    "Sera útil para fazermos comparações entre as cidades."
   ]
  },
  {
   "cell_type": "code",
   "execution_count": 22,
   "metadata": {},
   "outputs": [],
   "source": [
    "# df considerando o ultimo boletim por cidade\n",
    "df_cidade_last = df_cidade[df_cidade['is_last']==True]"
   ]
  },
  {
   "cell_type": "code",
   "execution_count": 23,
   "metadata": {},
   "outputs": [],
   "source": [
    "# vamos separar cada cidade do nordeste em dataframes diferentes\n",
    "# sera util para fazermos comparações regionais\n",
    "cidades_ba = df_cidade[df_cidade['state']=='BA']\n",
    "cidades_se = df_cidade[df_cidade['state']=='SE']\n",
    "cidades_al = df_cidade[df_cidade['state']=='AL']\n",
    "cidades_pe = df_cidade[df_cidade['state']=='PE']\n",
    "cidades_pb = df_cidade[df_cidade['state']=='PB']\n",
    "cidades_rn = df_cidade[df_cidade['state']=='RN']\n",
    "cidades_ce = df_cidade[df_cidade['state']=='CE']\n",
    "cidades_pi = df_cidade[df_cidade['state']=='PI']\n",
    "cidades_ma = df_cidade[df_cidade['state']=='MA']"
   ]
  },
  {
   "cell_type": "code",
   "execution_count": 24,
   "metadata": {},
   "outputs": [],
   "source": [
    "# separando somente cidades do Nordeste\n",
    "ne = df_cidade[df_cidade['region']=='Nordeste']"
   ]
  },
  {
   "cell_type": "code",
   "execution_count": 25,
   "metadata": {},
   "outputs": [],
   "source": [
    "# criando dataframe da regiao nordeste, mas excluindo o estado da Bahia\n",
    "# sera util para comparações de estatísticas do restante do nordeste com a realidade na Bahia\n",
    "ne_sem_ba = ne[ne['state']!='BA']\n",
    "ne_grupo = ne_sem_ba[ne_sem_ba['is_last']==True].groupby('city').sum()\n",
    "n = ne_grupo['confirmed_per_100k_inhabitants'].mean()"
   ]
  },
  {
   "cell_type": "markdown",
   "metadata": {},
   "source": [
    "dados prontos para serem explorados.... :)"
   ]
  },
  {
   "cell_type": "markdown",
   "metadata": {},
   "source": [
    "## <center>Gimme the Data...</center>"
   ]
  },
  {
   "cell_type": "code",
   "execution_count": 26,
   "metadata": {},
   "outputs": [],
   "source": [
    "from IPython.display import Image"
   ]
  },
  {
   "cell_type": "code",
   "execution_count": 27,
   "metadata": {},
   "outputs": [
    {
     "data": {
      "text/html": [
       "<img src=\"https://media.giphy.com/media/4FQMuOKR6zQRO/giphy.gif\"/>"
      ],
      "text/plain": [
       "<IPython.core.display.Image object>"
      ]
     },
     "execution_count": 27,
     "metadata": {},
     "output_type": "execute_result"
    }
   ],
   "source": [
    "Image(url=\"https://media.giphy.com/media/4FQMuOKR6zQRO/giphy.gif\")"
   ]
  },
  {
   "cell_type": "markdown",
   "metadata": {},
   "source": [
    "<br>\n",
    "\n",
    "## Análise Exploratória dos Dados"
   ]
  },
  {
   "cell_type": "markdown",
   "metadata": {},
   "source": [
    "### Regiões do Brasil"
   ]
  },
  {
   "cell_type": "markdown",
   "metadata": {},
   "source": [
    "Começaremos pelo comparativo entre as regiões do Brasil. Faremos aqui uma comparação rápida com o intuito de situar o Nordeste brasileiro diante o cenário nacional da pandemia. Nesta análise serão utilizados 3 indicadores básicos:\n",
    "1. Confirmados por 100 mil\n",
    "2. Óbitos por 100 mil\n",
    "3. Taxa de mortalidade"
   ]
  },
  {
   "cell_type": "code",
   "execution_count": 30,
   "metadata": {},
   "outputs": [
    {
     "data": {
      "text/html": [
       "<div>\n",
       "<style scoped>\n",
       "    .dataframe tbody tr th:only-of-type {\n",
       "        vertical-align: middle;\n",
       "    }\n",
       "\n",
       "    .dataframe tbody tr th {\n",
       "        vertical-align: top;\n",
       "    }\n",
       "\n",
       "    .dataframe thead th {\n",
       "        text-align: right;\n",
       "    }\n",
       "</style>\n",
       "<table border=\"1\" class=\"dataframe\">\n",
       "  <thead>\n",
       "    <tr style=\"text-align: right;\">\n",
       "      <th></th>\n",
       "      <th>confirmed</th>\n",
       "      <th>deaths</th>\n",
       "      <th>estimated_population</th>\n",
       "      <th>confirmed_per_100k</th>\n",
       "      <th>deaths_per_100k</th>\n",
       "      <th>death_rate</th>\n",
       "    </tr>\n",
       "    <tr>\n",
       "      <th>region</th>\n",
       "      <th></th>\n",
       "      <th></th>\n",
       "      <th></th>\n",
       "      <th></th>\n",
       "      <th></th>\n",
       "      <th></th>\n",
       "    </tr>\n",
       "  </thead>\n",
       "  <tbody>\n",
       "    <tr>\n",
       "      <th>Centro-Oeste</th>\n",
       "      <td>748900</td>\n",
       "      <td>15963</td>\n",
       "      <td>16504303.00</td>\n",
       "      <td>4537.60</td>\n",
       "      <td>96.72</td>\n",
       "      <td>2.13</td>\n",
       "    </tr>\n",
       "    <tr>\n",
       "      <th>Nordeste</th>\n",
       "      <td>1640278</td>\n",
       "      <td>44633</td>\n",
       "      <td>57374243.00</td>\n",
       "      <td>2858.91</td>\n",
       "      <td>77.79</td>\n",
       "      <td>2.72</td>\n",
       "    </tr>\n",
       "    <tr>\n",
       "      <th>Norte</th>\n",
       "      <td>777724</td>\n",
       "      <td>16895</td>\n",
       "      <td>18672591.00</td>\n",
       "      <td>4165.06</td>\n",
       "      <td>90.48</td>\n",
       "      <td>2.17</td>\n",
       "    </tr>\n",
       "    <tr>\n",
       "      <th>Sudeste</th>\n",
       "      <td>2231569</td>\n",
       "      <td>79488</td>\n",
       "      <td>89011083.00</td>\n",
       "      <td>2507.07</td>\n",
       "      <td>89.30</td>\n",
       "      <td>3.56</td>\n",
       "    </tr>\n",
       "    <tr>\n",
       "      <th>Sul</th>\n",
       "      <td>978549</td>\n",
       "      <td>16897</td>\n",
       "      <td>30192315.00</td>\n",
       "      <td>3241.05</td>\n",
       "      <td>55.96</td>\n",
       "      <td>1.73</td>\n",
       "    </tr>\n",
       "  </tbody>\n",
       "</table>\n",
       "</div>"
      ],
      "text/plain": [
       "              confirmed  deaths  estimated_population  confirmed_per_100k  \\\n",
       "region                                                                      \n",
       "Centro-Oeste     748900   15963           16504303.00             4537.60   \n",
       "Nordeste        1640278   44633           57374243.00             2858.91   \n",
       "Norte            777724   16895           18672591.00             4165.06   \n",
       "Sudeste         2231569   79488           89011083.00             2507.07   \n",
       "Sul              978549   16897           30192315.00             3241.05   \n",
       "\n",
       "              deaths_per_100k  death_rate  \n",
       "region                                     \n",
       "Centro-Oeste            96.72        2.13  \n",
       "Nordeste                77.79        2.72  \n",
       "Norte                   90.48        2.17  \n",
       "Sudeste                 89.30        3.56  \n",
       "Sul                     55.96        1.73  "
      ]
     },
     "execution_count": 30,
     "metadata": {},
     "output_type": "execute_result"
    }
   ],
   "source": [
    "regioes = df_cidade[df_cidade['is_last']==True].groupby('region').sum()[['confirmed', 'deaths', 'estimated_population']]\n",
    "regioes['confirmed_per_100k'] = regioes['confirmed']/(regioes['estimated_population']/100000)\n",
    "regioes['deaths_per_100k'] = regioes['deaths']/(regioes['estimated_population']/100000)\n",
    "regioes['death_rate'] = (regioes['deaths']/regioes['confirmed'])*100\n",
    "regioes"
   ]
  },
  {
   "cell_type": "markdown",
   "metadata": {},
   "source": [
    "#### Como está a situação do Nordeste comparando com as outras regiões do Brasil?"
   ]
  },
  {
   "cell_type": "markdown",
   "metadata": {},
   "source": [
    "Para responder esta questão vamos fazer o comparativo no número de confirmados e de óbitos. Foi feita a análise por 100 mil habitantes. Dessa forma, obtemos uma análise fiel que observe as diferenças no número de habitantes de cada região, considerando as devidas proporções.  "
   ]
  },
  {
   "cell_type": "code",
   "execution_count": 35,
   "metadata": {
    "scrolled": false
   },
   "outputs": [
    {
     "data": {
      "image/png": "[encoded data removed]",
      "text/plain": [
       "<Figure size 1008x576 with 2 Axes>"
      ]
     },
     "metadata": {
      "needs_background": "light"
     },
     "output_type": "display_data"
    }
   ],
   "source": [
    "# dispondo as regiões do forma decrescente por ordem de confirmados cada 100 mil\n",
    "regioes_confirmadopor100k_ordem = regioes.sort_values('confirmed_per_100k', ascending=False)\n",
    "# dispondo as regiões do forma decrescente por ordem de óbitos cada 100 mil\n",
    "regioes_obitopor100k_ordem = regioes.sort_values('deaths_per_100k', ascending=False)\n",
    "\n",
    "# construindo os gráficos\n",
    "fig, ax = plt.subplots(2, figsize=(14,8), tight_layout=True)\n",
    "\n",
    "ax[0].bar(regioes_confirmadopor100k_ordem.index, regioes_confirmadopor100k_ordem['confirmed_per_100k'])\n",
    "ax[0].set_title('Confirmados cada 100 mil habitantes', fontsize=18)\n",
    "\n",
    "ax[1].bar(regioes_obitopor100k_ordem.index, regioes_obitopor100k_ordem['deaths_per_100k'])\n",
    "ax[1].set_title('Óbitos cada 100 mil habitantes', fontsize=18);"
   ]
  },
  {
   "cell_type": "markdown",
   "metadata": {},
   "source": [
    "Apesar de em números absolutos a região Nordeste figurar em segundo lugar para casos confirmados e óbitos, a região mostra-se como uma das menos afetadas quando na proporção por 100 mil habitantes. \n",
    "<br>\n",
    "\n",
    "O contrário é verdadeiro para as regiões Norte e Centro-Oeste, que figuram nas 2 últimas posições respectivamente em números absolutos, mas revelam uma situação preocupante quando considerados casos e óbitos por 100 mil habitantes. \n",
    "<br>\n",
    "\n",
    "**Taxa de Mortalidade**\n",
    "<br>\n",
    "\n",
    "Mas, será que no índice de mortalidade esse quadro continua o mesmo? A taxa de mortalidade é calculada dividindo o número de óbitos pelo número de casos confirmados. É um indicador interessante, pois reflete na estrutura de saúde e atendimento de uma região. Ou seja, se mais pessoas morrem pode ser explicado pelo fato de a rede hospitalar da região não estar adequada para atender à demanda.\n",
    "\n",
    "<br>"
   ]
  },
  {
   "cell_type": "code",
   "execution_count": 57,
   "metadata": {},
   "outputs": [
    {
     "data": {
      "image/png": "[encoded data removed]",
      "text/plain": [
       "<Figure size 720x576 with 1 Axes>"
      ]
     },
     "metadata": {
      "needs_background": "light"
     },
     "output_type": "display_data"
    }
   ],
   "source": [
    "plt.figure(figsize=(10,8))\n",
    "regioes.sort_values('death_rate')['death_rate'].plot(kind='barh')\n",
    "plt.title('Regiões do Brasil\\nTaxa de Mortalidade', fontsize=18)\n",
    "plt.ylabel('região', fontweight='bold')\n",
    "plt.xlabel('%', fontweight='bold');"
   ]
  },
  {
   "cell_type": "markdown",
   "metadata": {},
   "source": [
    "No gráfico em barras horizontais acima vemos que o Nordeste é a segunda região com maior taxa de mortalidade. Isso pode ser interpretado como a região não está com a estrutura ideal para dar conta do número de casos confirmados. Para ilustrar, a região Sul tem número maior que o Nordeste em casos confirmados por 100 mil. No entanto, apresenta a menor taxa de mortalidade do país. \n",
    "<br>\n",
    "\n",
    "Devido ao fato de ser uma doença ainda sem cura, o atendimento médico-hospitalar imediato nas primeiras fases é a principal arma contra os efeitos da COVID-19 no pacientes, significando a diferença entre a vida e a morte."
   ]
  },
  {
   "cell_type": "markdown",
   "metadata": {},
   "source": [
    "### Estados do Nordeste"
   ]
  },
  {
   "cell_type": "markdown",
   "metadata": {},
   "source": []
  },
  {
   "cell_type": "code",
   "execution_count": null,
   "metadata": {},
   "outputs": [],
   "source": [
    "ne_grupo = ne[ne['is_last']==True].groupby('state').sum()[['confirmed', 'deaths', 'estimated_population']]\n",
    "ne_grupo['confirmed_per_100k'] = ne_grupo['confirmed']/(ne_grupo['estimated_population']/100000)\n",
    "ne_grupo['deaths_per_100k'] = ne_grupo['deaths']/(ne_grupo['estimated_population']/100000)\n",
    "ne_grupo['death_rate'] = (ne_grupo['deaths']/ne_grupo['confirmed'])*100\n",
    "ne_grupo"
   ]
  },
  {
   "cell_type": "code",
   "execution_count": null,
   "metadata": {},
   "outputs": [],
   "source": [
    "ordem_confirmado_por100k = ne_grupo.sort_values('confirmed_per_100k', ascending=False)\n",
    "ordem_obito_por100k = ne_grupo.sort_values('deaths_per_100k', ascending=False)\n",
    "\n",
    "fig, ax = plt.subplots(2, figsize=(14,8), tight_layout=True)\n",
    "\n",
    "ax[0].bar(ordem_confirmado_por100k.index, ordem_confirmado_por100k['confirmed_per_100k'])\n",
    "ax[0].set_title('Confirmados cada 100k habitantes')\n",
    "\n",
    "ax[1].bar(ordem_obito_por100k.index, ordem_obito_por100k['deaths_per_100k'])\n",
    "ax[1].set_title('Óbitos cada 100k habitantes');"
   ]
  },
  {
   "cell_type": "code",
   "execution_count": null,
   "metadata": {},
   "outputs": [],
   "source": [
    "# agora vamos comparar a taxa de mortalidade por estado\n",
    "ne_grupo.sort_values('death_rate', ascending=False)['death_rate'].plot(kind='bar', figsize=(14,6))\n",
    "plt.title('Covid no Nordeste\\nComparativo de Taxa de Mortalidade por Estado')\n",
    "plt.xlabel('Estados')\n",
    "plt.ylabel('%');"
   ]
  },
  {
   "cell_type": "code",
   "execution_count": null,
   "metadata": {},
   "outputs": [],
   "source": [
    "Vamos pegar a Bahia mais 4 estados criticos e acompanhar a evolucao da pandemia desde o inicio"
   ]
  },
  {
   "cell_type": "code",
   "execution_count": null,
   "metadata": {},
   "outputs": [],
   "source": [
    "cidades_ba[cidades_ba['is_last']==True]['death_rate'].sum()"
   ]
  },
  {
   "cell_type": "code",
   "execution_count": null,
   "metadata": {},
   "outputs": [],
   "source": [
    "cidades_ba.groupby('date').sum()['deaths'].plot(figsize=(10,8), label='Bahia')\n",
    "cidades_ce.groupby('date').sum()['deaths'].plot(figsize=(10,8), label='Ceara')\n",
    "plt.legend();"
   ]
  },
  {
   "cell_type": "code",
   "execution_count": null,
   "metadata": {},
   "outputs": [],
   "source": [
    "cidades_ba_gdata = cidades_ba.groupby('date').sum().diff()[['confirmed', 'deaths']]\n",
    "ne_sem_ba_gdata = ne_sem_ba.groupby('date').sum().diff()[['confirmed', 'deaths']]\n",
    "ne_sem_ba_gdata"
   ]
  },
  {
   "cell_type": "code",
   "execution_count": null,
   "metadata": {},
   "outputs": [],
   "source": [
    "ne_sem_ba.groupby('date').sum()['confirmed'].plot()"
   ]
  },
  {
   "cell_type": "code",
   "execution_count": null,
   "metadata": {},
   "outputs": [],
   "source": [
    "\n",
    "sns.lineplot(data=cau, x=cau['date'], y=cidades_ba_gdata['confirmed'])\n",
    "\n",
    "sns.lineplot(data=ne_sem_ba_gdata, x=ne_sem_ba_gdata.index, y=ne_sem_ba_gdata['confirmed'])"
   ]
  },
  {
   "cell_type": "code",
   "execution_count": null,
   "metadata": {},
   "outputs": [],
   "source": []
  },
  {
   "cell_type": "code",
   "execution_count": null,
   "metadata": {},
   "outputs": [],
   "source": []
  },
  {
   "cell_type": "code",
   "execution_count": null,
   "metadata": {},
   "outputs": [],
   "source": []
  },
  {
   "cell_type": "code",
   "execution_count": null,
   "metadata": {},
   "outputs": [],
   "source": [
    "cidades_ba_gr_data = cidades_ba.groupby('city').sum() "
   ]
  },
  {
   "cell_type": "code",
   "execution_count": null,
   "metadata": {},
   "outputs": [],
   "source": [
    "cidades_ba_gr_data"
   ]
  },
  {
   "cell_type": "code",
   "execution_count": null,
   "metadata": {},
   "outputs": [],
   "source": []
  },
  {
   "cell_type": "code",
   "execution_count": null,
   "metadata": {},
   "outputs": [],
   "source": []
  },
  {
   "cell_type": "code",
   "execution_count": null,
   "metadata": {
    "scrolled": false
   },
   "outputs": [],
   "source": [
    "ba = cidades_ba.groupby('date').sum().diff()\n",
    "pe = cidades_pe.groupby('date').sum().diff()\n",
    "ce = cidades_ce.groupby('date').sum().diff()\n",
    "nee = ne_sem_ba.groupby('date').sum().diff()"
   ]
  },
  {
   "cell_type": "code",
   "execution_count": null,
   "metadata": {},
   "outputs": [],
   "source": [
    "ba"
   ]
  },
  {
   "cell_type": "code",
   "execution_count": null,
   "metadata": {},
   "outputs": [],
   "source": [
    "# vamos agrupar por data para facilitar em alguns calculos\n",
    "cidades_ba_group = cidades_ba.groupby('date').sum()\n",
    "\n",
    "# criando colunas com novas mortes e novos óbitos por dia\n",
    "cidades_ba_group['new_confirmed'] = cidades_ba_group['confirmed'].diff()\n",
    "cidades_ba_group['new_deaths'] = cidades_ba_group['deaths'].diff()"
   ]
  },
  {
   "cell_type": "code",
   "execution_count": null,
   "metadata": {},
   "outputs": [],
   "source": [
    "cidades_ba_group.drop(['order_for_place', 'is_last', 'estimated_population',\n",
    "                      'city_ibge_code'], axis=1, inplace=True)"
   ]
  },
  {
   "cell_type": "code",
   "execution_count": null,
   "metadata": {},
   "outputs": [],
   "source": [
    "# criando a coluna de media movel para casos confirmados e mortes\n",
    "\n",
    "cidades_ba_group['mv_confirmed'] = cidades_ba_group['new_confirmed'].rolling(7).mean()\n",
    "cidades_ba_group['mv_deaths'] = cidades_ba_group['new_deaths'].rolling(7).mean()\n",
    "cidades_ba_group.head(8)"
   ]
  },
  {
   "cell_type": "markdown",
   "metadata": {},
   "source": [
    "### Médias móveis"
   ]
  },
  {
   "cell_type": "code",
   "execution_count": null,
   "metadata": {},
   "outputs": [],
   "source": [
    "fig, ax = plt.subplots(2,figsize=(12,6), tight_layout=True, sharex=True)\n",
    "\n",
    "ax[0].plot(cidades_ba_group['mv_confirmed'].index, cidades_ba_group['mv_confirmed'].values)\n",
    "ax[0].xaxis.set_major_locator(ticker.IndexLocator(base=7, offset=0))\n",
    "ax[0].set_ylabel('Confirmados')\n",
    "\n",
    "ax[1].plot(cidades_ba_group['mv_deaths'].index, cidades_ba_group['mv_deaths'].values)\n",
    "ax[1].xaxis.set_major_locator(ticker.IndexLocator(base=7, offset=0))\n",
    "ax[1].set_ylabel('Obitos')\n",
    "\n",
    "plt.xticks(rotation=90, fontsize=12)\n",
    "plt.suptitle('Covid na Bahia: média móvel semanal', fontsize=14);\n"
   ]
  },
  {
   "cell_type": "code",
   "execution_count": null,
   "metadata": {},
   "outputs": [],
   "source": [
    "micro_regioes = {'Barreiras':tuple(barreiras), 'Cotegipe':tuple(cotegipe), 'Sta Maria da Vitoria':tuple(sta_maria_vit),\n",
    "                'Juazeiro':tuple(juazeiro), 'Paulo Afonso':tuple(paulo_afonso), 'Barra':tuple(barra), 'B. Jesus da Lapa':tuple(bom_jesus_lapa),\n",
    "                'Senhor do Bonfim':tuple(senhor_bonfim), 'Irece':tuple(irece), 'Jacobina':tuple(jacobina), 'Itaberaba':tuple(itaberada), \n",
    "                'Feira de Santana':tuple(feira_santana), 'Jeremoabo':tuple(jeremoabo), 'Euclides da Cunha':tuple(euclides_cunha),\n",
    "                'Ribeira do Pombal':tuple(rib_pombal), 'Serrinha':tuple(serrinha), 'Alagoinhas':tuple(alagoinhas), 'Entre Rios':tuple(entre_rios),\n",
    "                'Catu':tuple(catu), 'Sto Ant de Jesus':tuple(sto_antonio), 'Salvador':tuple(salvador), 'Boquira':tuple(boquira), 'Seabra':tuple(seabra),\n",
    "                'Jequie':tuple(jequie), 'Livramento do Brumado':tuple(liv_brumado), 'Guanambi':tuple(guanambi), 'Brumado':tuple(brumado), \n",
    "                'Vit da Conquista':tuple(vit_conquista), 'Itapetinga':tuple(itapetinga), 'Valenca':tuple(valenca), 'Porto Seguro':tuple(porto_seguro),\n",
    "                'Ilheus-Itabuna':tuple(ios_itabuna)}"
   ]
  },
  {
   "cell_type": "code",
   "execution_count": null,
   "metadata": {},
   "outputs": [],
   "source": [
    "d = {}\n",
    "x = ''\n",
    "for i in cidades_ba['city'].unique():\n",
    "    for m in micro_regioes.keys():\n",
    "        if i in micro_regioes[m]:\n",
    "            d[i] = m\n",
    "        else:\n",
    "            x = 'Sem'"
   ]
  },
  {
   "cell_type": "code",
   "execution_count": null,
   "metadata": {},
   "outputs": [],
   "source": [
    "cidades_ba['micro_region'] = cidades_ba['city'].map(d)"
   ]
  },
  {
   "cell_type": "code",
   "execution_count": null,
   "metadata": {},
   "outputs": [],
   "source": [
    "cidades_ba[cidades_ba['micro_region'].isna()]['city'].unique()"
   ]
  },
  {
   "cell_type": "code",
   "execution_count": null,
   "metadata": {},
   "outputs": [],
   "source": [
    "cidades_ba.groupby('city').sum()['confirmed_per_100k_inhabitants'].mean()"
   ]
  },
  {
   "cell_type": "code",
   "execution_count": null,
   "metadata": {},
   "outputs": [],
   "source": [
    "micro_reg = cidades_ba[cidades_ba['is_last']==True].groupby('micro_region').sum()\n",
    "micro_reg['death_rate'] = micro_reg['deaths'] / micro_reg['confirmed']\n",
    "micro_reg['confirmed_per_100k_inhabitants'] = micro_reg['confirmed']/(micro_reg['estimated_population']/100000)\n",
    "micro_reg['confirmed_per_100k_inhabitants'].sort_values(ascending=False).plot(kind='bar', figsize=(10,8))\n",
    "plt.axhline(n, alpha=0.5, color='red')\n",
    "plt.xlabel('microrregião')\n",
    "plt.title('Casos confirmados por 100 mil habitantes', fontsize=14);"
   ]
  },
  {
   "cell_type": "code",
   "execution_count": null,
   "metadata": {},
   "outputs": [],
   "source": [
    "(cidades_ba[cidades_ba['is_last']==True]['deaths'].sum())/(cidades_ba[cidades_ba['is_last']==True]['estimated_population'].sum()/100000)"
   ]
  },
  {
   "cell_type": "code",
   "execution_count": null,
   "metadata": {},
   "outputs": [],
   "source": [
    "(micro_reg['death_rate']*100).sort_values(ascending=False).plot(kind='bar', figsize=(10,8));"
   ]
  },
  {
   "cell_type": "code",
   "execution_count": null,
   "metadata": {},
   "outputs": [],
   "source": [
    "(286862.00/100000)/7237"
   ]
  },
  {
   "cell_type": "code",
   "execution_count": null,
   "metadata": {},
   "outputs": [],
   "source": [
    "ax = (micro_reg['estimated_population']/1000000).sort_values(ascending=False).plot(kind='bar', figsize=(10,8))\n",
    "ax.yaxis.set_major_formatter(ticker.StrMethodFormatter('{x:,.2f} mi'))\n"
   ]
  },
  {
   "cell_type": "code",
   "execution_count": null,
   "metadata": {},
   "outputs": [],
   "source": [
    "micro_reg"
   ]
  },
  {
   "cell_type": "code",
   "execution_count": null,
   "metadata": {},
   "outputs": [],
   "source": [
    "ax = cidades_ba_group['new_deaths'].plot(figsize=(16,8))\n",
    "plt.title('Novas mortes por dia')\n",
    "ax.xaxis.set_major_locator(ticker.IndexLocator(base=7,offset=0))\n",
    "plt.xticks(rotation=90);"
   ]
  },
  {
   "cell_type": "code",
   "execution_count": null,
   "metadata": {},
   "outputs": [],
   "source": []
  },
  {
   "cell_type": "code",
   "execution_count": null,
   "metadata": {},
   "outputs": [],
   "source": [
    "cidades_ba.groupby('date').sum()"
   ]
  },
  {
   "cell_type": "code",
   "execution_count": null,
   "metadata": {},
   "outputs": [],
   "source": [
    "plt.plot(c.index, c['deaths'])"
   ]
  },
  {
   "cell_type": "code",
   "execution_count": null,
   "metadata": {},
   "outputs": [],
   "source": []
  },
  {
   "cell_type": "code",
   "execution_count": null,
   "metadata": {},
   "outputs": [],
   "source": [
    "contrato = pd.read_csv('deaths_brazil.csv')"
   ]
  },
  {
   "cell_type": "code",
   "execution_count": null,
   "metadata": {},
   "outputs": [],
   "source": [
    "contrato"
   ]
  },
  {
   "cell_type": "code",
   "execution_count": null,
   "metadata": {},
   "outputs": [],
   "source": []
  },
  {
   "cell_type": "markdown",
   "metadata": {},
   "source": [
    "## Estados"
   ]
  },
  {
   "cell_type": "code",
   "execution_count": null,
   "metadata": {},
   "outputs": [],
   "source": [
    "df_estados = df[df['place_type']=='state']\n",
    "df_estados.loc[df_estados['date'].apply(lambda x: x.month)==7]"
   ]
  },
  {
   "cell_type": "code",
   "execution_count": null,
   "metadata": {},
   "outputs": [],
   "source": [
    "d = pd.Timedelta(365,'D')"
   ]
  },
  {
   "cell_type": "code",
   "execution_count": null,
   "metadata": {},
   "outputs": [],
   "source": [
    "mortes = pd.read_csv('deaths_brazil.csv')\n",
    "#mortes.groupby(['year', 'month']).sum()['deaths'].loc[1970].pct_change(freq=2)\n",
    "mortes.head()"
   ]
  },
  {
   "cell_type": "code",
   "execution_count": null,
   "metadata": {},
   "outputs": [],
   "source": [
    "for i in np.arange(1970,2021):\n",
    "    mortes.groupby(['year', 'month']).sum()['deaths'].loc[i][2:8]\n",
    "    "
   ]
  },
  {
   "cell_type": "code",
   "execution_count": null,
   "metadata": {},
   "outputs": [],
   "source": [
    "pivot = pd.pivot_table(data=mortes,index='month', columns='year')[1:8].pct_change(axis=1)\n",
    "pivot = pivot[1:]\n",
    "pivot"
   ]
  },
  {
   "cell_type": "code",
   "execution_count": null,
   "metadata": {},
   "outputs": [],
   "source": [
    "pivot = pivot.T.loc['deaths']"
   ]
  },
  {
   "cell_type": "code",
   "execution_count": null,
   "metadata": {},
   "outputs": [],
   "source": [
    "pivot.columns"
   ]
  },
  {
   "cell_type": "code",
   "execution_count": null,
   "metadata": {
    "scrolled": false
   },
   "outputs": [],
   "source": [
    "plt.figure(figsize=(16,10))\n",
    "plt.plot(pivot)\n",
    "handles = pivot.columns\n",
    "plt.legend(handles);"
   ]
  },
  {
   "cell_type": "code",
   "execution_count": null,
   "metadata": {},
   "outputs": [],
   "source": [
    "prices = {\n",
    "'ACME': 45.23,\n",
    "'AAPL': 612.78,\n",
    "'IBM': 205.55,\n",
    "'HPQ': 37.20,\n",
    "'FB': 10.75\n",
    "}"
   ]
  },
  {
   "cell_type": "code",
   "execution_count": null,
   "metadata": {},
   "outputs": [],
   "source": [
    "p = {\n",
    "'ACME': 45.23,\n",
    "'AAPL': 612.78}"
   ]
  },
  {
   "cell_type": "code",
   "execution_count": null,
   "metadata": {},
   "outputs": [],
   "source": [
    "prices.keys()"
   ]
  },
  {
   "cell_type": "code",
   "execution_count": null,
   "metadata": {},
   "outputs": [],
   "source": [
    "pd.read_csv('Banco Estadual COVID-19 CONFIRMADOS_26-11-2020.csv', encoding='latin1', sep=';').iloc[0]"
   ]
  },
  {
   "cell_type": "code",
   "execution_count": null,
   "metadata": {},
   "outputs": [],
   "source": [
    "geo = {\n",
    "  \"type\": \"FeatureCollection\",\n",
    "  \"features\": [\n",
    "    {\n",
    "      \"type\": \"Feature\",\n",
    "      \"properties\": {\n",
    "        \"stroke\": \"#555555\",\n",
    "        \"stroke-width\": 2,\n",
    "        \"stroke-opacity\": 1,\n",
    "        \"fill\": \"#555555\",\n",
    "        \"fill-opacity\": 0.5,\n",
    "        \"bairro\": \"centro\"\n",
    "      },\n",
    "      \"geometry\": {\n",
    "        \"type\": \"Polygon\",\n",
    "        \"coordinates\": [\n",
    "          [\n",
    "            [\n",
    "              -39.59378242492675,\n",
    "              -14.865906408017787\n",
    "            ],\n",
    "            [\n",
    "              -39.59000587463379,\n",
    "              -14.868063301135761\n",
    "            ],\n",
    "            [\n",
    "              -39.58528518676758,\n",
    "              -14.866984857271085\n",
    "            ],\n",
    "            [\n",
    "              -39.58296775817871,\n",
    "              -14.862753986999232\n",
    "            ],\n",
    "            [\n",
    "              -39.585714340209954,\n",
    "              -14.861509597609741\n",
    "            ],\n",
    "            [\n",
    "              -39.59429740905762,\n",
    "              -14.861011839845801\n",
    "            ],\n",
    "            [\n",
    "              -39.59378242492675,\n",
    "              -14.865906408017787\n",
    "            ]\n",
    "          ]\n",
    "        ]\n",
    "      }\n",
    "    },\n",
    "    {\n",
    "      \"type\": \"Feature\",\n",
    "      \"properties\": {\n",
    "        \"stroke\": \"#555555\",\n",
    "        \"stroke-width\": 2,\n",
    "        \"stroke-opacity\": 1,\n",
    "        \"fill\": \"#555555\",\n",
    "        \"fill-opacity\": 0.5,\n",
    "        \"bairro\": \"bela vista\"\n",
    "      },\n",
    "      \"geometry\": {\n",
    "        \"type\": \"Polygon\",\n",
    "        \"coordinates\": [\n",
    "          [\n",
    "            [\n",
    "              -39.5851993560791,\n",
    "              -14.866735984844745\n",
    "            ],\n",
    "            [\n",
    "              -39.58245277404785,\n",
    "              -14.875114532038921\n",
    "            ],\n",
    "            [\n",
    "              -39.57867622375488,\n",
    "              -14.875031577720888\n",
    "            ],\n",
    "            [\n",
    "              -39.57841873168945,\n",
    "              -14.87071790922756\n",
    "            ],\n",
    "            [\n",
    "              -39.58125114440918,\n",
    "              -14.867067814682768\n",
    "            ],\n",
    "            [\n",
    "              -39.58425521850586,\n",
    "              -14.865242744260641\n",
    "            ],\n",
    "            [\n",
    "              -39.5851993560791,\n",
    "              -14.866735984844745\n",
    "            ]\n",
    "          ]\n",
    "        ]\n",
    "      }\n",
    "    },\n",
    "    {\n",
    "      \"type\": \"Feature\",\n",
    "      \"properties\": {\n",
    "        \"stroke\": \"#555555\",\n",
    "        \"stroke-width\": 2,\n",
    "        \"stroke-opacity\": 1,\n",
    "        \"fill\": \"#555555\",\n",
    "        \"fill-opacity\": 0.5,\n",
    "        \"bairro\": \"duque\"\n",
    "      },\n",
    "      \"geometry\": {\n",
    "        \"type\": \"Polygon\",\n",
    "        \"coordinates\": [\n",
    "          [\n",
    "            [\n",
    "              -39.585371017456055,\n",
    "              -14.861260718871208\n",
    "            ],\n",
    "            [\n",
    "              -39.583139419555664,\n",
    "              -14.862339191332962\n",
    "            ],\n",
    "            [\n",
    "              -39.57721710205078,\n",
    "              -14.85702973642895\n",
    "            ],\n",
    "            [\n",
    "              -39.58004951477051,\n",
    "              -14.85669789116324\n",
    "            ],\n",
    "            [\n",
    "              -39.58545684814453,\n",
    "              -14.858274151634381\n",
    "            ],\n",
    "            [\n",
    "              -39.585371017456055,\n",
    "              -14.861260718871208\n",
    "            ]\n",
    "          ]\n",
    "        ]\n",
    "      }\n",
    "    },\n",
    "    {\n",
    "      \"type\": \"Feature\",\n",
    "      \"properties\": {\n",
    "        \"stroke\": \"#555555\",\n",
    "        \"stroke-width\": 2,\n",
    "        \"stroke-opacity\": 1,\n",
    "        \"fill\": \"#555555\",\n",
    "        \"fill-opacity\": 0.5,\n",
    "        \"bairro\": \"luxo\"\n",
    "      },\n",
    "      \"geometry\": {\n",
    "        \"type\": \"Polygon\",\n",
    "        \"coordinates\": [\n",
    "          [\n",
    "            [\n",
    "              -39.59901809692383,\n",
    "              -14.866238239131189\n",
    "            ],\n",
    "            [\n",
    "              -39.59901809692383,\n",
    "              -14.86856104264035\n",
    "            ],\n",
    "            [\n",
    "              -39.59524154663086,\n",
    "              -14.869556522205544\n",
    "            ],\n",
    "            [\n",
    "              -39.593095779418945,\n",
    "              -14.869141739611443\n",
    "            ],\n",
    "            [\n",
    "              -39.59077835083008,\n",
    "              -14.868146258132903\n",
    "            ],\n",
    "            [\n",
    "              -39.59421157836914,\n",
    "              -14.865823450159745\n",
    "            ],\n",
    "            [\n",
    "              -39.59901809692383,\n",
    "              -14.866238239131189\n",
    "            ]\n",
    "          ]\n",
    "        ]\n",
    "      }\n",
    "    },\n",
    "    {\n",
    "      \"type\": \"Feature\",\n",
    "      \"properties\": {\n",
    "        \"stroke\": \"#555555\",\n",
    "        \"stroke-width\": 2,\n",
    "        \"stroke-opacity\": 1,\n",
    "        \"fill\": \"#555555\",\n",
    "        \"fill-opacity\": 0.5,\n",
    "        \"bairro\": \"mutirao\"\n",
    "      },\n",
    "      \"geometry\": {\n",
    "        \"type\": \"Polygon\",\n",
    "        \"coordinates\": [\n",
    "          [\n",
    "            [\n",
    "              -39.595413208007805,\n",
    "              -14.856531968339201\n",
    "            ],\n",
    "            [\n",
    "              -39.59352493286133,\n",
    "              -14.857112697665709\n",
    "            ],\n",
    "            [\n",
    "              -39.59103584289551,\n",
    "              -14.857361581184808\n",
    "            ],\n",
    "            [\n",
    "              -39.58974838256836,\n",
    "              -14.85752750337154\n",
    "            ],\n",
    "            [\n",
    "              -39.588375091552734,\n",
    "              -14.855702352307098\n",
    "            ],\n",
    "            [\n",
    "              -39.588375091552734,\n",
    "              -14.854457922284608\n",
    "            ],\n",
    "            [\n",
    "              -39.590091705322266,\n",
    "              -14.853877185820782\n",
    "            ],\n",
    "            [\n",
    "              -39.59558486938476,\n",
    "              -14.8560341991023\n",
    "            ],\n",
    "            [\n",
    "              -39.595413208007805,\n",
    "              -14.856531968339201\n",
    "            ]\n",
    "          ]\n",
    "        ]\n",
    "      }\n",
    "    }\n",
    "  ]\n",
    "}"
   ]
  },
  {
   "cell_type": "code",
   "execution_count": null,
   "metadata": {},
   "outputs": [],
   "source": [
    "ibi = {'bairro':['centro', 'luxo', 'mutirao', 'bela vista', 'duque'], 'numero':[34, 56, 12, 78, 98]}\n",
    "i = pd.DataFrame(ibi, columns=['bairro', 'numero'])\n",
    "i"
   ]
  },
  {
   "cell_type": "code",
   "execution_count": null,
   "metadata": {},
   "outputs": [],
   "source": [
    "bahia = 'https://raw.githubusercontent.com/tbrugz/geodata-br/master/geojson/geojs-29-mun.json'"
   ]
  },
  {
   "cell_type": "code",
   "execution_count": null,
   "metadata": {},
   "outputs": [],
   "source": [
    "c = cidades_ba[cidades_ba['is_last']==True]"
   ]
  },
  {
   "cell_type": "code",
   "execution_count": null,
   "metadata": {},
   "outputs": [],
   "source": [
    "\n",
    "m = folium.Map(location=[-12.5797, -41.7007], zoom_start=7)\n",
    "folium.Choropleth(\n",
    "    geo_data=bahia,\n",
    "    data=c,\n",
    "    bins=[0, 3, 6, 9, 12, 15, 18, 23],\n",
    "    columns=['city', 'death_rate'],\n",
    "    key_on='feature.properties.name',\n",
    "    fill_color='Reds',\n",
    "    fill_opacity=0.7,\n",
    "    line_opacity=0.2,\n",
    "    legend_name='Populacao',\n",
    "    highlight=True\n",
    ").add_to(m)\n",
    "\n",
    "m"
   ]
  },
  {
   "cell_type": "code",
   "execution_count": null,
   "metadata": {},
   "outputs": [],
   "source": [
    "m.save(outfile='testScores.html')"
   ]
  },
  {
   "cell_type": "code",
   "execution_count": null,
   "metadata": {},
   "outputs": [],
   "source": [
    "c['estimated_population'] = c['estimated_population'].astype('float64')"
   ]
  },
  {
   "cell_type": "code",
   "execution_count": null,
   "metadata": {},
   "outputs": [],
   "source": [
    "c['city'].replace({'Iuiu':'Iuiú', 'Muquém do São Francisco':'Muquém de São Francisco', 'Araçás':'Araças'}, inplace=True)"
   ]
  },
  {
   "cell_type": "code",
   "execution_count": null,
   "metadata": {},
   "outputs": [],
   "source": [
    "c['death_rate']=c['death_rate']*100"
   ]
  },
  {
   "cell_type": "code",
   "execution_count": null,
   "metadata": {},
   "outputs": [],
   "source": [
    "ios = c[c['micro_region']=='Ilheus-Itabuna']"
   ]
  },
  {
   "cell_type": "code",
   "execution_count": null,
   "metadata": {},
   "outputs": [],
   "source": [
    "fig=Figure(width=500,height=350)\n",
    "m1 = folium.Map(location=[-12.5797, -41.7007], zoom_start=6)\n",
    "folium.Choropleth(\n",
    "    geo_data=bahia,\n",
    "    data=c,\n",
    "    bins=np.linspace(0,23, 10),\n",
    "    columns=['city', 'death_rate'],\n",
    "    key_on='feature.properties.name',\n",
    "    fill_color='BuPu',\n",
    "    fill_opacity=0.7,\n",
    "    line_opacity=0.2,\n",
    "    legend_name='Populacao',\n",
    "    highlight=True\n",
    ").add_to(m1)\n",
    "\n",
    "fig.add_child(m1)\n",
    "\n",
    "m1"
   ]
  },
  {
   "cell_type": "code",
   "execution_count": null,
   "metadata": {},
   "outputs": [],
   "source": []
  }
 ],
 "metadata": {
  "colab": {
   "include_colab_link": true,
   "name": "Projeto Módulo 01.ipynb",
   "provenance": []
  },
  "kernelspec": {
   "display_name": "Python 3",
   "language": "python",
   "name": "python3"
  },
  "language_info": {
   "codemirror_mode": {
    "name": "ipython",
    "version": 3
   },
   "file_extension": ".py",
   "mimetype": "text/x-python",
   "name": "python",
   "nbconvert_exporter": "python",
   "pygments_lexer": "ipython3",
   "version": "3.7.0"
  }
 },
 "nbformat": 4,
 "nbformat_minor": 1
}
