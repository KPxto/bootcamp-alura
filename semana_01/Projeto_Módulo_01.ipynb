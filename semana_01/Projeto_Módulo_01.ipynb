{
 "cells": [
  {
   "cell_type": "markdown",
   "metadata": {
    "colab_type": "text",
    "id": "view-in-github"
   },
   "source": [
    "<a href=\"https://colab.research.google.com/github/KPxto/bootcamp-alura/blob/master/Projeto_M%C3%B3dulo_01.ipynb\" target=\"_parent\"><img src=\"https://colab.research.google.com/assets/colab-badge.svg\" alt=\"Open In Colab\"/></a>"
   ]
  },
  {
   "cell_type": "markdown",
   "metadata": {},
   "source": [
    "# <center>COVID no estado da Bahia</center> \n",
    ">**Autor: Kaio Peixoto**\n",
    "\n",
    "- [Linkedin](https://www.linkedin.com/in/kaiopeixoto/)\n",
    "- [Github](https://github.com/KPxto)"
   ]
  },
  {
   "cell_type": "markdown",
   "metadata": {},
   "source": [
    "<br>\n",
    "\n",
    "Este notebook analisa os dados da COVID-19 disponibilizados pelo portal Brasil.io através deste [link](https://brasil.io/dataset/covid19/caso/). \n",
    "<br>\n",
    "\n",
    "Os dados são apresentados diariamente pelas secretarias estaduais e municipais de saúde e coletados/compilados pela equipe de voluntarios do Brasil.io.\n",
    "<br>\n",
    "\n",
    "Este estudo visa analisar especificamente a situação do estado da Bahia e suas microrregiões, ou, regiões intermediárias e imediatas. Segundo o wikipedia, as microrregiões *\"são agrupamentos de regiões imediatas que são articuladas através da influência de uma metrópole, capital regional ou centro urbano representativo dentro do conjunto\"*.\n",
    "\n",
    "Dentro de um mesmo estado podem existir realidades bem distintas entre as subdivisões. Para um estado de grandes proporções como a Bahia pode ser mais interessante analisarmos cada região dessa para que o governo estadual possa alocar recursos onde mais se precisa, atuando efetivamente contra os efeitos da pandemia.\n",
    "<br>\n",
    "\n",
    "O IBGE dividiu a Bahia em 32 regiões intermediárias e imediatas e nosso estudo vai se basear fazendo um comparativo entre as mesmas.\n",
    "\n"
   ]
  },
  {
   "cell_type": "markdown",
   "metadata": {
    "id": "RshO3GgDFGhB"
   },
   "source": [
    "## Resumo:\n",
    "\n",
    "Questões e hipóteses:"
   ]
  },
  {
   "cell_type": "markdown",
   "metadata": {
    "id": "BUHuWTjaFGMV"
   },
   "source": [
    "- Como a pandemia tem se comportado dentre as diferentes microrregiões da Bahia?\n",
    "- Quantos confirmados a cada 100 mil e qual a mortalidade da doença?\n",
    "- O índice de mortalidade está relacionado com o nível de gasto na saúde por região? **(verificar se tem dados para validar essa hipotese)**\n",
    "- Os maiores picos da doença ocorreram na mesma época em todas regiões ou em momentos diferentes?\n",
    "- Qual microrregião está mais preparada e menos preparada para uma possível segunda onda da doença?\n",
    "- Onde estão as cidades em que a doença foi mais controlada?\n",
    "- Como Salvador tem respondido à pandemia em relação às outras capitais do nordeste?\n",
    "- Tirar a media de cada regiao considerando somente as capitais e fazer um comparativo\n",
    "- Fazer uma distribuicao da população das cidades da Bahia cujo óbito por covid foi zero\n",
    "- Primeiro vamos comparar os numeros da Bahia com os dos outros estados do NE e tbm do Brasil\n",
    "- Calcular a media movel"
   ]
  },
  {
   "cell_type": "markdown",
   "metadata": {},
   "source": [
    "## Cidades e microrregiões\n",
    "\n",
    "De início, vamos logo organizar as subdivisões da Bahia em listas com suas respectivas cidades."
   ]
  },
  {
   "cell_type": "code",
   "execution_count": 1,
   "metadata": {},
   "outputs": [],
   "source": [
    "b='''Baianópolis\n",
    "Barreiras\n",
    "Catolândia\n",
    "Formosa do Rio Preto\n",
    "Luís Eduardo Magalhães\n",
    "Riachão das Neves\n",
    "São Desidério'''\n",
    "\n",
    "barreiras = b.split('\\n')\n",
    "\n",
    "c='''Angical\n",
    "Brejolândia\n",
    "Cotegipe\n",
    "Cristópolis\n",
    "Mansidão\n",
    "Santa Rita de Cássia\n",
    "Tabocas do Brejo Velho\n",
    "Wanderley'''\n",
    "\n",
    "cotegipe = c.split('\\n')\n",
    "\n",
    "smv='''Canápolis\n",
    "Cocos\n",
    "Coribe\n",
    "Correntina\n",
    "Jaborandi\n",
    "Santa Maria da Vitória\n",
    "Santana\n",
    "São Félix do Coribe\n",
    "Serra Dourada'''\n",
    "\n",
    "sta_maria_vit = smv.split('\\n')\n",
    "\n",
    "j='''Campo Alegre de Lourdes\n",
    "Casa Nova\n",
    "Curaçá\n",
    "Juazeiro\n",
    "Pilão Arcado\n",
    "Remanso\n",
    "Sento Sé\n",
    "Sobradinho'''\n",
    "\n",
    "juazeiro = j.split('\\n')\n",
    "\n",
    "pa='''Abaré\n",
    "Chorrochó\n",
    "Glória\n",
    "Macururé\n",
    "Paulo Afonso\n",
    "Rodelas'''\n",
    "\n",
    "paulo_afonso = pa.split('\\n')\n",
    "\n",
    "barra='''Barra\n",
    "Buritirama\n",
    "Ibotirama\n",
    "Itaguaçu da Bahia\n",
    "Morpará\n",
    "Muquém do São Francisco\n",
    "Xique-Xique'''\n",
    "\n",
    "barra = barra.split('\\n')\n",
    "\n",
    "bj='''Bom Jesus da Lapa\n",
    "Carinhanha\n",
    "Feira da Mata\n",
    "Paratinga\n",
    "Serra do Ramalho\n",
    "Sítio do Mato'''\n",
    "\n",
    "bom_jesus_lapa = bj.split('\\n')\n",
    "\n",
    "sdb='''Andorinha\n",
    "Antônio Gonçalves\n",
    "Campo Formoso\n",
    "Filadélfia\n",
    "Itiúba\n",
    "Jaguarari\n",
    "Pindobaçu\n",
    "Senhor do Bonfim\n",
    "Umburanas'''\n",
    "\n",
    "senhor_bonfim = sdb.split('\\n')\n",
    "\n",
    "ir='''América Dourada\n",
    "Barra do Mendes\n",
    "Barro Alto\n",
    "Cafarnaum\n",
    "Canarana\n",
    "Central\n",
    "Gentio do Ouro\n",
    "Ibipeba\n",
    "Ibititá\n",
    "Iraquara\n",
    "Irecê\n",
    "João Dourado\n",
    "Jussara\n",
    "Lapão\n",
    "Mulungu do Morro\n",
    "Presidente Dutra\n",
    "São Gabriel\n",
    "Souto Soares\n",
    "Uibaí'''\n",
    "\n",
    "irece = ir.split('\\n')\n",
    "\n",
    "jac='''Caém\n",
    "Caldeirão Grande\n",
    "Capim Grosso\n",
    "Jacobina\n",
    "Miguel Calmon\n",
    "Mirangaba\n",
    "Morro do Chapéu\n",
    "Ourolândia\n",
    "Piritiba\n",
    "Ponto Novo\n",
    "Quixabeira\n",
    "São José do Jacuípe\n",
    "Saúde\n",
    "Serrolândia\n",
    "Várzea do Poço\n",
    "Várzea Nova'''\n",
    "\n",
    "jacobina = jac.split('\\n')\n",
    "\n",
    "itab='''Baixa Grande\n",
    "Boa Vista do Tupim\n",
    "Iaçu\n",
    "Ibiquera\n",
    "Itaberaba\n",
    "Lajedinho\n",
    "Macajuba\n",
    "Mairi\n",
    "Mundo Novo\n",
    "Ruy Barbosa\n",
    "Tapiramutá\n",
    "Várzea da Roça'''\n",
    "\n",
    "itaberada = itab.split('\\n')\n",
    "\n",
    "fs='''Água Fria\n",
    "Anguera\n",
    "Antônio Cardoso\n",
    "Conceição da Feira\n",
    "Conceição do Jacuípe\n",
    "Coração de Maria\n",
    "Elísio Medrado\n",
    "Feira de Santana\n",
    "Ipecaetá\n",
    "Ipirá\n",
    "Irará\n",
    "Itatim\n",
    "Ouriçangas\n",
    "Pedrão\n",
    "Pintadas\n",
    "Rafael Jambeiro\n",
    "Santa Bárbara\n",
    "Santa Teresinha\n",
    "Santanópolis\n",
    "Santo Estêvão\n",
    "São Gonçalo dos Campos\n",
    "Serra Preta\n",
    "Tanquinho\n",
    "Teodoro Sampaio'''\n",
    "\n",
    "feira_santana = fs.split('\\n')\n",
    "\n",
    "jer='''Coronel João Sá\n",
    "Jeremoabo\n",
    "Pedro Alexandre\n",
    "Santa Brígida\n",
    "Sítio do Quinto'''\n",
    "\n",
    "jeremoabo = jer.split('\\n')\n",
    "\n",
    "euc='''Cansanção\n",
    "Canudos\n",
    "Euclides da Cunha\n",
    "Monte Santo\n",
    "Nordestina\n",
    "Queimadas\n",
    "Quijingue\n",
    "Tucano\n",
    "Uauá'''\n",
    "\n",
    "euclides_cunha = euc.split('\\n')\n",
    "\n",
    "rp='''Adustina\n",
    "Antas\n",
    "Banzaê\n",
    "Cícero Dantas\n",
    "Cipó\n",
    "Fátima\n",
    "Heliópolis\n",
    "Itapicuru\n",
    "Nova Soure\n",
    "Novo Triunfo\n",
    "Olindina\n",
    "Paripiranga\n",
    "Ribeira do Amparo\n",
    "Ribeira do Pombal'''\n",
    "\n",
    "rib_pombal = rp.split('\\n')\n",
    "\n",
    "ser='''Araci\n",
    "Barrocas\n",
    "Biritinga\n",
    "Candeal\n",
    "Capela do Alto Alegre\n",
    "Conceição do Coité\n",
    "Gavião\n",
    "Ichu\n",
    "Lamarão\n",
    "Nova Fátima\n",
    "Pé de Serra\n",
    "Retirolândia\n",
    "Riachão do Jacuípe\n",
    "Santaluz\n",
    "São Domingos\n",
    "Serrinha\n",
    "Teofilândia\n",
    "Valente'''\n",
    "\n",
    "serrinha = ser.split('\\n')\n",
    "\n",
    "ala='''Acajutiba\n",
    "Alagoinhas\n",
    "Aporá\n",
    "Araçás\n",
    "Aramari\n",
    "Crisópolis\n",
    "Inhambupe\n",
    "Rio Real\n",
    "Sátiro Dias'''\n",
    "\n",
    "alagoinhas = ala.split('\\n')\n",
    "\n",
    "entre='''Cardeal da Silva\n",
    "Conde\n",
    "Entre Rios\n",
    "Esplanada\n",
    "Jandaíra'''\n",
    "\n",
    "entre_rios = entre.split('\\n')\n",
    "\n",
    "catu='''Amélia Rodrigues\n",
    "Catu\n",
    "Itanagra\n",
    "Mata de São João\n",
    "Pojuca\n",
    "São Sebastião do Passé\n",
    "Terra Nova'''\n",
    "\n",
    "catu = catu.split('\\n')\n",
    "\n",
    "saj='''Aratuípe\n",
    "Cabaceiras do Paraguaçu\n",
    "Cachoeira\n",
    "Castro Alves\n",
    "Conceição do Almeida\n",
    "Cruz das Almas\n",
    "Dom Macedo Costa\n",
    "Governador Mangabeira\n",
    "Jaguaripe\n",
    "Maragogipe\n",
    "Muniz Ferreira\n",
    "Muritiba\n",
    "Nazaré\n",
    "Salinas da Margarida\n",
    "Santo Amaro\n",
    "Santo Antônio de Jesus\n",
    "São Felipe\n",
    "São Félix\n",
    "Sapeaçu\n",
    "Saubara\n",
    "Varzedo'''\n",
    "\n",
    "sto_antonio = saj.split('\\n')\n",
    "\n",
    "ssa='''Camaçari\n",
    "Candeias\n",
    "Dias d'Ávila\n",
    "Itaparica\n",
    "Lauro de Freitas\n",
    "Madre de Deus\n",
    "Salvador\n",
    "São Francisco do Conde\n",
    "Simões Filho\n",
    "Vera Cruz'''\n",
    "\n",
    "salvador = ssa.split('\\n')\n",
    "\n",
    "boq='''Boquira\n",
    "Botuporã\n",
    "Brotas de Macaúbas\n",
    "Caturama\n",
    "Ibipitanga\n",
    "Ibitiara\n",
    "Ipupiara\n",
    "Macaúbas\n",
    "Novo Horizonte\n",
    "Oliveira dos Brejinhos\n",
    "Tanque Novo'''\n",
    "\n",
    "boquira = boq.split('\\n')\n",
    "\n",
    "sea='''Abaíra\n",
    "Andaraí\n",
    "Barra da Estiva\n",
    "Boninal\n",
    "Bonito\n",
    "Contendas do Sincorá\n",
    "Ibicoara\n",
    "Itaeté\n",
    "Jussiape\n",
    "Lençóis\n",
    "Mucugê\n",
    "Nova Redenção\n",
    "Palmeiras\n",
    "Piatã\n",
    "Rio de Contas\n",
    "Seabra\n",
    "Utinga\n",
    "Wagner'''\n",
    "\n",
    "seabra = sea.split('\\n')\n",
    "\n",
    "jeq='''Aiquara\n",
    "Amargosa\n",
    "Apuarema\n",
    "Brejões\n",
    "Cravolândia\n",
    "Irajuba\n",
    "Iramaia\n",
    "Itagi\n",
    "Itaquara\n",
    "Itiruçu\n",
    "Jaguaquara\n",
    "Jequié\n",
    "Jiquiriçá\n",
    "Jitaúna\n",
    "Lafaiete Coutinho\n",
    "Laje\n",
    "Lajedo do Tabocal\n",
    "Maracás\n",
    "Marcionílio Souza\n",
    "Milagres\n",
    "Mutuípe\n",
    "Nova Itarana\n",
    "Planaltino\n",
    "Santa Inês\n",
    "São Miguel das Matas\n",
    "Ubaíra'''\n",
    "\n",
    "jequie = jeq.split('\\n')\n",
    "\n",
    "livbru='''Dom Basílio\n",
    "Érico Cardoso\n",
    "Livramento de Nossa Senhora\n",
    "Paramirim\n",
    "Rio do Pires'''\n",
    "\n",
    "liv_brumado = livbru.split('\\n')\n",
    "\n",
    "gbi='''Caculé\n",
    "Caetité\n",
    "Candiba\n",
    "Guanambi\n",
    "Ibiassucê\n",
    "Igaporã\n",
    "Iuiu\n",
    "Jacaraci\n",
    "Lagoa Real\n",
    "Licínio de Almeida\n",
    "Malhada\n",
    "Matina\n",
    "Mortugaba\n",
    "Palmas de Monte Alto\n",
    "Pindaí\n",
    "Riacho de Santana\n",
    "Sebastião Laranjeiras\n",
    "Urandi'''\n",
    "\n",
    "guanambi = gbi.split('\\n')\n",
    "\n",
    "bru='''Aracatu\n",
    "Brumado\n",
    "Caraíbas\n",
    "Condeúba\n",
    "Cordeiros\n",
    "Guajeru\n",
    "Ituaçu\n",
    "Maetinga\n",
    "Malhada de Pedras\n",
    "Piripá\n",
    "Presidente Jânio Quadros\n",
    "Rio do Antônio\n",
    "Tanhaçu\n",
    "Tremedal'''\n",
    "\n",
    "brumado = bru.split('\\n')\n",
    "\n",
    "vdc='''Anagé\n",
    "Barra do Choça\n",
    "Belo Campo\n",
    "Boa Nova\n",
    "Bom Jesus da Serra\n",
    "Caatiba\n",
    "Caetanos\n",
    "Cândido Sales\n",
    "Dário Meira\n",
    "Ibicuí\n",
    "Iguaí\n",
    "Manoel Vitorino\n",
    "Mirante\n",
    "Nova Canaã\n",
    "Planalto\n",
    "Poções\n",
    "Vitória da Conquista'''\n",
    "\n",
    "vit_conquista = vdc.split('\\n')\n",
    "\n",
    "itap='''Encruzilhada\n",
    "Itambé\n",
    "Itapetinga\n",
    "Itarantim\n",
    "Itororó\n",
    "Macarani\n",
    "Maiquinique\n",
    "Potiraguá\n",
    "Ribeirão do Largo'''\n",
    "\n",
    "itapetinga = itap.split('\\n')\n",
    "\n",
    "val='''Cairu\n",
    "Camamu\n",
    "Igrapiúna\n",
    "Ituberá\n",
    "Maraú\n",
    "Nilo Peçanha\n",
    "Piraí do Norte\n",
    "Presidente Tancredo Neves\n",
    "Taperoá\n",
    "Valença'''\n",
    "\n",
    "valenca = val.split('\\n')\n",
    "\n",
    "iositb='''Almadina\n",
    "Arataca\n",
    "Aurelino Leal\n",
    "Barra do Rocha\n",
    "Barro Preto\n",
    "Belmonte\n",
    "Buerarema\n",
    "Camacan\n",
    "Canavieiras\n",
    "Coaraci\n",
    "Firmino Alves\n",
    "Floresta Azul\n",
    "Gandu\n",
    "Gongogi\n",
    "Ibicaraí\n",
    "Ibirapitanga\n",
    "Ibirataia\n",
    "Ilhéus\n",
    "Ipiaú\n",
    "Itabuna\n",
    "Itacaré\n",
    "Itagibá\n",
    "Itaju do Colônia\n",
    "Itajuípe\n",
    "Itamari\n",
    "Itapé\n",
    "Itapebi\n",
    "Itapitanga\n",
    "Jussari\n",
    "Mascote\n",
    "Nova Ibiá\n",
    "Pau Brasil\n",
    "Santa Cruz da Vitória\n",
    "Santa Luzia\n",
    "São José da Vitória\n",
    "Teolândia\n",
    "Ubaitaba\n",
    "Ubatã\n",
    "Una\n",
    "Uruçuca\n",
    "Wenceslau Guimarães'''\n",
    "\n",
    "ios_itabuna = iositb.split('\\n')\n",
    "\n",
    "pseg='''Alcobaça\n",
    "Caravelas\n",
    "Eunápolis\n",
    "Guaratinga\n",
    "Ibirapuã\n",
    "Itabela\n",
    "Itagimirim\n",
    "Itamaraju\n",
    "Itanhém\n",
    "Jucuruçu\n",
    "Lajedão\n",
    "Medeiros Neto\n",
    "Mucuri\n",
    "Nova Viçosa\n",
    "Porto Seguro\n",
    "Prado\n",
    "Santa Cruz Cabrália\n",
    "Teixeira de Freitas\n",
    "Vereda'''\n",
    "\n",
    "porto_seguro = pseg.split('\\n')"
   ]
  },
  {
   "cell_type": "markdown",
   "metadata": {},
   "source": [
    "## Importando Bibliotecas e preparando notebook"
   ]
  },
  {
   "cell_type": "code",
   "execution_count": 2,
   "metadata": {
    "id": "zw4S_LkkFNa2"
   },
   "outputs": [],
   "source": [
    "import pandas as pd\n",
    "import numpy as np\n",
    "import collections\n",
    "import matplotlib.pyplot as plt\n",
    "import matplotlib.ticker as ticker\n",
    "import seaborn as sns\n",
    "import folium\n",
    "from folium.plugins import HeatMap\n",
    "from branca.element import Figure\n",
    "\n",
    "%matplotlib inline\n",
    "\n",
    "# escolhendo estilo de plotagem\n",
    "plt.style.use('fivethirtyeight')\n",
    "\n",
    "# setando opção de visualização do número\n",
    "pd.options.display.float_format = '{:.2f}'.format"
   ]
  },
  {
   "cell_type": "markdown",
   "metadata": {},
   "source": [
    "#### Carregando nosso dataframe\n",
    "\n",
    "    - Para a coluna 'city', os valores nulos vem como NA ou 'Importados/Indefinidos'\n",
    "    - Para facilitar nosso trabalho de limpeza configuramos o pandas para que considere como NA todos valores descritos 'Importados/Indefinidos' na coluna 'city'"
   ]
  },
  {
   "cell_type": "code",
   "execution_count": 3,
   "metadata": {
    "id": "wWHrc23HMW07"
   },
   "outputs": [],
   "source": [
    "df = pd.read_csv('caso.csv.gz', na_values=['Importados/Indefinidos'])"
   ]
  },
  {
   "cell_type": "code",
   "execution_count": 4,
   "metadata": {},
   "outputs": [
    {
     "data": {
      "text/html": [
       "<div>\n",
       "<style scoped>\n",
       "    .dataframe tbody tr th:only-of-type {\n",
       "        vertical-align: middle;\n",
       "    }\n",
       "\n",
       "    .dataframe tbody tr th {\n",
       "        vertical-align: top;\n",
       "    }\n",
       "\n",
       "    .dataframe thead th {\n",
       "        text-align: right;\n",
       "    }\n",
       "</style>\n",
       "<table border=\"1\" class=\"dataframe\">\n",
       "  <thead>\n",
       "    <tr style=\"text-align: right;\">\n",
       "      <th></th>\n",
       "      <th>date</th>\n",
       "      <th>state</th>\n",
       "      <th>city</th>\n",
       "      <th>place_type</th>\n",
       "      <th>confirmed</th>\n",
       "      <th>deaths</th>\n",
       "      <th>order_for_place</th>\n",
       "      <th>is_last</th>\n",
       "      <th>estimated_population_2019</th>\n",
       "      <th>estimated_population</th>\n",
       "      <th>city_ibge_code</th>\n",
       "      <th>confirmed_per_100k_inhabitants</th>\n",
       "      <th>death_rate</th>\n",
       "    </tr>\n",
       "  </thead>\n",
       "  <tbody>\n",
       "    <tr>\n",
       "      <th>323237</th>\n",
       "      <td>2020-07-30</td>\n",
       "      <td>PA</td>\n",
       "      <td>São Domingos do Capim</td>\n",
       "      <td>city</td>\n",
       "      <td>95</td>\n",
       "      <td>3</td>\n",
       "      <td>95</td>\n",
       "      <td>False</td>\n",
       "      <td>31989.00</td>\n",
       "      <td>32139.00</td>\n",
       "      <td>1507201.00</td>\n",
       "      <td>295.59</td>\n",
       "      <td>0.03</td>\n",
       "    </tr>\n",
       "    <tr>\n",
       "      <th>281438</th>\n",
       "      <td>2020-07-24</td>\n",
       "      <td>MA</td>\n",
       "      <td>São Vicente Ferrer</td>\n",
       "      <td>city</td>\n",
       "      <td>142</td>\n",
       "      <td>1</td>\n",
       "      <td>85</td>\n",
       "      <td>False</td>\n",
       "      <td>22247.00</td>\n",
       "      <td>22350.00</td>\n",
       "      <td>2111706.00</td>\n",
       "      <td>635.35</td>\n",
       "      <td>0.01</td>\n",
       "    </tr>\n",
       "    <tr>\n",
       "      <th>594375</th>\n",
       "      <td>2020-06-18</td>\n",
       "      <td>PI</td>\n",
       "      <td>Massapê do Piauí</td>\n",
       "      <td>city</td>\n",
       "      <td>1</td>\n",
       "      <td>0</td>\n",
       "      <td>3</td>\n",
       "      <td>False</td>\n",
       "      <td>6441.00</td>\n",
       "      <td>6449.00</td>\n",
       "      <td>2206050.00</td>\n",
       "      <td>15.51</td>\n",
       "      <td>0.00</td>\n",
       "    </tr>\n",
       "    <tr>\n",
       "      <th>745149</th>\n",
       "      <td>2020-07-13</td>\n",
       "      <td>RS</td>\n",
       "      <td>Caseiros</td>\n",
       "      <td>city</td>\n",
       "      <td>12</td>\n",
       "      <td>0</td>\n",
       "      <td>67</td>\n",
       "      <td>False</td>\n",
       "      <td>3202.00</td>\n",
       "      <td>3216.00</td>\n",
       "      <td>4304952.00</td>\n",
       "      <td>373.13</td>\n",
       "      <td>0.00</td>\n",
       "    </tr>\n",
       "    <tr>\n",
       "      <th>603455</th>\n",
       "      <td>2020-10-23</td>\n",
       "      <td>PI</td>\n",
       "      <td>Ribeiro Gonçalves</td>\n",
       "      <td>city</td>\n",
       "      <td>401</td>\n",
       "      <td>5</td>\n",
       "      <td>164</td>\n",
       "      <td>False</td>\n",
       "      <td>7341.00</td>\n",
       "      <td>7376.00</td>\n",
       "      <td>2208908.00</td>\n",
       "      <td>5436.55</td>\n",
       "      <td>0.01</td>\n",
       "    </tr>\n",
       "  </tbody>\n",
       "</table>\n",
       "</div>"
      ],
      "text/plain": [
       "              date state                   city place_type  confirmed  deaths  \\\n",
       "323237  2020-07-30    PA  São Domingos do Capim       city         95       3   \n",
       "281438  2020-07-24    MA     São Vicente Ferrer       city        142       1   \n",
       "594375  2020-06-18    PI       Massapê do Piauí       city          1       0   \n",
       "745149  2020-07-13    RS               Caseiros       city         12       0   \n",
       "603455  2020-10-23    PI      Ribeiro Gonçalves       city        401       5   \n",
       "\n",
       "        order_for_place  is_last  estimated_population_2019  \\\n",
       "323237               95    False                   31989.00   \n",
       "281438               85    False                   22247.00   \n",
       "594375                3    False                    6441.00   \n",
       "745149               67    False                    3202.00   \n",
       "603455              164    False                    7341.00   \n",
       "\n",
       "        estimated_population  city_ibge_code  confirmed_per_100k_inhabitants  \\\n",
       "323237              32139.00      1507201.00                          295.59   \n",
       "281438              22350.00      2111706.00                          635.35   \n",
       "594375               6449.00      2206050.00                           15.51   \n",
       "745149               3216.00      4304952.00                          373.13   \n",
       "603455               7376.00      2208908.00                         5436.55   \n",
       "\n",
       "        death_rate  \n",
       "323237        0.03  \n",
       "281438        0.01  \n",
       "594375        0.00  \n",
       "745149        0.00  \n",
       "603455        0.01  "
      ]
     },
     "execution_count": 4,
     "metadata": {},
     "output_type": "execute_result"
    }
   ],
   "source": [
    "# vamos pegar 5 dados aleatorios para conhecer nosso conjunto de dados\n",
    "df.sample(5)"
   ]
  },
  {
   "cell_type": "markdown",
   "metadata": {},
   "source": [
    "<br>\n",
    "\n",
    "## Checando valores nulos e tipos de dados"
   ]
  },
  {
   "cell_type": "markdown",
   "metadata": {},
   "source": [
    "Antes de verificarmos tipos de dados e valores nulos, vamos verificar o tamanho do nosso dataframe"
   ]
  },
  {
   "cell_type": "code",
   "execution_count": 5,
   "metadata": {},
   "outputs": [
    {
     "name": "stdout",
     "output_type": "stream",
     "text": [
      "Nosso dataset tem 1037201 linhas e 13 colunas.\n"
     ]
    }
   ],
   "source": [
    "print(f'Nosso dataset tem {df.shape[0]} linhas e {df.shape[1]} colunas.')"
   ]
  },
  {
   "cell_type": "markdown",
   "metadata": {},
   "source": [
    "<br>\n",
    "Desse total de linhas quantas são valores NA por coluna?\n",
    "\n",
    "Vamos achar essa resposta com o codigo abaixo"
   ]
  },
  {
   "cell_type": "code",
   "execution_count": 6,
   "metadata": {},
   "outputs": [
    {
     "data": {
      "text/plain": [
       "date                                  0\n",
       "state                                 0\n",
       "city                              10827\n",
       "place_type                            0\n",
       "confirmed                             0\n",
       "deaths                                0\n",
       "order_for_place                       0\n",
       "is_last                               0\n",
       "estimated_population_2019          3987\n",
       "estimated_population               3987\n",
       "city_ibge_code                     3987\n",
       "confirmed_per_100k_inhabitants    17649\n",
       "death_rate                            0\n",
       "dtype: int64"
      ]
     },
     "execution_count": 6,
     "metadata": {},
     "output_type": "execute_result"
    }
   ],
   "source": [
    "df.isna().sum()"
   ]
  },
  {
   "cell_type": "markdown",
   "metadata": {},
   "source": [
    "<br>\n",
    "Agora veremos quantos valores válidos por coluna e seus respectivos tipos de dados"
   ]
  },
  {
   "cell_type": "code",
   "execution_count": 7,
   "metadata": {},
   "outputs": [
    {
     "name": "stdout",
     "output_type": "stream",
     "text": [
      "<class 'pandas.core.frame.DataFrame'>\n",
      "RangeIndex: 1037201 entries, 0 to 1037200\n",
      "Data columns (total 13 columns):\n",
      " #   Column                          Non-Null Count    Dtype  \n",
      "---  ------                          --------------    -----  \n",
      " 0   date                            1037201 non-null  object \n",
      " 1   state                           1037201 non-null  object \n",
      " 2   city                            1026374 non-null  object \n",
      " 3   place_type                      1037201 non-null  object \n",
      " 4   confirmed                       1037201 non-null  int64  \n",
      " 5   deaths                          1037201 non-null  int64  \n",
      " 6   order_for_place                 1037201 non-null  int64  \n",
      " 7   is_last                         1037201 non-null  bool   \n",
      " 8   estimated_population_2019       1033214 non-null  float64\n",
      " 9   estimated_population            1033214 non-null  float64\n",
      " 10  city_ibge_code                  1033214 non-null  float64\n",
      " 11  confirmed_per_100k_inhabitants  1019552 non-null  float64\n",
      " 12  death_rate                      1037201 non-null  float64\n",
      "dtypes: bool(1), float64(5), int64(3), object(4)\n",
      "memory usage: 95.9+ MB\n"
     ]
    }
   ],
   "source": [
    "df.info()"
   ]
  },
  {
   "cell_type": "markdown",
   "metadata": {},
   "source": [
    ">A coluna **date** está como *string* e deverá ser convertida para tipo *data*"
   ]
  },
  {
   "cell_type": "markdown",
   "metadata": {},
   "source": [
    "<br>\n",
    "\n",
    "Conforme sugerido pela própria documentação para ser desconsiderada por possuir valores desatualizados, vamos excluir a coluna **estimated_population_2019**"
   ]
  },
  {
   "cell_type": "code",
   "execution_count": 8,
   "metadata": {},
   "outputs": [],
   "source": [
    "df.drop('estimated_population_2019', axis=1, inplace=True)"
   ]
  },
  {
   "cell_type": "markdown",
   "metadata": {},
   "source": [
    "Também vamos fazer a conversão da coluna **date**"
   ]
  },
  {
   "cell_type": "code",
   "execution_count": 9,
   "metadata": {},
   "outputs": [],
   "source": [
    "df['date'] = pd.to_datetime(df['date'], yearfirst=True)"
   ]
  },
  {
   "cell_type": "markdown",
   "metadata": {},
   "source": [
    "<br>\n",
    "\n",
    "## Separando dataframes...\n",
    "\n",
    "Considerando que os valores NA da coluna **city** ocorrem quando o registro refere-se a estado (descrito como *state* na coluna **place_type**), vamos criar um dataframe somente para dados relacionados às cidades.\n",
    "\n",
    "<br>\n",
    "Mais tarde também faremos um dataframe que considerará somente estados e analisaremos essas duas entidades separadamente."
   ]
  },
  {
   "cell_type": "code",
   "execution_count": 10,
   "metadata": {},
   "outputs": [
    {
     "data": {
      "text/html": [
       "<div>\n",
       "<style scoped>\n",
       "    .dataframe tbody tr th:only-of-type {\n",
       "        vertical-align: middle;\n",
       "    }\n",
       "\n",
       "    .dataframe tbody tr th {\n",
       "        vertical-align: top;\n",
       "    }\n",
       "\n",
       "    .dataframe thead th {\n",
       "        text-align: right;\n",
       "    }\n",
       "</style>\n",
       "<table border=\"1\" class=\"dataframe\">\n",
       "  <thead>\n",
       "    <tr style=\"text-align: right;\">\n",
       "      <th></th>\n",
       "      <th>date</th>\n",
       "      <th>state</th>\n",
       "      <th>city</th>\n",
       "      <th>place_type</th>\n",
       "      <th>confirmed</th>\n",
       "      <th>deaths</th>\n",
       "      <th>order_for_place</th>\n",
       "      <th>is_last</th>\n",
       "      <th>estimated_population</th>\n",
       "      <th>city_ibge_code</th>\n",
       "      <th>confirmed_per_100k_inhabitants</th>\n",
       "      <th>death_rate</th>\n",
       "    </tr>\n",
       "  </thead>\n",
       "  <tbody>\n",
       "    <tr>\n",
       "      <th>668657</th>\n",
       "      <td>2020-06-09</td>\n",
       "      <td>PR</td>\n",
       "      <td>Rancho Alegre</td>\n",
       "      <td>city</td>\n",
       "      <td>5</td>\n",
       "      <td>1</td>\n",
       "      <td>15</td>\n",
       "      <td>False</td>\n",
       "      <td>3784.00</td>\n",
       "      <td>4121307.00</td>\n",
       "      <td>132.14</td>\n",
       "      <td>0.20</td>\n",
       "    </tr>\n",
       "    <tr>\n",
       "      <th>119572</th>\n",
       "      <td>2020-10-24</td>\n",
       "      <td>GO</td>\n",
       "      <td>Itapaci</td>\n",
       "      <td>city</td>\n",
       "      <td>420</td>\n",
       "      <td>11</td>\n",
       "      <td>152</td>\n",
       "      <td>False</td>\n",
       "      <td>23421.00</td>\n",
       "      <td>5210901.00</td>\n",
       "      <td>1793.26</td>\n",
       "      <td>0.03</td>\n",
       "    </tr>\n",
       "    <tr>\n",
       "      <th>433098</th>\n",
       "      <td>2020-10-19</td>\n",
       "      <td>MG</td>\n",
       "      <td>Itapeva</td>\n",
       "      <td>city</td>\n",
       "      <td>492</td>\n",
       "      <td>14</td>\n",
       "      <td>188</td>\n",
       "      <td>False</td>\n",
       "      <td>9881.00</td>\n",
       "      <td>3133600.00</td>\n",
       "      <td>4979.25</td>\n",
       "      <td>0.03</td>\n",
       "    </tr>\n",
       "    <tr>\n",
       "      <th>786329</th>\n",
       "      <td>2020-07-19</td>\n",
       "      <td>RS</td>\n",
       "      <td>Porto Alegre</td>\n",
       "      <td>city</td>\n",
       "      <td>6337</td>\n",
       "      <td>204</td>\n",
       "      <td>128</td>\n",
       "      <td>False</td>\n",
       "      <td>1488252.00</td>\n",
       "      <td>4314902.00</td>\n",
       "      <td>425.80</td>\n",
       "      <td>0.03</td>\n",
       "    </tr>\n",
       "    <tr>\n",
       "      <th>315278</th>\n",
       "      <td>2020-08-12</td>\n",
       "      <td>PA</td>\n",
       "      <td>Oeiras do Pará</td>\n",
       "      <td>city</td>\n",
       "      <td>473</td>\n",
       "      <td>21</td>\n",
       "      <td>131</td>\n",
       "      <td>False</td>\n",
       "      <td>32850.00</td>\n",
       "      <td>1505205.00</td>\n",
       "      <td>1439.88</td>\n",
       "      <td>0.04</td>\n",
       "    </tr>\n",
       "  </tbody>\n",
       "</table>\n",
       "</div>"
      ],
      "text/plain": [
       "             date state            city place_type  confirmed  deaths  \\\n",
       "668657 2020-06-09    PR   Rancho Alegre       city          5       1   \n",
       "119572 2020-10-24    GO         Itapaci       city        420      11   \n",
       "433098 2020-10-19    MG         Itapeva       city        492      14   \n",
       "786329 2020-07-19    RS    Porto Alegre       city       6337     204   \n",
       "315278 2020-08-12    PA  Oeiras do Pará       city        473      21   \n",
       "\n",
       "        order_for_place  is_last  estimated_population  city_ibge_code  \\\n",
       "668657               15    False               3784.00      4121307.00   \n",
       "119572              152    False              23421.00      5210901.00   \n",
       "433098              188    False               9881.00      3133600.00   \n",
       "786329              128    False            1488252.00      4314902.00   \n",
       "315278              131    False              32850.00      1505205.00   \n",
       "\n",
       "        confirmed_per_100k_inhabitants  death_rate  \n",
       "668657                          132.14        0.20  \n",
       "119572                         1793.26        0.03  \n",
       "433098                         4979.25        0.03  \n",
       "786329                          425.80        0.03  \n",
       "315278                         1439.88        0.04  "
      ]
     },
     "execution_count": 10,
     "metadata": {},
     "output_type": "execute_result"
    }
   ],
   "source": [
    "# vamos filtrar as linhas onde a coluna city não é nula e atribuí-la a variável df_cidade\n",
    "df_cidade = df[df['city'].notnull()]\n",
    "# uma amostra aleatório de 5 linhas\n",
    "df_cidade.sample(5)"
   ]
  },
  {
   "cell_type": "markdown",
   "metadata": {},
   "source": [
    "<br>\n",
    "\n",
    "Para provar que **df_cidade** traz somente dados das cidades vamos checar os valores únicos da coluna **place_type**"
   ]
  },
  {
   "cell_type": "code",
   "execution_count": 11,
   "metadata": {},
   "outputs": [
    {
     "name": "stdout",
     "output_type": "stream",
     "text": [
      "O unico valor presente na coluna place_type é --> 'city'\n"
     ]
    }
   ],
   "source": [
    "print(f\"O unico valor presente na coluna place_type é --> '{df_cidade['place_type'].unique()[0]}'\")"
   ]
  },
  {
   "cell_type": "code",
   "execution_count": 12,
   "metadata": {},
   "outputs": [],
   "source": [
    "# excluindo a coluna place_type já que a mesma não faz mais sentido nesse dataframe\n",
    "# tentei remover a coluna com drop, mas estava dando aviso de 'Setting copy with error'\n",
    "# da maneira executada abaixo, parecido com dicionario, nao gerou alerta\n",
    "del df_cidade['place_type']"
   ]
  },
  {
   "cell_type": "markdown",
   "metadata": {},
   "source": [
    "Vamos identificar se sobrou valor nulo em algumas das colunas de **df_cidade**"
   ]
  },
  {
   "cell_type": "code",
   "execution_count": 13,
   "metadata": {},
   "outputs": [
    {
     "data": {
      "text/plain": [
       "date                                  0\n",
       "state                                 0\n",
       "city                                  0\n",
       "confirmed                             0\n",
       "deaths                                0\n",
       "order_for_place                       0\n",
       "is_last                               0\n",
       "estimated_population                  0\n",
       "city_ibge_code                        0\n",
       "confirmed_per_100k_inhabitants    13656\n",
       "death_rate                            0\n",
       "dtype: int64"
      ]
     },
     "execution_count": 13,
     "metadata": {},
     "output_type": "execute_result"
    }
   ],
   "source": [
    "df_cidade.isna().sum()"
   ]
  },
  {
   "cell_type": "markdown",
   "metadata": {},
   "source": [
    "<br>\n",
    "\n",
    ">Segundo documentação, a coluna **confirmed_per_100k_inhabitants** é calculada dividindo o número de casos confirmados por 100.000 (baseado em estimated_population). A nossa hipótese é que quando a coluna de casos confirmados for igual a 0 o resultado será um NaN. \n",
    "\n",
    ">Confirmando a hipótese, vamos consertar isso substituindo valores nulos pelo número 0, já que não houve morte.\n",
    "Usaremos o método fillna()"
   ]
  },
  {
   "cell_type": "markdown",
   "metadata": {},
   "source": [
    "<br>\n",
    "\n",
    "- Primeiro criamos um df onde todos valores de 'confirmado por 100K' são nulos\n",
    "- Depois confirmamos que o único valor da coluna casos cofirmados é 0\n",
    "- Esse procedimento é útil para termos certeza da nossa hipótese"
   ]
  },
  {
   "cell_type": "code",
   "execution_count": 14,
   "metadata": {},
   "outputs": [
    {
     "data": {
      "text/plain": [
       "array([0], dtype=int64)"
      ]
     },
     "execution_count": 14,
     "metadata": {},
     "output_type": "execute_result"
    }
   ],
   "source": [
    "confirmado_por_100k = df_cidade[df_cidade['confirmed_per_100k_inhabitants'].isna()]\n",
    "confirmado_por_100k['confirmed'].unique()"
   ]
  },
  {
   "cell_type": "markdown",
   "metadata": {},
   "source": [
    "<br>\n",
    "Usando o metodo fillna()"
   ]
  },
  {
   "cell_type": "code",
   "execution_count": 15,
   "metadata": {},
   "outputs": [
    {
     "name": "stderr",
     "output_type": "stream",
     "text": [
      "c:\\python\\python37\\lib\\site-packages\\pandas\\core\\generic.py:6245: SettingWithCopyWarning: \n",
      "A value is trying to be set on a copy of a slice from a DataFrame\n",
      "\n",
      "See the caveats in the documentation: https://pandas.pydata.org/pandas-docs/stable/user_guide/indexing.html#returning-a-view-versus-a-copy\n",
      "  self._update_inplace(new_data)\n"
     ]
    }
   ],
   "source": [
    "df_cidade['confirmed_per_100k_inhabitants'].fillna(0, inplace=True)"
   ]
  },
  {
   "cell_type": "markdown",
   "metadata": {},
   "source": [
    "<br>\n",
    "\n",
    "Se formos buscar os valores nulos novamente veremos que df_cidade está tudo em ordem"
   ]
  },
  {
   "cell_type": "code",
   "execution_count": 16,
   "metadata": {},
   "outputs": [
    {
     "data": {
      "text/plain": [
       "date                              0\n",
       "state                             0\n",
       "city                              0\n",
       "confirmed                         0\n",
       "deaths                            0\n",
       "order_for_place                   0\n",
       "is_last                           0\n",
       "estimated_population              0\n",
       "city_ibge_code                    0\n",
       "confirmed_per_100k_inhabitants    0\n",
       "death_rate                        0\n",
       "dtype: int64"
      ]
     },
     "execution_count": 16,
     "metadata": {},
     "output_type": "execute_result"
    }
   ],
   "source": [
    "df_cidade.isna().sum()"
   ]
  },
  {
   "cell_type": "code",
   "execution_count": 17,
   "metadata": {},
   "outputs": [
    {
     "name": "stdout",
     "output_type": "stream",
     "text": [
      "<class 'pandas.core.frame.DataFrame'>\n",
      "Int64Index: 1026374 entries, 246 to 1037200\n",
      "Data columns (total 11 columns):\n",
      " #   Column                          Non-Null Count    Dtype         \n",
      "---  ------                          --------------    -----         \n",
      " 0   date                            1026374 non-null  datetime64[ns]\n",
      " 1   state                           1026374 non-null  object        \n",
      " 2   city                            1026374 non-null  object        \n",
      " 3   confirmed                       1026374 non-null  int64         \n",
      " 4   deaths                          1026374 non-null  int64         \n",
      " 5   order_for_place                 1026374 non-null  int64         \n",
      " 6   is_last                         1026374 non-null  bool          \n",
      " 7   estimated_population            1026374 non-null  float64       \n",
      " 8   city_ibge_code                  1026374 non-null  float64       \n",
      " 9   confirmed_per_100k_inhabitants  1026374 non-null  float64       \n",
      " 10  death_rate                      1026374 non-null  float64       \n",
      "dtypes: bool(1), datetime64[ns](1), float64(4), int64(3), object(2)\n",
      "memory usage: 87.1+ MB\n"
     ]
    }
   ],
   "source": [
    "df_cidade.info()"
   ]
  },
  {
   "cell_type": "markdown",
   "metadata": {},
   "source": [
    ">Todas colunas com o mesmo número de não-nulos\n",
    "\n",
    "<br>"
   ]
  },
  {
   "cell_type": "code",
   "execution_count": 18,
   "metadata": {},
   "outputs": [
    {
     "data": {
      "text/plain": [
       "False    1026374\n",
       "dtype: int64"
      ]
     },
     "execution_count": 18,
     "metadata": {},
     "output_type": "execute_result"
    }
   ],
   "source": [
    "# checando duplicidade\n",
    "# nenhuma ocorrencia de valores duplicados\n",
    "df_cidade.duplicated().value_counts()"
   ]
  },
  {
   "cell_type": "markdown",
   "metadata": {},
   "source": [
    "<br>\n",
    "\n",
    "Criando a nova coluna de região"
   ]
  },
  {
   "cell_type": "code",
   "execution_count": 19,
   "metadata": {},
   "outputs": [],
   "source": [
    "regiao = {'AC':'Norte', 'AM':'Norte', 'RR':'Norte', 'RO':'Norte', 'AP':'Norte', 'PA':'Norte', 'TO':'Norte',\n",
    "          'MA':'Nordeste', 'PI':'Nordeste', 'CE':'Nordeste', 'RN':'Nordeste', 'PB':'Nordeste', 'PE':'Nordeste',\n",
    "         'AL':'Nordeste', 'SE':'Nordeste', 'BA':'Nordeste', 'MG':'Sudeste', 'ES':'Sudeste', 'RJ':'Sudeste',\n",
    "         'SP':'Sudeste', 'PR':'Sul', 'SC':'Sul', 'RS':'Sul', 'MS':'Centro-Oeste', 'GO':'Centro-Oeste', \n",
    "         'MT':'Centro-Oeste', 'DF':'Centro-Oeste'}"
   ]
  },
  {
   "cell_type": "code",
   "execution_count": 20,
   "metadata": {},
   "outputs": [
    {
     "name": "stderr",
     "output_type": "stream",
     "text": [
      "c:\\python\\python37\\lib\\site-packages\\ipykernel_launcher.py:1: SettingWithCopyWarning: \n",
      "A value is trying to be set on a copy of a slice from a DataFrame.\n",
      "Try using .loc[row_indexer,col_indexer] = value instead\n",
      "\n",
      "See the caveats in the documentation: https://pandas.pydata.org/pandas-docs/stable/user_guide/indexing.html#returning-a-view-versus-a-copy\n",
      "  \"\"\"Entry point for launching an IPython kernel.\n"
     ]
    }
   ],
   "source": [
    "df_cidade['region'] = df_cidade['state'].map(regiao)"
   ]
  },
  {
   "cell_type": "markdown",
   "metadata": {},
   "source": [
    "<br>\n",
    "\n",
    "Considerando que o indicador 'is_last' traz as informações mais recentes sobre numero de mortes e casos confirmados, vamos criar um dataframe com esses dados. \n",
    "<br>\n",
    "\n",
    "Sera útil para fazermos comparações entre as cidades."
   ]
  },
  {
   "cell_type": "code",
   "execution_count": 21,
   "metadata": {},
   "outputs": [],
   "source": [
    "# df considerando o ultimo boletim por cidade\n",
    "df_cidade_last = df_cidade[df_cidade['is_last']==True]"
   ]
  },
  {
   "cell_type": "code",
   "execution_count": 22,
   "metadata": {},
   "outputs": [],
   "source": [
    "cidades_ba = df_cidade[df_cidade['state']=='BA']\n",
    "cidades_se = df_cidade[df_cidade['state']=='SE']\n",
    "cidades_al = df_cidade[df_cidade['state']=='AL']\n",
    "cidades_pe = df_cidade[df_cidade['state']=='PE']\n",
    "cidades_pb = df_cidade[df_cidade['state']=='PB']\n",
    "cidades_rn = df_cidade[df_cidade['state']=='RN']\n",
    "cidades_ce = df_cidade[df_cidade['state']=='CE']\n",
    "cidades_pi = df_cidade[df_cidade['state']=='PI']\n",
    "cidades_ma = df_cidade[df_cidade['state']=='MA']"
   ]
  },
  {
   "cell_type": "code",
   "execution_count": 23,
   "metadata": {},
   "outputs": [],
   "source": [
    "ne = df_cidade[df_cidade['region']=='Nordeste']"
   ]
  },
  {
   "cell_type": "code",
   "execution_count": 24,
   "metadata": {},
   "outputs": [],
   "source": [
    "ne_sem_ba = ne[ne['state']!='BA']\n",
    "ne_grupo = ne_sem_ba[ne_sem_ba['is_last']==True].groupby('city').sum()\n",
    "n = ne_grupo['confirmed_per_100k_inhabitants'].mean()"
   ]
  },
  {
   "cell_type": "markdown",
   "metadata": {},
   "source": [
    "<br>\n",
    "\n",
    "## Análise exploratória dos dados"
   ]
  },
  {
   "cell_type": "code",
   "execution_count": 25,
   "metadata": {
    "scrolled": true
   },
   "outputs": [
    {
     "data": {
      "text/html": [
       "<div>\n",
       "<style scoped>\n",
       "    .dataframe tbody tr th:only-of-type {\n",
       "        vertical-align: middle;\n",
       "    }\n",
       "\n",
       "    .dataframe tbody tr th {\n",
       "        vertical-align: top;\n",
       "    }\n",
       "\n",
       "    .dataframe thead th {\n",
       "        text-align: right;\n",
       "    }\n",
       "</style>\n",
       "<table border=\"1\" class=\"dataframe\">\n",
       "  <thead>\n",
       "    <tr style=\"text-align: right;\">\n",
       "      <th></th>\n",
       "      <th>date</th>\n",
       "      <th>state</th>\n",
       "      <th>city</th>\n",
       "      <th>confirmed</th>\n",
       "      <th>deaths</th>\n",
       "      <th>order_for_place</th>\n",
       "      <th>is_last</th>\n",
       "      <th>estimated_population</th>\n",
       "      <th>city_ibge_code</th>\n",
       "      <th>confirmed_per_100k_inhabitants</th>\n",
       "      <th>death_rate</th>\n",
       "      <th>region</th>\n",
       "    </tr>\n",
       "  </thead>\n",
       "  <tbody>\n",
       "    <tr>\n",
       "      <th>188147</th>\n",
       "      <td>2020-08-01</td>\n",
       "      <td>BA</td>\n",
       "      <td>Lamarão</td>\n",
       "      <td>52</td>\n",
       "      <td>0</td>\n",
       "      <td>71</td>\n",
       "      <td>False</td>\n",
       "      <td>8191.00</td>\n",
       "      <td>2919108.00</td>\n",
       "      <td>634.84</td>\n",
       "      <td>0.00</td>\n",
       "      <td>Nordeste</td>\n",
       "    </tr>\n",
       "    <tr>\n",
       "      <th>160589</th>\n",
       "      <td>2020-08-07</td>\n",
       "      <td>BA</td>\n",
       "      <td>Castro Alves</td>\n",
       "      <td>222</td>\n",
       "      <td>3</td>\n",
       "      <td>112</td>\n",
       "      <td>False</td>\n",
       "      <td>26318.00</td>\n",
       "      <td>2907301.00</td>\n",
       "      <td>843.53</td>\n",
       "      <td>0.01</td>\n",
       "      <td>Nordeste</td>\n",
       "    </tr>\n",
       "  </tbody>\n",
       "</table>\n",
       "</div>"
      ],
      "text/plain": [
       "             date state          city  confirmed  deaths  order_for_place  \\\n",
       "188147 2020-08-01    BA       Lamarão         52       0               71   \n",
       "160589 2020-08-07    BA  Castro Alves        222       3              112   \n",
       "\n",
       "        is_last  estimated_population  city_ibge_code  \\\n",
       "188147    False               8191.00      2919108.00   \n",
       "160589    False              26318.00      2907301.00   \n",
       "\n",
       "        confirmed_per_100k_inhabitants  death_rate    region  \n",
       "188147                          634.84        0.00  Nordeste  \n",
       "160589                          843.53        0.01  Nordeste  "
      ]
     },
     "execution_count": 25,
     "metadata": {},
     "output_type": "execute_result"
    }
   ],
   "source": [
    "cidades_ba.sample(2)"
   ]
  },
  {
   "cell_type": "code",
   "execution_count": 26,
   "metadata": {
    "scrolled": false
   },
   "outputs": [],
   "source": [
    "b = cidades_ba.groupby('date').sum().diff()\n",
    "p = cidades_pe.groupby('date').sum().diff()\n",
    "c = cidades_ce.groupby('date').sum().diff()\n",
    "n = ne_sem_ba.groupby('date').sum().diff()"
   ]
  },
  {
   "cell_type": "code",
   "execution_count": 27,
   "metadata": {},
   "outputs": [],
   "source": [
    "# vamos agrupar por data para facilitar em alguns calculos\n",
    "cidades_ba_group = cidades_ba.groupby('date').sum()\n",
    "\n",
    "# criando colunas com novas mortes e novos óbitos por dia\n",
    "cidades_ba_group['new_confirmed'] = cidades_ba_group['confirmed'].diff()\n",
    "cidades_ba_group['new_deaths'] = cidades_ba_group['deaths'].diff()"
   ]
  },
  {
   "cell_type": "code",
   "execution_count": 28,
   "metadata": {},
   "outputs": [],
   "source": [
    "cidades_ba_group.drop(['order_for_place', 'is_last', 'estimated_population',\n",
    "                      'city_ibge_code'], axis=1, inplace=True)"
   ]
  },
  {
   "cell_type": "code",
   "execution_count": 29,
   "metadata": {},
   "outputs": [
    {
     "data": {
      "text/html": [
       "<div>\n",
       "<style scoped>\n",
       "    .dataframe tbody tr th:only-of-type {\n",
       "        vertical-align: middle;\n",
       "    }\n",
       "\n",
       "    .dataframe tbody tr th {\n",
       "        vertical-align: top;\n",
       "    }\n",
       "\n",
       "    .dataframe thead th {\n",
       "        text-align: right;\n",
       "    }\n",
       "</style>\n",
       "<table border=\"1\" class=\"dataframe\">\n",
       "  <thead>\n",
       "    <tr style=\"text-align: right;\">\n",
       "      <th></th>\n",
       "      <th>confirmed</th>\n",
       "      <th>deaths</th>\n",
       "      <th>confirmed_per_100k_inhabitants</th>\n",
       "      <th>death_rate</th>\n",
       "      <th>new_confirmed</th>\n",
       "      <th>new_deaths</th>\n",
       "      <th>mv_confirmed</th>\n",
       "      <th>mv_deaths</th>\n",
       "    </tr>\n",
       "    <tr>\n",
       "      <th>date</th>\n",
       "      <th></th>\n",
       "      <th></th>\n",
       "      <th></th>\n",
       "      <th></th>\n",
       "      <th></th>\n",
       "      <th></th>\n",
       "      <th></th>\n",
       "      <th></th>\n",
       "    </tr>\n",
       "  </thead>\n",
       "  <tbody>\n",
       "    <tr>\n",
       "      <th>2020-03-06</th>\n",
       "      <td>1</td>\n",
       "      <td>0</td>\n",
       "      <td>0.16</td>\n",
       "      <td>0.00</td>\n",
       "      <td>nan</td>\n",
       "      <td>nan</td>\n",
       "      <td>nan</td>\n",
       "      <td>nan</td>\n",
       "    </tr>\n",
       "    <tr>\n",
       "      <th>2020-03-07</th>\n",
       "      <td>2</td>\n",
       "      <td>0</td>\n",
       "      <td>0.32</td>\n",
       "      <td>0.00</td>\n",
       "      <td>1.00</td>\n",
       "      <td>0.00</td>\n",
       "      <td>nan</td>\n",
       "      <td>nan</td>\n",
       "    </tr>\n",
       "    <tr>\n",
       "      <th>2020-03-09</th>\n",
       "      <td>2</td>\n",
       "      <td>0</td>\n",
       "      <td>0.32</td>\n",
       "      <td>0.00</td>\n",
       "      <td>0.00</td>\n",
       "      <td>0.00</td>\n",
       "      <td>nan</td>\n",
       "      <td>nan</td>\n",
       "    </tr>\n",
       "    <tr>\n",
       "      <th>2020-03-10</th>\n",
       "      <td>2</td>\n",
       "      <td>0</td>\n",
       "      <td>0.32</td>\n",
       "      <td>0.00</td>\n",
       "      <td>0.00</td>\n",
       "      <td>0.00</td>\n",
       "      <td>nan</td>\n",
       "      <td>nan</td>\n",
       "    </tr>\n",
       "    <tr>\n",
       "      <th>2020-03-11</th>\n",
       "      <td>3</td>\n",
       "      <td>0</td>\n",
       "      <td>0.48</td>\n",
       "      <td>0.00</td>\n",
       "      <td>1.00</td>\n",
       "      <td>0.00</td>\n",
       "      <td>nan</td>\n",
       "      <td>nan</td>\n",
       "    </tr>\n",
       "    <tr>\n",
       "      <th>2020-03-12</th>\n",
       "      <td>3</td>\n",
       "      <td>0</td>\n",
       "      <td>0.48</td>\n",
       "      <td>0.00</td>\n",
       "      <td>0.00</td>\n",
       "      <td>0.00</td>\n",
       "      <td>nan</td>\n",
       "      <td>nan</td>\n",
       "    </tr>\n",
       "    <tr>\n",
       "      <th>2020-03-13</th>\n",
       "      <td>7</td>\n",
       "      <td>0</td>\n",
       "      <td>0.75</td>\n",
       "      <td>0.00</td>\n",
       "      <td>4.00</td>\n",
       "      <td>0.00</td>\n",
       "      <td>nan</td>\n",
       "      <td>nan</td>\n",
       "    </tr>\n",
       "    <tr>\n",
       "      <th>2020-03-15</th>\n",
       "      <td>9</td>\n",
       "      <td>0</td>\n",
       "      <td>0.95</td>\n",
       "      <td>0.00</td>\n",
       "      <td>2.00</td>\n",
       "      <td>0.00</td>\n",
       "      <td>1.14</td>\n",
       "      <td>0.00</td>\n",
       "    </tr>\n",
       "  </tbody>\n",
       "</table>\n",
       "</div>"
      ],
      "text/plain": [
       "            confirmed  deaths  confirmed_per_100k_inhabitants  death_rate  \\\n",
       "date                                                                        \n",
       "2020-03-06          1       0                            0.16        0.00   \n",
       "2020-03-07          2       0                            0.32        0.00   \n",
       "2020-03-09          2       0                            0.32        0.00   \n",
       "2020-03-10          2       0                            0.32        0.00   \n",
       "2020-03-11          3       0                            0.48        0.00   \n",
       "2020-03-12          3       0                            0.48        0.00   \n",
       "2020-03-13          7       0                            0.75        0.00   \n",
       "2020-03-15          9       0                            0.95        0.00   \n",
       "\n",
       "            new_confirmed  new_deaths  mv_confirmed  mv_deaths  \n",
       "date                                                            \n",
       "2020-03-06            nan         nan           nan        nan  \n",
       "2020-03-07           1.00        0.00           nan        nan  \n",
       "2020-03-09           0.00        0.00           nan        nan  \n",
       "2020-03-10           0.00        0.00           nan        nan  \n",
       "2020-03-11           1.00        0.00           nan        nan  \n",
       "2020-03-12           0.00        0.00           nan        nan  \n",
       "2020-03-13           4.00        0.00           nan        nan  \n",
       "2020-03-15           2.00        0.00          1.14       0.00  "
      ]
     },
     "execution_count": 29,
     "metadata": {},
     "output_type": "execute_result"
    }
   ],
   "source": [
    "# criando a coluna de media movel para casos confirmados e mortes\n",
    "\n",
    "cidades_ba_group['mv_confirmed'] = cidades_ba_group['new_confirmed'].rolling(7).mean()\n",
    "cidades_ba_group['mv_deaths'] = cidades_ba_group['new_deaths'].rolling(7).mean()\n",
    "cidades_ba_group.head(8)"
   ]
  },
  {
   "cell_type": "markdown",
   "metadata": {},
   "source": [
    "### Médias móveis"
   ]
  },
  {
   "cell_type": "code",
   "execution_count": 30,
   "metadata": {},
   "outputs": [
    {
     "data": {
      "image/png": "[encoded data removed]",
      "text/plain": [
       "<Figure size 864x432 with 2 Axes>"
      ]
     },
     "metadata": {
      "needs_background": "light"
     },
     "output_type": "display_data"
    }
   ],
   "source": [
    "fig, ax = plt.subplots(2,figsize=(12,6), tight_layout=True, sharex=True)\n",
    "\n",
    "ax[0].plot(cidades_ba_group['mv_confirmed'].index, cidades_ba_group['mv_confirmed'].values)\n",
    "ax[0].xaxis.set_major_locator(ticker.IndexLocator(base=7, offset=0))\n",
    "ax[0].set_ylabel('Confirmados')\n",
    "\n",
    "ax[1].plot(cidades_ba_group['mv_deaths'].index, cidades_ba_group['mv_deaths'].values)\n",
    "ax[1].xaxis.set_major_locator(ticker.IndexLocator(base=7, offset=0))\n",
    "ax[1].set_ylabel('Obitos')\n",
    "\n",
    "plt.xticks(rotation=90, fontsize=12)\n",
    "plt.suptitle('Covid na Bahia: média móvel semanal', fontsize=14);\n"
   ]
  },
  {
   "cell_type": "code",
   "execution_count": 31,
   "metadata": {},
   "outputs": [],
   "source": [
    "micro_regioes = {'Barreiras':tuple(barreiras), 'Cotegipe':tuple(cotegipe), 'Sta Maria da Vitoria':tuple(sta_maria_vit),\n",
    "                'Juazeiro':tuple(juazeiro), 'Paulo Afonso':tuple(paulo_afonso), 'Barra':tuple(barra), 'B. Jesus da Lapa':tuple(bom_jesus_lapa),\n",
    "                'Senhor do Bonfim':tuple(senhor_bonfim), 'Irece':tuple(irece), 'Jacobina':tuple(jacobina), 'Itaberaba':tuple(itaberada), \n",
    "                'Feira de Santana':tuple(feira_santana), 'Jeremoabo':tuple(jeremoabo), 'Euclides da Cunha':tuple(euclides_cunha),\n",
    "                'Ribeira do Pombal':tuple(rib_pombal), 'Serrinha':tuple(serrinha), 'Alagoinhas':tuple(alagoinhas), 'Entre Rios':tuple(entre_rios),\n",
    "                'Catu':tuple(catu), 'Sto Ant de Jesus':tuple(sto_antonio), 'Salvador':tuple(salvador), 'Boquira':tuple(boquira), 'Seabra':tuple(seabra),\n",
    "                'Jequie':tuple(jequie), 'Livramento do Brumado':tuple(liv_brumado), 'Guanambi':tuple(guanambi), 'Brumado':tuple(brumado), \n",
    "                'Vit da Conquista':tuple(vit_conquista), 'Itapetinga':tuple(itapetinga), 'Valenca':tuple(valenca), 'Porto Seguro':tuple(porto_seguro),\n",
    "                'Ilheus-Itabuna':tuple(ios_itabuna)}"
   ]
  },
  {
   "cell_type": "code",
   "execution_count": 32,
   "metadata": {},
   "outputs": [],
   "source": [
    "d = {}\n",
    "x = ''\n",
    "for i in cidades_ba['city'].unique():\n",
    "    for m in micro_regioes.keys():\n",
    "        if i in micro_regioes[m]:\n",
    "            d[i] = m\n",
    "        else:\n",
    "            x = 'Sem'"
   ]
  },
  {
   "cell_type": "code",
   "execution_count": 33,
   "metadata": {},
   "outputs": [
    {
     "name": "stderr",
     "output_type": "stream",
     "text": [
      "c:\\python\\python37\\lib\\site-packages\\ipykernel_launcher.py:1: SettingWithCopyWarning: \n",
      "A value is trying to be set on a copy of a slice from a DataFrame.\n",
      "Try using .loc[row_indexer,col_indexer] = value instead\n",
      "\n",
      "See the caveats in the documentation: https://pandas.pydata.org/pandas-docs/stable/user_guide/indexing.html#returning-a-view-versus-a-copy\n",
      "  \"\"\"Entry point for launching an IPython kernel.\n"
     ]
    }
   ],
   "source": [
    "cidades_ba['micro_region'] = cidades_ba['city'].map(d)"
   ]
  },
  {
   "cell_type": "code",
   "execution_count": 34,
   "metadata": {},
   "outputs": [
    {
     "data": {
      "text/plain": [
       "array([], dtype=object)"
      ]
     },
     "execution_count": 34,
     "metadata": {},
     "output_type": "execute_result"
    }
   ],
   "source": [
    "cidades_ba[cidades_ba['micro_region'].isna()]['city'].unique()"
   ]
  },
  {
   "cell_type": "code",
   "execution_count": 35,
   "metadata": {},
   "outputs": [
    {
     "data": {
      "text/plain": [
       "179039.87039163068"
      ]
     },
     "execution_count": 35,
     "metadata": {},
     "output_type": "execute_result"
    }
   ],
   "source": [
    "cidades_ba.groupby('city').sum()['confirmed_per_100k_inhabitants'].mean()"
   ]
  },
  {
   "cell_type": "code",
   "execution_count": 36,
   "metadata": {},
   "outputs": [
    {
     "ename": "ValueError",
     "evalue": "The truth value of a DataFrame is ambiguous. Use a.empty, a.bool(), a.item(), a.any() or a.all().",
     "output_type": "error",
     "traceback": [
      "\u001b[1;31m---------------------------------------------------------------------------\u001b[0m",
      "\u001b[1;31mValueError\u001b[0m                                Traceback (most recent call last)",
      "\u001b[1;32m<ipython-input-36-23b06bb47fbc>\u001b[0m in \u001b[0;36m<module>\u001b[1;34m\u001b[0m\n\u001b[0;32m      3\u001b[0m \u001b[0mmicro_reg\u001b[0m\u001b[1;33m[\u001b[0m\u001b[1;34m'confirmed_per_100k_inhabitants'\u001b[0m\u001b[1;33m]\u001b[0m \u001b[1;33m=\u001b[0m \u001b[0mmicro_reg\u001b[0m\u001b[1;33m[\u001b[0m\u001b[1;34m'confirmed'\u001b[0m\u001b[1;33m]\u001b[0m\u001b[1;33m/\u001b[0m\u001b[1;33m(\u001b[0m\u001b[0mmicro_reg\u001b[0m\u001b[1;33m[\u001b[0m\u001b[1;34m'estimated_population'\u001b[0m\u001b[1;33m]\u001b[0m\u001b[1;33m/\u001b[0m\u001b[1;36m100000\u001b[0m\u001b[1;33m)\u001b[0m\u001b[1;33m\u001b[0m\u001b[0m\n\u001b[0;32m      4\u001b[0m \u001b[0mmicro_reg\u001b[0m\u001b[1;33m[\u001b[0m\u001b[1;34m'confirmed_per_100k_inhabitants'\u001b[0m\u001b[1;33m]\u001b[0m\u001b[1;33m.\u001b[0m\u001b[0msort_values\u001b[0m\u001b[1;33m(\u001b[0m\u001b[0mascending\u001b[0m\u001b[1;33m=\u001b[0m\u001b[1;32mFalse\u001b[0m\u001b[1;33m)\u001b[0m\u001b[1;33m.\u001b[0m\u001b[0mplot\u001b[0m\u001b[1;33m(\u001b[0m\u001b[0mkind\u001b[0m\u001b[1;33m=\u001b[0m\u001b[1;34m'bar'\u001b[0m\u001b[1;33m,\u001b[0m \u001b[0mfigsize\u001b[0m\u001b[1;33m=\u001b[0m\u001b[1;33m(\u001b[0m\u001b[1;36m10\u001b[0m\u001b[1;33m,\u001b[0m\u001b[1;36m8\u001b[0m\u001b[1;33m)\u001b[0m\u001b[1;33m)\u001b[0m\u001b[1;33m\u001b[0m\u001b[0m\n\u001b[1;32m----> 5\u001b[1;33m \u001b[0mplt\u001b[0m\u001b[1;33m.\u001b[0m\u001b[0maxhline\u001b[0m\u001b[1;33m(\u001b[0m\u001b[0mn\u001b[0m\u001b[1;33m,\u001b[0m \u001b[0malpha\u001b[0m\u001b[1;33m=\u001b[0m\u001b[1;36m0.5\u001b[0m\u001b[1;33m,\u001b[0m \u001b[0mcolor\u001b[0m\u001b[1;33m=\u001b[0m\u001b[1;34m'red'\u001b[0m\u001b[1;33m)\u001b[0m\u001b[1;33m\u001b[0m\u001b[0m\n\u001b[0m\u001b[0;32m      6\u001b[0m \u001b[0mplt\u001b[0m\u001b[1;33m.\u001b[0m\u001b[0mxlabel\u001b[0m\u001b[1;33m(\u001b[0m\u001b[1;34m'microrregião'\u001b[0m\u001b[1;33m)\u001b[0m\u001b[1;33m\u001b[0m\u001b[0m\n\u001b[0;32m      7\u001b[0m \u001b[0mplt\u001b[0m\u001b[1;33m.\u001b[0m\u001b[0mtitle\u001b[0m\u001b[1;33m(\u001b[0m\u001b[1;34m'Casos confirmados por 100 mil habitantes'\u001b[0m\u001b[1;33m,\u001b[0m \u001b[0mfontsize\u001b[0m\u001b[1;33m=\u001b[0m\u001b[1;36m14\u001b[0m\u001b[1;33m)\u001b[0m\u001b[1;33m;\u001b[0m\u001b[1;33m\u001b[0m\u001b[0m\n",
      "\u001b[1;32m~\\AppData\\Roaming\\Python\\Python37\\site-packages\\matplotlib\\pyplot.py\u001b[0m in \u001b[0;36maxhline\u001b[1;34m(y, xmin, xmax, **kwargs)\u001b[0m\n\u001b[0;32m   2447\u001b[0m \u001b[1;33m@\u001b[0m\u001b[0m_copy_docstring_and_deprecators\u001b[0m\u001b[1;33m(\u001b[0m\u001b[0mAxes\u001b[0m\u001b[1;33m.\u001b[0m\u001b[0maxhline\u001b[0m\u001b[1;33m)\u001b[0m\u001b[1;33m\u001b[0m\u001b[0m\n\u001b[0;32m   2448\u001b[0m \u001b[1;32mdef\u001b[0m \u001b[0maxhline\u001b[0m\u001b[1;33m(\u001b[0m\u001b[0my\u001b[0m\u001b[1;33m=\u001b[0m\u001b[1;36m0\u001b[0m\u001b[1;33m,\u001b[0m \u001b[0mxmin\u001b[0m\u001b[1;33m=\u001b[0m\u001b[1;36m0\u001b[0m\u001b[1;33m,\u001b[0m \u001b[0mxmax\u001b[0m\u001b[1;33m=\u001b[0m\u001b[1;36m1\u001b[0m\u001b[1;33m,\u001b[0m \u001b[1;33m**\u001b[0m\u001b[0mkwargs\u001b[0m\u001b[1;33m)\u001b[0m\u001b[1;33m:\u001b[0m\u001b[1;33m\u001b[0m\u001b[0m\n\u001b[1;32m-> 2449\u001b[1;33m     \u001b[1;32mreturn\u001b[0m \u001b[0mgca\u001b[0m\u001b[1;33m(\u001b[0m\u001b[1;33m)\u001b[0m\u001b[1;33m.\u001b[0m\u001b[0maxhline\u001b[0m\u001b[1;33m(\u001b[0m\u001b[0my\u001b[0m\u001b[1;33m=\u001b[0m\u001b[0my\u001b[0m\u001b[1;33m,\u001b[0m \u001b[0mxmin\u001b[0m\u001b[1;33m=\u001b[0m\u001b[0mxmin\u001b[0m\u001b[1;33m,\u001b[0m \u001b[0mxmax\u001b[0m\u001b[1;33m=\u001b[0m\u001b[0mxmax\u001b[0m\u001b[1;33m,\u001b[0m \u001b[1;33m**\u001b[0m\u001b[0mkwargs\u001b[0m\u001b[1;33m)\u001b[0m\u001b[1;33m\u001b[0m\u001b[0m\n\u001b[0m\u001b[0;32m   2450\u001b[0m \u001b[1;33m\u001b[0m\u001b[0m\n\u001b[0;32m   2451\u001b[0m \u001b[1;33m\u001b[0m\u001b[0m\n",
      "\u001b[1;32m~\\AppData\\Roaming\\Python\\Python37\\site-packages\\matplotlib\\axes\\_axes.py\u001b[0m in \u001b[0;36maxhline\u001b[1;34m(self, y, xmin, xmax, **kwargs)\u001b[0m\n\u001b[0;32m    841\u001b[0m         \u001b[0mself\u001b[0m\u001b[1;33m.\u001b[0m\u001b[0m_process_unit_info\u001b[0m\u001b[1;33m(\u001b[0m\u001b[0mydata\u001b[0m\u001b[1;33m=\u001b[0m\u001b[0my\u001b[0m\u001b[1;33m,\u001b[0m \u001b[0mkwargs\u001b[0m\u001b[1;33m=\u001b[0m\u001b[0mkwargs\u001b[0m\u001b[1;33m)\u001b[0m\u001b[1;33m\u001b[0m\u001b[0m\n\u001b[0;32m    842\u001b[0m         \u001b[0myy\u001b[0m \u001b[1;33m=\u001b[0m \u001b[0mself\u001b[0m\u001b[1;33m.\u001b[0m\u001b[0mconvert_yunits\u001b[0m\u001b[1;33m(\u001b[0m\u001b[0my\u001b[0m\u001b[1;33m)\u001b[0m\u001b[1;33m\u001b[0m\u001b[0m\n\u001b[1;32m--> 843\u001b[1;33m         \u001b[0mscaley\u001b[0m \u001b[1;33m=\u001b[0m \u001b[1;33m(\u001b[0m\u001b[0myy\u001b[0m \u001b[1;33m<\u001b[0m \u001b[0mymin\u001b[0m\u001b[1;33m)\u001b[0m \u001b[1;32mor\u001b[0m \u001b[1;33m(\u001b[0m\u001b[0myy\u001b[0m \u001b[1;33m>\u001b[0m \u001b[0mymax\u001b[0m\u001b[1;33m)\u001b[0m\u001b[1;33m\u001b[0m\u001b[0m\n\u001b[0m\u001b[0;32m    844\u001b[0m \u001b[1;33m\u001b[0m\u001b[0m\n\u001b[0;32m    845\u001b[0m         \u001b[0mtrans\u001b[0m \u001b[1;33m=\u001b[0m \u001b[0mself\u001b[0m\u001b[1;33m.\u001b[0m\u001b[0mget_yaxis_transform\u001b[0m\u001b[1;33m(\u001b[0m\u001b[0mwhich\u001b[0m\u001b[1;33m=\u001b[0m\u001b[1;34m'grid'\u001b[0m\u001b[1;33m)\u001b[0m\u001b[1;33m\u001b[0m\u001b[0m\n",
      "\u001b[1;32mc:\\python\\python37\\lib\\site-packages\\pandas\\core\\generic.py\u001b[0m in \u001b[0;36m__nonzero__\u001b[1;34m(self)\u001b[0m\n\u001b[0;32m   1477\u001b[0m     \u001b[1;32mdef\u001b[0m \u001b[0m__nonzero__\u001b[0m\u001b[1;33m(\u001b[0m\u001b[0mself\u001b[0m\u001b[1;33m)\u001b[0m\u001b[1;33m:\u001b[0m\u001b[1;33m\u001b[0m\u001b[0m\n\u001b[0;32m   1478\u001b[0m         raise ValueError(\n\u001b[1;32m-> 1479\u001b[1;33m             \u001b[1;34mf\"The truth value of a {type(self).__name__} is ambiguous. \"\u001b[0m\u001b[1;33m\u001b[0m\u001b[0m\n\u001b[0m\u001b[0;32m   1480\u001b[0m             \u001b[1;34m\"Use a.empty, a.bool(), a.item(), a.any() or a.all().\"\u001b[0m\u001b[1;33m\u001b[0m\u001b[0m\n\u001b[0;32m   1481\u001b[0m         )\n",
      "\u001b[1;31mValueError\u001b[0m: The truth value of a DataFrame is ambiguous. Use a.empty, a.bool(), a.item(), a.any() or a.all()."
     ]
    },
    {
     "data": {
      "image/png": "[encoded data removed]",
      "text/plain": [
       "<Figure size 720x576 with 1 Axes>"
      ]
     },
     "metadata": {
      "needs_background": "light"
     },
     "output_type": "display_data"
    }
   ],
   "source": [
    "micro_reg = cidades_ba[cidades_ba['is_last']==True].groupby('micro_region').sum()\n",
    "micro_reg['death_rate'] = micro_reg['deaths'] / micro_reg['confirmed']\n",
    "micro_reg['confirmed_per_100k_inhabitants'] = micro_reg['confirmed']/(micro_reg['estimated_population']/100000)\n",
    "micro_reg['confirmed_per_100k_inhabitants'].sort_values(ascending=False).plot(kind='bar', figsize=(10,8))\n",
    "plt.axhline(n, alpha=0.5, color='red')\n",
    "plt.xlabel('microrregião')\n",
    "plt.title('Casos confirmados por 100 mil habitantes', fontsize=14);"
   ]
  },
  {
   "cell_type": "code",
   "execution_count": null,
   "metadata": {},
   "outputs": [],
   "source": [
    "(cidades_ba[cidades_ba['is_last']==True]['deaths'].sum())/(cidades_ba[cidades_ba['is_last']==True]['estimated_population'].sum()/100000)"
   ]
  },
  {
   "cell_type": "code",
   "execution_count": null,
   "metadata": {},
   "outputs": [],
   "source": [
    "(micro_reg['death_rate']*100).sort_values(ascending=False).plot(kind='bar', figsize=(10,8));"
   ]
  },
  {
   "cell_type": "code",
   "execution_count": null,
   "metadata": {},
   "outputs": [],
   "source": [
    "(286862.00/100000)/7237"
   ]
  },
  {
   "cell_type": "code",
   "execution_count": null,
   "metadata": {},
   "outputs": [],
   "source": [
    "ax = (micro_reg['estimated_population']/1000000).sort_values(ascending=False).plot(kind='bar', figsize=(10,8))\n",
    "ax.yaxis.set_major_formatter(ticker.StrMethodFormatter('{x:,.2f} mi'))\n"
   ]
  },
  {
   "cell_type": "code",
   "execution_count": null,
   "metadata": {},
   "outputs": [],
   "source": [
    "micro_reg"
   ]
  },
  {
   "cell_type": "code",
   "execution_count": null,
   "metadata": {},
   "outputs": [],
   "source": [
    "ax = cidades_ba_group['new_deaths'].plot(figsize=(16,8))\n",
    "plt.title('Novas mortes por dia')\n",
    "ax.xaxis.set_major_locator(ticker.IndexLocator(base=7,offset=0))\n",
    "plt.xticks(rotation=90);"
   ]
  },
  {
   "cell_type": "code",
   "execution_count": null,
   "metadata": {},
   "outputs": [],
   "source": []
  },
  {
   "cell_type": "code",
   "execution_count": null,
   "metadata": {},
   "outputs": [],
   "source": [
    "cidades_ba.groupby('date').sum()"
   ]
  },
  {
   "cell_type": "code",
   "execution_count": null,
   "metadata": {},
   "outputs": [],
   "source": [
    "plt.plot(c.index, c['deaths'])"
   ]
  },
  {
   "cell_type": "code",
   "execution_count": null,
   "metadata": {},
   "outputs": [],
   "source": []
  },
  {
   "cell_type": "code",
   "execution_count": null,
   "metadata": {},
   "outputs": [],
   "source": [
    "contrato = pd.read_csv('deaths_brazil.csv')"
   ]
  },
  {
   "cell_type": "code",
   "execution_count": null,
   "metadata": {},
   "outputs": [],
   "source": [
    "contrato"
   ]
  },
  {
   "cell_type": "code",
   "execution_count": null,
   "metadata": {},
   "outputs": [],
   "source": []
  },
  {
   "cell_type": "markdown",
   "metadata": {},
   "source": [
    "## Estados"
   ]
  },
  {
   "cell_type": "code",
   "execution_count": null,
   "metadata": {},
   "outputs": [],
   "source": [
    "df_estados = df[df['place_type']=='state']\n",
    "df_estados.loc[df_estados['date'].apply(lambda x: x.month)==7]"
   ]
  },
  {
   "cell_type": "code",
   "execution_count": null,
   "metadata": {},
   "outputs": [],
   "source": [
    "d = pd.Timedelta(365,'D')"
   ]
  },
  {
   "cell_type": "code",
   "execution_count": null,
   "metadata": {},
   "outputs": [],
   "source": [
    "mortes = pd.read_csv('deaths_brazil.csv')\n",
    "#mortes.groupby(['year', 'month']).sum()['deaths'].loc[1970].pct_change(freq=2)\n",
    "mortes.head()"
   ]
  },
  {
   "cell_type": "code",
   "execution_count": null,
   "metadata": {},
   "outputs": [],
   "source": [
    "for i in np.arange(1970,2021):\n",
    "    mortes.groupby(['year', 'month']).sum()['deaths'].loc[i][2:8]\n",
    "    "
   ]
  },
  {
   "cell_type": "code",
   "execution_count": null,
   "metadata": {},
   "outputs": [],
   "source": [
    "pivot = pd.pivot_table(data=mortes,index='month', columns='year')[1:8].pct_change(axis=1)\n",
    "pivot = pivot[1:]\n",
    "pivot"
   ]
  },
  {
   "cell_type": "code",
   "execution_count": null,
   "metadata": {},
   "outputs": [],
   "source": [
    "pivot = pivot.T.loc['deaths']"
   ]
  },
  {
   "cell_type": "code",
   "execution_count": null,
   "metadata": {},
   "outputs": [],
   "source": [
    "pivot.columns"
   ]
  },
  {
   "cell_type": "code",
   "execution_count": null,
   "metadata": {
    "scrolled": false
   },
   "outputs": [],
   "source": [
    "plt.figure(figsize=(16,10))\n",
    "plt.plot(pivot)\n",
    "handles = pivot.columns\n",
    "plt.legend(handles);"
   ]
  },
  {
   "cell_type": "code",
   "execution_count": null,
   "metadata": {},
   "outputs": [],
   "source": [
    "prices = {\n",
    "'ACME': 45.23,\n",
    "'AAPL': 612.78,\n",
    "'IBM': 205.55,\n",
    "'HPQ': 37.20,\n",
    "'FB': 10.75\n",
    "}"
   ]
  },
  {
   "cell_type": "code",
   "execution_count": null,
   "metadata": {},
   "outputs": [],
   "source": [
    "p = {\n",
    "'ACME': 45.23,\n",
    "'AAPL': 612.78}"
   ]
  },
  {
   "cell_type": "code",
   "execution_count": null,
   "metadata": {},
   "outputs": [],
   "source": [
    "prices.keys()"
   ]
  },
  {
   "cell_type": "code",
   "execution_count": null,
   "metadata": {},
   "outputs": [],
   "source": [
    "pd.read_csv('Banco Estadual COVID-19 CONFIRMADOS_26-11-2020.csv', encoding='latin1', sep=';').iloc[0]"
   ]
  },
  {
   "cell_type": "code",
   "execution_count": null,
   "metadata": {},
   "outputs": [],
   "source": [
    "geo = {\n",
    "  \"type\": \"FeatureCollection\",\n",
    "  \"features\": [\n",
    "    {\n",
    "      \"type\": \"Feature\",\n",
    "      \"properties\": {\n",
    "        \"stroke\": \"#555555\",\n",
    "        \"stroke-width\": 2,\n",
    "        \"stroke-opacity\": 1,\n",
    "        \"fill\": \"#555555\",\n",
    "        \"fill-opacity\": 0.5,\n",
    "        \"bairro\": \"centro\"\n",
    "      },\n",
    "      \"geometry\": {\n",
    "        \"type\": \"Polygon\",\n",
    "        \"coordinates\": [\n",
    "          [\n",
    "            [\n",
    "              -39.59378242492675,\n",
    "              -14.865906408017787\n",
    "            ],\n",
    "            [\n",
    "              -39.59000587463379,\n",
    "              -14.868063301135761\n",
    "            ],\n",
    "            [\n",
    "              -39.58528518676758,\n",
    "              -14.866984857271085\n",
    "            ],\n",
    "            [\n",
    "              -39.58296775817871,\n",
    "              -14.862753986999232\n",
    "            ],\n",
    "            [\n",
    "              -39.585714340209954,\n",
    "              -14.861509597609741\n",
    "            ],\n",
    "            [\n",
    "              -39.59429740905762,\n",
    "              -14.861011839845801\n",
    "            ],\n",
    "            [\n",
    "              -39.59378242492675,\n",
    "              -14.865906408017787\n",
    "            ]\n",
    "          ]\n",
    "        ]\n",
    "      }\n",
    "    },\n",
    "    {\n",
    "      \"type\": \"Feature\",\n",
    "      \"properties\": {\n",
    "        \"stroke\": \"#555555\",\n",
    "        \"stroke-width\": 2,\n",
    "        \"stroke-opacity\": 1,\n",
    "        \"fill\": \"#555555\",\n",
    "        \"fill-opacity\": 0.5,\n",
    "        \"bairro\": \"bela vista\"\n",
    "      },\n",
    "      \"geometry\": {\n",
    "        \"type\": \"Polygon\",\n",
    "        \"coordinates\": [\n",
    "          [\n",
    "            [\n",
    "              -39.5851993560791,\n",
    "              -14.866735984844745\n",
    "            ],\n",
    "            [\n",
    "              -39.58245277404785,\n",
    "              -14.875114532038921\n",
    "            ],\n",
    "            [\n",
    "              -39.57867622375488,\n",
    "              -14.875031577720888\n",
    "            ],\n",
    "            [\n",
    "              -39.57841873168945,\n",
    "              -14.87071790922756\n",
    "            ],\n",
    "            [\n",
    "              -39.58125114440918,\n",
    "              -14.867067814682768\n",
    "            ],\n",
    "            [\n",
    "              -39.58425521850586,\n",
    "              -14.865242744260641\n",
    "            ],\n",
    "            [\n",
    "              -39.5851993560791,\n",
    "              -14.866735984844745\n",
    "            ]\n",
    "          ]\n",
    "        ]\n",
    "      }\n",
    "    },\n",
    "    {\n",
    "      \"type\": \"Feature\",\n",
    "      \"properties\": {\n",
    "        \"stroke\": \"#555555\",\n",
    "        \"stroke-width\": 2,\n",
    "        \"stroke-opacity\": 1,\n",
    "        \"fill\": \"#555555\",\n",
    "        \"fill-opacity\": 0.5,\n",
    "        \"bairro\": \"duque\"\n",
    "      },\n",
    "      \"geometry\": {\n",
    "        \"type\": \"Polygon\",\n",
    "        \"coordinates\": [\n",
    "          [\n",
    "            [\n",
    "              -39.585371017456055,\n",
    "              -14.861260718871208\n",
    "            ],\n",
    "            [\n",
    "              -39.583139419555664,\n",
    "              -14.862339191332962\n",
    "            ],\n",
    "            [\n",
    "              -39.57721710205078,\n",
    "              -14.85702973642895\n",
    "            ],\n",
    "            [\n",
    "              -39.58004951477051,\n",
    "              -14.85669789116324\n",
    "            ],\n",
    "            [\n",
    "              -39.58545684814453,\n",
    "              -14.858274151634381\n",
    "            ],\n",
    "            [\n",
    "              -39.585371017456055,\n",
    "              -14.861260718871208\n",
    "            ]\n",
    "          ]\n",
    "        ]\n",
    "      }\n",
    "    },\n",
    "    {\n",
    "      \"type\": \"Feature\",\n",
    "      \"properties\": {\n",
    "        \"stroke\": \"#555555\",\n",
    "        \"stroke-width\": 2,\n",
    "        \"stroke-opacity\": 1,\n",
    "        \"fill\": \"#555555\",\n",
    "        \"fill-opacity\": 0.5,\n",
    "        \"bairro\": \"luxo\"\n",
    "      },\n",
    "      \"geometry\": {\n",
    "        \"type\": \"Polygon\",\n",
    "        \"coordinates\": [\n",
    "          [\n",
    "            [\n",
    "              -39.59901809692383,\n",
    "              -14.866238239131189\n",
    "            ],\n",
    "            [\n",
    "              -39.59901809692383,\n",
    "              -14.86856104264035\n",
    "            ],\n",
    "            [\n",
    "              -39.59524154663086,\n",
    "              -14.869556522205544\n",
    "            ],\n",
    "            [\n",
    "              -39.593095779418945,\n",
    "              -14.869141739611443\n",
    "            ],\n",
    "            [\n",
    "              -39.59077835083008,\n",
    "              -14.868146258132903\n",
    "            ],\n",
    "            [\n",
    "              -39.59421157836914,\n",
    "              -14.865823450159745\n",
    "            ],\n",
    "            [\n",
    "              -39.59901809692383,\n",
    "              -14.866238239131189\n",
    "            ]\n",
    "          ]\n",
    "        ]\n",
    "      }\n",
    "    },\n",
    "    {\n",
    "      \"type\": \"Feature\",\n",
    "      \"properties\": {\n",
    "        \"stroke\": \"#555555\",\n",
    "        \"stroke-width\": 2,\n",
    "        \"stroke-opacity\": 1,\n",
    "        \"fill\": \"#555555\",\n",
    "        \"fill-opacity\": 0.5,\n",
    "        \"bairro\": \"mutirao\"\n",
    "      },\n",
    "      \"geometry\": {\n",
    "        \"type\": \"Polygon\",\n",
    "        \"coordinates\": [\n",
    "          [\n",
    "            [\n",
    "              -39.595413208007805,\n",
    "              -14.856531968339201\n",
    "            ],\n",
    "            [\n",
    "              -39.59352493286133,\n",
    "              -14.857112697665709\n",
    "            ],\n",
    "            [\n",
    "              -39.59103584289551,\n",
    "              -14.857361581184808\n",
    "            ],\n",
    "            [\n",
    "              -39.58974838256836,\n",
    "              -14.85752750337154\n",
    "            ],\n",
    "            [\n",
    "              -39.588375091552734,\n",
    "              -14.855702352307098\n",
    "            ],\n",
    "            [\n",
    "              -39.588375091552734,\n",
    "              -14.854457922284608\n",
    "            ],\n",
    "            [\n",
    "              -39.590091705322266,\n",
    "              -14.853877185820782\n",
    "            ],\n",
    "            [\n",
    "              -39.59558486938476,\n",
    "              -14.8560341991023\n",
    "            ],\n",
    "            [\n",
    "              -39.595413208007805,\n",
    "              -14.856531968339201\n",
    "            ]\n",
    "          ]\n",
    "        ]\n",
    "      }\n",
    "    }\n",
    "  ]\n",
    "}"
   ]
  },
  {
   "cell_type": "code",
   "execution_count": null,
   "metadata": {},
   "outputs": [],
   "source": [
    "ibi = {'bairro':['centro', 'luxo', 'mutirao', 'bela vista', 'duque'], 'numero':[34, 56, 12, 78, 98]}\n",
    "i = pd.DataFrame(ibi, columns=['bairro', 'numero'])\n",
    "i"
   ]
  },
  {
   "cell_type": "code",
   "execution_count": null,
   "metadata": {},
   "outputs": [],
   "source": [
    "bahia = 'https://raw.githubusercontent.com/tbrugz/geodata-br/master/geojson/geojs-29-mun.json'"
   ]
  },
  {
   "cell_type": "code",
   "execution_count": null,
   "metadata": {},
   "outputs": [],
   "source": [
    "c = cidades_ba[cidades_ba['is_last']==True]"
   ]
  },
  {
   "cell_type": "code",
   "execution_count": null,
   "metadata": {},
   "outputs": [],
   "source": [
    "\n",
    "m = folium.Map(location=[-12.5797, -41.7007], zoom_start=7)\n",
    "folium.Choropleth(\n",
    "    geo_data=bahia,\n",
    "    data=c,\n",
    "    bins=[0, 3, 6, 9, 12, 15, 18, 23],\n",
    "    columns=['city', 'death_rate'],\n",
    "    key_on='feature.properties.name',\n",
    "    fill_color='Reds',\n",
    "    fill_opacity=0.7,\n",
    "    line_opacity=0.2,\n",
    "    legend_name='Populacao',\n",
    "    highlight=True\n",
    ").add_to(m)\n",
    "\n",
    "m"
   ]
  },
  {
   "cell_type": "code",
   "execution_count": null,
   "metadata": {},
   "outputs": [],
   "source": [
    "m.save(outfile='testScores.html')"
   ]
  },
  {
   "cell_type": "code",
   "execution_count": null,
   "metadata": {},
   "outputs": [],
   "source": [
    "c['estimated_population'] = c['estimated_population'].astype('float64')"
   ]
  },
  {
   "cell_type": "code",
   "execution_count": null,
   "metadata": {},
   "outputs": [],
   "source": [
    "c['city'].replace({'Iuiu':'Iuiú', 'Muquém do São Francisco':'Muquém de São Francisco', 'Araçás':'Araças'}, inplace=True)"
   ]
  },
  {
   "cell_type": "code",
   "execution_count": null,
   "metadata": {},
   "outputs": [],
   "source": [
    "c['death_rate']=c['death_rate']*100"
   ]
  },
  {
   "cell_type": "code",
   "execution_count": null,
   "metadata": {},
   "outputs": [],
   "source": [
    "ios = c[c['micro_region']=='Ilheus-Itabuna']"
   ]
  },
  {
   "cell_type": "code",
   "execution_count": 37,
   "metadata": {},
   "outputs": [
    {
     "ename": "NameError",
     "evalue": "name 'bahia' is not defined",
     "output_type": "error",
     "traceback": [
      "\u001b[1;31m---------------------------------------------------------------------------\u001b[0m",
      "\u001b[1;31mNameError\u001b[0m                                 Traceback (most recent call last)",
      "\u001b[1;32m<ipython-input-37-a41b9a2d5ce8>\u001b[0m in \u001b[0;36m<module>\u001b[1;34m\u001b[0m\n\u001b[0;32m      2\u001b[0m \u001b[0mm1\u001b[0m \u001b[1;33m=\u001b[0m \u001b[0mfolium\u001b[0m\u001b[1;33m.\u001b[0m\u001b[0mMap\u001b[0m\u001b[1;33m(\u001b[0m\u001b[0mlocation\u001b[0m\u001b[1;33m=\u001b[0m\u001b[1;33m[\u001b[0m\u001b[1;33m-\u001b[0m\u001b[1;36m12.5797\u001b[0m\u001b[1;33m,\u001b[0m \u001b[1;33m-\u001b[0m\u001b[1;36m41.7007\u001b[0m\u001b[1;33m]\u001b[0m\u001b[1;33m,\u001b[0m \u001b[0mzoom_start\u001b[0m\u001b[1;33m=\u001b[0m\u001b[1;36m6\u001b[0m\u001b[1;33m)\u001b[0m\u001b[1;33m\u001b[0m\u001b[0m\n\u001b[0;32m      3\u001b[0m folium.Choropleth(\n\u001b[1;32m----> 4\u001b[1;33m     \u001b[0mgeo_data\u001b[0m\u001b[1;33m=\u001b[0m\u001b[0mbahia\u001b[0m\u001b[1;33m,\u001b[0m\u001b[1;33m\u001b[0m\u001b[0m\n\u001b[0m\u001b[0;32m      5\u001b[0m     \u001b[0mdata\u001b[0m\u001b[1;33m=\u001b[0m\u001b[0mc\u001b[0m\u001b[1;33m,\u001b[0m\u001b[1;33m\u001b[0m\u001b[0m\n\u001b[0;32m      6\u001b[0m     \u001b[0mbins\u001b[0m\u001b[1;33m=\u001b[0m\u001b[0mnp\u001b[0m\u001b[1;33m.\u001b[0m\u001b[0mlinspace\u001b[0m\u001b[1;33m(\u001b[0m\u001b[1;36m0\u001b[0m\u001b[1;33m,\u001b[0m\u001b[1;36m23\u001b[0m\u001b[1;33m,\u001b[0m \u001b[1;36m10\u001b[0m\u001b[1;33m)\u001b[0m\u001b[1;33m,\u001b[0m\u001b[1;33m\u001b[0m\u001b[0m\n",
      "\u001b[1;31mNameError\u001b[0m: name 'bahia' is not defined"
     ]
    }
   ],
   "source": [
    "fig=Figure(width=500,height=350)\n",
    "m1 = folium.Map(location=[-12.5797, -41.7007], zoom_start=6)\n",
    "folium.Choropleth(\n",
    "    geo_data=bahia,\n",
    "    data=c,\n",
    "    bins=np.linspace(0,23, 10),\n",
    "    columns=['city', 'death_rate'],\n",
    "    key_on='feature.properties.name',\n",
    "    fill_color='BuPu',\n",
    "    fill_opacity=0.7,\n",
    "    line_opacity=0.2,\n",
    "    legend_name='Populacao',\n",
    "    highlight=True\n",
    ").add_to(m1)\n",
    "\n",
    "fig.add_child(m1)\n",
    "\n",
    "m1"
   ]
  },
  {
   "cell_type": "code",
   "execution_count": null,
   "metadata": {},
   "outputs": [],
   "source": []
  }
 ],
 "metadata": {
  "colab": {
   "include_colab_link": true,
   "name": "Projeto Módulo 01.ipynb",
   "provenance": []
  },
  "kernelspec": {
   "display_name": "Python 3",
   "language": "python",
   "name": "python3"
  },
  "language_info": {
   "codemirror_mode": {
    "name": "ipython",
    "version": 3
   },
   "file_extension": ".py",
   "mimetype": "text/x-python",
   "name": "python",
   "nbconvert_exporter": "python",
   "pygments_lexer": "ipython3",
   "version": "3.7.0"
  }
 },
 "nbformat": 4,
 "nbformat_minor": 1
}
